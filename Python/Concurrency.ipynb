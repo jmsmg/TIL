{
  "nbformat": 4,
  "nbformat_minor": 0,
  "metadata": {
    "colab": {
      "name": "Concurrency.ipynb",
      "provenance": [],
      "collapsed_sections": [],
      "authorship_tag": "ABX9TyP5q+wEVTQwSS/g2Zv9tqIk",
      "include_colab_link": true
    },
    "kernelspec": {
      "name": "python3",
      "display_name": "Python 3"
    },
    "language_info": {
      "name": "python"
    }
  },
  "cells": [
    {
      "cell_type": "markdown",
      "metadata": {
        "id": "view-in-github",
        "colab_type": "text"
      },
      "source": [
        "<a href=\"https://colab.research.google.com/github/jmsmg/TIL/blob/main/Python/Concurrency.ipynb\" target=\"_parent\"><img src=\"https://colab.research.google.com/assets/colab-badge.svg\" alt=\"Open In Colab\"/></a>"
      ]
    },
    {
      "cell_type": "markdown",
      "source": [
        "# 병행성(Concurrency)\n",
        "\n",
        "- 병행성, 흐름제어 설명\n",
        "- 이터레이터(Iterator) : 반복 가능 객체\n",
        "- 제너레이터(Generator) : 반복 가능한 객체를 생산해내는 역할 \n",
        "- \\_\\_iter__, \\_\\_next__\n",
        "- 클래스 기반 제너레이터 구현"
      ],
      "metadata": {
        "id": "c4Q9yUw914rZ"
      }
    },
    {
      "cell_type": "code",
      "source": [
        "# Iterator, Generator\n",
        "# 파이썬 반복 가능한 객체\n",
        "# collections, text file, list, dict, set, tuple, unpacking, *args...\n",
        "\n",
        "# 반복 가능한 이유 -> iter(x) 함수 호출\n",
        "t = 'ABCD'\n",
        "\n",
        "print(dir(t))\n",
        "\n",
        "print('------')\n",
        "\n",
        "# for c in t:\n",
        "#   print(c)\n",
        "\n",
        "print('------')\n",
        "\n",
        "w = iter(t)\n",
        "\n",
        "print(next(w))\n",
        "print(next(w))\n",
        "\n",
        "while True:\n",
        "  try:\n",
        "    print(next(w))\n",
        "  except StopIteration:\n",
        "    break\n",
        "\n",
        "print('------')\n",
        "\n",
        "# 반복형 확인\n",
        "\n",
        "from collections import abc\n",
        "\n",
        "# print(dir(t))\n",
        "print(hasattr(t, '__iter__'))\n",
        "print(isinstance(t, abc.Iterable))"
      ],
      "metadata": {
        "colab": {
          "base_uri": "https://localhost:8080/"
        },
        "id": "se3Wk8We2XHz",
        "outputId": "dbd932e0-5c7c-47d5-bf99-925a05a91c6c"
      },
      "execution_count": null,
      "outputs": [
        {
          "output_type": "stream",
          "name": "stdout",
          "text": [
            "['__add__', '__class__', '__contains__', '__delattr__', '__dir__', '__doc__', '__eq__', '__format__', '__ge__', '__getattribute__', '__getitem__', '__getnewargs__', '__gt__', '__hash__', '__init__', '__init_subclass__', '__iter__', '__le__', '__len__', '__lt__', '__mod__', '__mul__', '__ne__', '__new__', '__reduce__', '__reduce_ex__', '__repr__', '__rmod__', '__rmul__', '__setattr__', '__sizeof__', '__str__', '__subclasshook__', 'capitalize', 'casefold', 'center', 'count', 'encode', 'endswith', 'expandtabs', 'find', 'format', 'format_map', 'index', 'isalnum', 'isalpha', 'isascii', 'isdecimal', 'isdigit', 'isidentifier', 'islower', 'isnumeric', 'isprintable', 'isspace', 'istitle', 'isupper', 'join', 'ljust', 'lower', 'lstrip', 'maketrans', 'partition', 'replace', 'rfind', 'rindex', 'rjust', 'rpartition', 'rsplit', 'rstrip', 'split', 'splitlines', 'startswith', 'strip', 'swapcase', 'title', 'translate', 'upper', 'zfill']\n",
            "------\n",
            "------\n",
            "A\n",
            "B\n",
            "C\n",
            "D\n",
            "------\n",
            "True\n",
            "True\n"
          ]
        }
      ]
    },
    {
      "cell_type": "code",
      "source": [
        "# next\n",
        "class WordSplitter:\n",
        "  def __init__(self, text):\n",
        "    self._idx = 0\n",
        "    self._text = text.split(' ')\n",
        "\n",
        "  def __next__(self):\n",
        "    print('Called __next__')\n",
        "    try:\n",
        "      word = self._text[self._idx]\n",
        "    except IndexError:\n",
        "      raise StopIteration('Stopped Iteration')\n",
        "    self._idx += 1\n",
        "    return word\n",
        "  \n",
        "  def __repr__(self):\n",
        "    return 'WordSplit(%s)' % (self._text)\n",
        "\n",
        "wi = WordSplitter('Do today what you could do tommorow')\n",
        "print(next(wi))\n",
        "print(next(wi))\n",
        "\n",
        "# Generator 패턴\n",
        "# 1. 지능형 리스트, 딕셔너리, 집합 -> 데이터 양 증가 후 메모리 사용량 증가 -> 제너레이터 사용 권장\n",
        "# 2. 단위 실행 가능한 코루틴(coroutine)\n",
        "# 3. 작은 메모리 조각 사용\n",
        "\n",
        "class WordSplitGenerator:\n",
        "  def __init__(self, text):\n",
        "    self._text = text.split(' ')\n",
        "  \n",
        "  def __iter__(self):\n",
        "    for word in self._text:\n",
        "      yield word # 제너레이터 # yield로 상태 저장\n",
        "    return\n",
        "\n",
        "  def __repr__(self):\n",
        "    return 'WordSplitGenerator(%s)' % (self._text)\n",
        "\n",
        "wg = WordSplitGenerator('Do today what you could do tommorow')\n",
        "\n",
        "wt = iter(wg)"
      ],
      "metadata": {
        "id": "men5hnuT-YyB",
        "outputId": "70f6f49b-f7e3-42ac-b544-bfc9796704dd",
        "colab": {
          "base_uri": "https://localhost:8080/"
        }
      },
      "execution_count": null,
      "outputs": [
        {
          "output_type": "stream",
          "name": "stdout",
          "text": [
            "Called __next__\n",
            "Do\n",
            "Called __next__\n",
            "today\n"
          ]
        }
      ]
    },
    {
      "cell_type": "markdown",
      "source": [
        "- 병행성(Concurrency) : 한 컴퓨터가 여러 일을 동시에 수행 (마지막 지점을 알아야함 = 클로저) -> 단일 프로그램안에서 여러 일을 쉽게 처리\n",
        "\n",
        "- 병렬성(Parallelism) : 여러 컴퓨터가 여러 작업을 동시에 수행 -> 속도"
      ],
      "metadata": {
        "id": "c0dpe5sbhtR-"
      }
    },
    {
      "cell_type": "code",
      "source": [
        "# Generator Ex1\n",
        "\n",
        "def generator_ex1():\n",
        "  print('Start')\n",
        "  yield 'A Point'\n",
        "  print('Continue')\n",
        "  yield 'B Point'\n",
        "  print('End')\n",
        "\n",
        "temp = iter(generator_ex1())\n",
        "\n",
        "# print(temp)\n",
        "print(next(temp))\n",
        "\n",
        "for v in generator_ex1():\n",
        "  pass\n",
        "  print(v)\n",
        "\n",
        "# Generator Ex2\n",
        "temp2 = [x * 3 for x in generator_ex1()]\n",
        "temp3 = (x * 3 for x in generator_ex1())\n",
        "\n",
        "print('----')\n",
        "print(temp2)\n",
        "\n",
        "for i in temp3:\n",
        "  print(i)"
      ],
      "metadata": {
        "id": "EvYukfobieBx",
        "outputId": "b2ee11f1-80bb-434b-8941-f438d4bef25d",
        "colab": {
          "base_uri": "https://localhost:8080/"
        }
      },
      "execution_count": 12,
      "outputs": [
        {
          "output_type": "stream",
          "name": "stdout",
          "text": [
            "Start\n",
            "A Point\n",
            "Start\n",
            "A Point\n",
            "Continue\n",
            "B Point\n",
            "End\n",
            "Start\n",
            "Continue\n",
            "End\n",
            "----\n",
            "['A PointA PointA Point', 'B PointB PointB Point']\n",
            "Start\n",
            "A PointA PointA Point\n",
            "Continue\n",
            "B PointB PointB Point\n",
            "End\n"
          ]
        }
      ]
    },
    {
      "cell_type": "code",
      "source": [
        "# Generator Ex3(중요 함수)\n",
        "# filterfalse, accumulate,"
      ],
      "metadata": {
        "id": "wgbK6C-vi6n3"
      },
      "execution_count": null,
      "outputs": []
    }
  ]
}