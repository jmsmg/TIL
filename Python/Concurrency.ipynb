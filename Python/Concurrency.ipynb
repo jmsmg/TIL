{
  "nbformat": 4,
  "nbformat_minor": 0,
  "metadata": {
    "colab": {
      "name": "Concurrency.ipynb",
      "provenance": [],
      "collapsed_sections": [],
      "authorship_tag": "ABX9TyPUkz6S4iscMTQQEeCigkyt",
      "include_colab_link": true
    },
    "kernelspec": {
      "name": "python3",
      "display_name": "Python 3"
    },
    "language_info": {
      "name": "python"
    }
  },
  "cells": [
    {
      "cell_type": "markdown",
      "metadata": {
        "id": "view-in-github",
        "colab_type": "text"
      },
      "source": [
        "<a href=\"https://colab.research.google.com/github/jmsmg/TIL/blob/main/Python/Concurrency.ipynb\" target=\"_parent\"><img src=\"https://colab.research.google.com/assets/colab-badge.svg\" alt=\"Open In Colab\"/></a>"
      ]
    },
    {
      "cell_type": "markdown",
      "source": [
        "# 병행성(Concurrency)\n",
        "\n",
        "- 병행성, 흐름제어 설명\n",
        "- 이터레이터(Iterator) : 반복 가능 객체\n",
        "- 제너레이터(Generator) : 반복 가능한 객체를 생산해내는 역할 \n",
        "- \\_\\_iter__, \\_\\_next__\n",
        "- 클래스 기반 제너레이터 구현"
      ],
      "metadata": {
        "id": "c4Q9yUw914rZ"
      }
    },
    {
      "cell_type": "code",
      "source": [
        "# Iterator, Generator\n",
        "# 파이썬 반복 가능한 객체\n",
        "# collections, text file, list, dict, set, tuple, unpacking, *args...\n",
        "\n",
        "# 반복 가능한 이유 -> iter(x) 함수 호출\n",
        "t = 'ABCD'\n",
        "\n",
        "print(dir(t))\n",
        "\n",
        "print('------')\n",
        "\n",
        "# for c in t:\n",
        "#   print(c)\n",
        "\n",
        "print('------')\n",
        "\n",
        "w = iter(t)\n",
        "\n",
        "print(next(w))\n",
        "print(next(w))\n",
        "\n",
        "while True:\n",
        "  try:\n",
        "    print(next(w))\n",
        "  except StopIteration:\n",
        "    break\n",
        "\n",
        "print('------')\n",
        "\n",
        "# 반복형 확인\n",
        "\n",
        "from collections import abc\n",
        "\n",
        "# print(dir(t))\n",
        "print(hasattr(t, '__iter__'))\n",
        "print(isinstance(t, abc.Iterable))"
      ],
      "metadata": {
        "colab": {
          "base_uri": "https://localhost:8080/"
        },
        "id": "se3Wk8We2XHz",
        "outputId": "dbd932e0-5c7c-47d5-bf99-925a05a91c6c"
      },
      "execution_count": null,
      "outputs": [
        {
          "output_type": "stream",
          "name": "stdout",
          "text": [
            "['__add__', '__class__', '__contains__', '__delattr__', '__dir__', '__doc__', '__eq__', '__format__', '__ge__', '__getattribute__', '__getitem__', '__getnewargs__', '__gt__', '__hash__', '__init__', '__init_subclass__', '__iter__', '__le__', '__len__', '__lt__', '__mod__', '__mul__', '__ne__', '__new__', '__reduce__', '__reduce_ex__', '__repr__', '__rmod__', '__rmul__', '__setattr__', '__sizeof__', '__str__', '__subclasshook__', 'capitalize', 'casefold', 'center', 'count', 'encode', 'endswith', 'expandtabs', 'find', 'format', 'format_map', 'index', 'isalnum', 'isalpha', 'isascii', 'isdecimal', 'isdigit', 'isidentifier', 'islower', 'isnumeric', 'isprintable', 'isspace', 'istitle', 'isupper', 'join', 'ljust', 'lower', 'lstrip', 'maketrans', 'partition', 'replace', 'rfind', 'rindex', 'rjust', 'rpartition', 'rsplit', 'rstrip', 'split', 'splitlines', 'startswith', 'strip', 'swapcase', 'title', 'translate', 'upper', 'zfill']\n",
            "------\n",
            "------\n",
            "A\n",
            "B\n",
            "C\n",
            "D\n",
            "------\n",
            "True\n",
            "True\n"
          ]
        }
      ]
    },
    {
      "cell_type": "code",
      "source": [
        "# next\n",
        "class WordSplitter:\n",
        "  def __init__(self, text):\n",
        "    self._idx = 0\n",
        "    self._text = text.split(' ')\n",
        "\n",
        "  def __next__(self):\n",
        "    print('Called __next__')\n",
        "    try:\n",
        "      word = self._text[self._idx]\n",
        "    except IndexError:\n",
        "      raise StopIteration('Stopped Iteration')\n",
        "    self._idx += 1\n",
        "    return word\n",
        "  \n",
        "  def __repr__(self):\n",
        "    return 'WordSplit(%s)' % (self._text)\n",
        "\n",
        "wi = WordSplitter('Do today what you could do tommorow')\n",
        "print(next(wi))\n",
        "print(next(wi))\n",
        "\n",
        "# Generator 패턴\n",
        "# 1. 지능형 리스트, 딕셔너리, 집합 -> 데이터 양 증가 후 메모리 사용량 증가 -> 제너레이터 사용 권장\n",
        "# 2. 단위 실행 가능한 코루틴(coroutine)\n",
        "# 3. 작은 메모리 조각 사용\n",
        "\n",
        "class WordSplitGenerator:\n",
        "  def __init__(self, text):\n",
        "    self._text = text.split(' ')\n",
        "  \n",
        "  def __iter__(self):\n",
        "    for word in self._text:\n",
        "      yield word # 제너레이터 # yield로 상태 저장\n",
        "    return\n",
        "\n",
        "  def __repr__(self):\n",
        "    return 'WordSplitGenerator(%s)' % (self._text)\n",
        "\n",
        "wg = WordSplitGenerator('Do today what you could do tommorow')\n",
        "\n",
        "wt = iter(wg)"
      ],
      "metadata": {
        "id": "men5hnuT-YyB",
        "outputId": "70f6f49b-f7e3-42ac-b544-bfc9796704dd",
        "colab": {
          "base_uri": "https://localhost:8080/"
        }
      },
      "execution_count": null,
      "outputs": [
        {
          "output_type": "stream",
          "name": "stdout",
          "text": [
            "Called __next__\n",
            "Do\n",
            "Called __next__\n",
            "today\n"
          ]
        }
      ]
    },
    {
      "cell_type": "markdown",
      "source": [
        "- 병행성(Concurrency) : 한 컴퓨터가 여러 일을 동시에 수행 (마지막 지점을 알아야함 = 클로저) -> 단일 프로그램안에서 여러 일을 쉽게 처리\n",
        "\n",
        "- 병렬성(Parallelism) : 여러 컴퓨터가 여러 작업을 동시에 수행 -> 속도"
      ],
      "metadata": {
        "id": "c0dpe5sbhtR-"
      }
    },
    {
      "cell_type": "code",
      "source": [
        "# Generator Ex1\n",
        "\n",
        "def generator_ex1():\n",
        "  print('Start')\n",
        "  yield 'A Point'\n",
        "  print('Continue')\n",
        "  yield 'B Point'\n",
        "  print('End')\n",
        "\n",
        "temp = iter(generator_ex1())\n",
        "\n",
        "# print(temp)\n",
        "print(next(temp))\n",
        "\n",
        "for v in generator_ex1():\n",
        "  pass\n",
        "  print(v)\n",
        "\n",
        "# Generator Ex2\n",
        "temp2 = [x * 3 for x in generator_ex1()]\n",
        "temp3 = (x * 3 for x in generator_ex1())\n",
        "\n",
        "print('----')\n",
        "print(temp2)\n",
        "\n",
        "for i in temp3:\n",
        "  print(i)"
      ],
      "metadata": {
        "id": "EvYukfobieBx",
        "outputId": "b2ee11f1-80bb-434b-8941-f438d4bef25d",
        "colab": {
          "base_uri": "https://localhost:8080/"
        }
      },
      "execution_count": null,
      "outputs": [
        {
          "output_type": "stream",
          "name": "stdout",
          "text": [
            "Start\n",
            "A Point\n",
            "Start\n",
            "A Point\n",
            "Continue\n",
            "B Point\n",
            "End\n",
            "Start\n",
            "Continue\n",
            "End\n",
            "----\n",
            "['A PointA PointA Point', 'B PointB PointB Point']\n",
            "Start\n",
            "A PointA PointA Point\n",
            "Continue\n",
            "B PointB PointB Point\n",
            "End\n"
          ]
        }
      ]
    },
    {
      "cell_type": "code",
      "source": [
        "# Generator Ex3(중요 함수)\n",
        "# count, takewhile, filterfalse, accumulate, chain, product, groupby...\n",
        "\n",
        "import itertools\n",
        "\n",
        "gen1 = itertools.count(1, 2.5)\n",
        "\n",
        "print(next(gen1))\n",
        "print(next(gen1))\n",
        "# ... 무한\n",
        "\n",
        "# 조건\n",
        "gen2 = itertools.takewhile(lambda n : n < 50, gen1)\n",
        "\n",
        "for v in gen2:\n",
        "  print(v)\n",
        "\n",
        "print('-----')\n",
        "\n",
        "# 필터 반대\n",
        "gen3 = itertools.filterfalse(lambda n : n < 3, [1, 2 ,3 ,4, 5])\n",
        "\n",
        "for v in gen3:\n",
        "  print(v)\n",
        "\n",
        "print('-----')\n",
        "\n",
        "# 누적 합계\n",
        "gen4 = itertools.accumulate([x for x in range(1, 10)])\n",
        "\n",
        "for v in gen4:\n",
        "  print(v)\n",
        "\n",
        "print('-----')\n",
        "\n",
        "# 연결\n",
        "gen5 = itertools.chain('ABCDE', range(1, 11, 2))\n",
        "\n",
        "print(list(gen5))\n",
        "\n",
        "# 연결2\n",
        "gen6 = itertools.chain(enumerate('ABCDE'))\n",
        "print(list(gen6))"
      ],
      "metadata": {
        "id": "wgbK6C-vi6n3",
        "outputId": "0a140327-2ffc-4e9a-c6a8-6058df14d1b1",
        "colab": {
          "base_uri": "https://localhost:8080/"
        }
      },
      "execution_count": null,
      "outputs": [
        {
          "output_type": "stream",
          "name": "stdout",
          "text": [
            "1\n",
            "3.5\n",
            "6.0\n",
            "8.5\n",
            "11.0\n",
            "13.5\n",
            "16.0\n",
            "18.5\n",
            "21.0\n",
            "23.5\n",
            "26.0\n",
            "28.5\n",
            "31.0\n",
            "33.5\n",
            "36.0\n",
            "38.5\n",
            "41.0\n",
            "43.5\n",
            "46.0\n",
            "48.5\n",
            "-----\n",
            "3\n",
            "4\n",
            "5\n",
            "-----\n",
            "1\n",
            "3\n",
            "6\n",
            "10\n",
            "15\n",
            "21\n",
            "28\n",
            "36\n",
            "45\n",
            "-----\n",
            "['A', 'B', 'C', 'D', 'E', 1, 3, 5, 7, 9]\n",
            "[(0, 'A'), (1, 'B'), (2, 'C'), (3, 'D'), (4, 'E')]\n"
          ]
        }
      ]
    },
    {
      "cell_type": "code",
      "source": [
        "# 개별 경우의 수\n",
        "gen7 = itertools.product('ABCDE')\n",
        "\n",
        "print(list(gen7))\n",
        "\n",
        "gen8 = itertools.product('ABCDE', repeat=4)\n",
        "\n",
        "print(list(gen8))\n",
        "\n",
        "# 그룹화\n",
        "gen9 = itertools.groupby('AAABBBCCCDDD')\n",
        "\n",
        "# print(list(gen9))\n",
        "\n",
        "for chr, group in gen9:\n",
        "  print(chr, ' : ', list(group))"
      ],
      "metadata": {
        "id": "6dptb69CyJjm",
        "outputId": "35d9e6a2-b174-49b6-dd08-c784dfa2a589",
        "colab": {
          "base_uri": "https://localhost:8080/"
        }
      },
      "execution_count": null,
      "outputs": [
        {
          "output_type": "stream",
          "name": "stdout",
          "text": [
            "[('A',), ('B',), ('C',), ('D',), ('E',)]\n",
            "[('A', 'A', 'A', 'A'), ('A', 'A', 'A', 'B'), ('A', 'A', 'A', 'C'), ('A', 'A', 'A', 'D'), ('A', 'A', 'A', 'E'), ('A', 'A', 'B', 'A'), ('A', 'A', 'B', 'B'), ('A', 'A', 'B', 'C'), ('A', 'A', 'B', 'D'), ('A', 'A', 'B', 'E'), ('A', 'A', 'C', 'A'), ('A', 'A', 'C', 'B'), ('A', 'A', 'C', 'C'), ('A', 'A', 'C', 'D'), ('A', 'A', 'C', 'E'), ('A', 'A', 'D', 'A'), ('A', 'A', 'D', 'B'), ('A', 'A', 'D', 'C'), ('A', 'A', 'D', 'D'), ('A', 'A', 'D', 'E'), ('A', 'A', 'E', 'A'), ('A', 'A', 'E', 'B'), ('A', 'A', 'E', 'C'), ('A', 'A', 'E', 'D'), ('A', 'A', 'E', 'E'), ('A', 'B', 'A', 'A'), ('A', 'B', 'A', 'B'), ('A', 'B', 'A', 'C'), ('A', 'B', 'A', 'D'), ('A', 'B', 'A', 'E'), ('A', 'B', 'B', 'A'), ('A', 'B', 'B', 'B'), ('A', 'B', 'B', 'C'), ('A', 'B', 'B', 'D'), ('A', 'B', 'B', 'E'), ('A', 'B', 'C', 'A'), ('A', 'B', 'C', 'B'), ('A', 'B', 'C', 'C'), ('A', 'B', 'C', 'D'), ('A', 'B', 'C', 'E'), ('A', 'B', 'D', 'A'), ('A', 'B', 'D', 'B'), ('A', 'B', 'D', 'C'), ('A', 'B', 'D', 'D'), ('A', 'B', 'D', 'E'), ('A', 'B', 'E', 'A'), ('A', 'B', 'E', 'B'), ('A', 'B', 'E', 'C'), ('A', 'B', 'E', 'D'), ('A', 'B', 'E', 'E'), ('A', 'C', 'A', 'A'), ('A', 'C', 'A', 'B'), ('A', 'C', 'A', 'C'), ('A', 'C', 'A', 'D'), ('A', 'C', 'A', 'E'), ('A', 'C', 'B', 'A'), ('A', 'C', 'B', 'B'), ('A', 'C', 'B', 'C'), ('A', 'C', 'B', 'D'), ('A', 'C', 'B', 'E'), ('A', 'C', 'C', 'A'), ('A', 'C', 'C', 'B'), ('A', 'C', 'C', 'C'), ('A', 'C', 'C', 'D'), ('A', 'C', 'C', 'E'), ('A', 'C', 'D', 'A'), ('A', 'C', 'D', 'B'), ('A', 'C', 'D', 'C'), ('A', 'C', 'D', 'D'), ('A', 'C', 'D', 'E'), ('A', 'C', 'E', 'A'), ('A', 'C', 'E', 'B'), ('A', 'C', 'E', 'C'), ('A', 'C', 'E', 'D'), ('A', 'C', 'E', 'E'), ('A', 'D', 'A', 'A'), ('A', 'D', 'A', 'B'), ('A', 'D', 'A', 'C'), ('A', 'D', 'A', 'D'), ('A', 'D', 'A', 'E'), ('A', 'D', 'B', 'A'), ('A', 'D', 'B', 'B'), ('A', 'D', 'B', 'C'), ('A', 'D', 'B', 'D'), ('A', 'D', 'B', 'E'), ('A', 'D', 'C', 'A'), ('A', 'D', 'C', 'B'), ('A', 'D', 'C', 'C'), ('A', 'D', 'C', 'D'), ('A', 'D', 'C', 'E'), ('A', 'D', 'D', 'A'), ('A', 'D', 'D', 'B'), ('A', 'D', 'D', 'C'), ('A', 'D', 'D', 'D'), ('A', 'D', 'D', 'E'), ('A', 'D', 'E', 'A'), ('A', 'D', 'E', 'B'), ('A', 'D', 'E', 'C'), ('A', 'D', 'E', 'D'), ('A', 'D', 'E', 'E'), ('A', 'E', 'A', 'A'), ('A', 'E', 'A', 'B'), ('A', 'E', 'A', 'C'), ('A', 'E', 'A', 'D'), ('A', 'E', 'A', 'E'), ('A', 'E', 'B', 'A'), ('A', 'E', 'B', 'B'), ('A', 'E', 'B', 'C'), ('A', 'E', 'B', 'D'), ('A', 'E', 'B', 'E'), ('A', 'E', 'C', 'A'), ('A', 'E', 'C', 'B'), ('A', 'E', 'C', 'C'), ('A', 'E', 'C', 'D'), ('A', 'E', 'C', 'E'), ('A', 'E', 'D', 'A'), ('A', 'E', 'D', 'B'), ('A', 'E', 'D', 'C'), ('A', 'E', 'D', 'D'), ('A', 'E', 'D', 'E'), ('A', 'E', 'E', 'A'), ('A', 'E', 'E', 'B'), ('A', 'E', 'E', 'C'), ('A', 'E', 'E', 'D'), ('A', 'E', 'E', 'E'), ('B', 'A', 'A', 'A'), ('B', 'A', 'A', 'B'), ('B', 'A', 'A', 'C'), ('B', 'A', 'A', 'D'), ('B', 'A', 'A', 'E'), ('B', 'A', 'B', 'A'), ('B', 'A', 'B', 'B'), ('B', 'A', 'B', 'C'), ('B', 'A', 'B', 'D'), ('B', 'A', 'B', 'E'), ('B', 'A', 'C', 'A'), ('B', 'A', 'C', 'B'), ('B', 'A', 'C', 'C'), ('B', 'A', 'C', 'D'), ('B', 'A', 'C', 'E'), ('B', 'A', 'D', 'A'), ('B', 'A', 'D', 'B'), ('B', 'A', 'D', 'C'), ('B', 'A', 'D', 'D'), ('B', 'A', 'D', 'E'), ('B', 'A', 'E', 'A'), ('B', 'A', 'E', 'B'), ('B', 'A', 'E', 'C'), ('B', 'A', 'E', 'D'), ('B', 'A', 'E', 'E'), ('B', 'B', 'A', 'A'), ('B', 'B', 'A', 'B'), ('B', 'B', 'A', 'C'), ('B', 'B', 'A', 'D'), ('B', 'B', 'A', 'E'), ('B', 'B', 'B', 'A'), ('B', 'B', 'B', 'B'), ('B', 'B', 'B', 'C'), ('B', 'B', 'B', 'D'), ('B', 'B', 'B', 'E'), ('B', 'B', 'C', 'A'), ('B', 'B', 'C', 'B'), ('B', 'B', 'C', 'C'), ('B', 'B', 'C', 'D'), ('B', 'B', 'C', 'E'), ('B', 'B', 'D', 'A'), ('B', 'B', 'D', 'B'), ('B', 'B', 'D', 'C'), ('B', 'B', 'D', 'D'), ('B', 'B', 'D', 'E'), ('B', 'B', 'E', 'A'), ('B', 'B', 'E', 'B'), ('B', 'B', 'E', 'C'), ('B', 'B', 'E', 'D'), ('B', 'B', 'E', 'E'), ('B', 'C', 'A', 'A'), ('B', 'C', 'A', 'B'), ('B', 'C', 'A', 'C'), ('B', 'C', 'A', 'D'), ('B', 'C', 'A', 'E'), ('B', 'C', 'B', 'A'), ('B', 'C', 'B', 'B'), ('B', 'C', 'B', 'C'), ('B', 'C', 'B', 'D'), ('B', 'C', 'B', 'E'), ('B', 'C', 'C', 'A'), ('B', 'C', 'C', 'B'), ('B', 'C', 'C', 'C'), ('B', 'C', 'C', 'D'), ('B', 'C', 'C', 'E'), ('B', 'C', 'D', 'A'), ('B', 'C', 'D', 'B'), ('B', 'C', 'D', 'C'), ('B', 'C', 'D', 'D'), ('B', 'C', 'D', 'E'), ('B', 'C', 'E', 'A'), ('B', 'C', 'E', 'B'), ('B', 'C', 'E', 'C'), ('B', 'C', 'E', 'D'), ('B', 'C', 'E', 'E'), ('B', 'D', 'A', 'A'), ('B', 'D', 'A', 'B'), ('B', 'D', 'A', 'C'), ('B', 'D', 'A', 'D'), ('B', 'D', 'A', 'E'), ('B', 'D', 'B', 'A'), ('B', 'D', 'B', 'B'), ('B', 'D', 'B', 'C'), ('B', 'D', 'B', 'D'), ('B', 'D', 'B', 'E'), ('B', 'D', 'C', 'A'), ('B', 'D', 'C', 'B'), ('B', 'D', 'C', 'C'), ('B', 'D', 'C', 'D'), ('B', 'D', 'C', 'E'), ('B', 'D', 'D', 'A'), ('B', 'D', 'D', 'B'), ('B', 'D', 'D', 'C'), ('B', 'D', 'D', 'D'), ('B', 'D', 'D', 'E'), ('B', 'D', 'E', 'A'), ('B', 'D', 'E', 'B'), ('B', 'D', 'E', 'C'), ('B', 'D', 'E', 'D'), ('B', 'D', 'E', 'E'), ('B', 'E', 'A', 'A'), ('B', 'E', 'A', 'B'), ('B', 'E', 'A', 'C'), ('B', 'E', 'A', 'D'), ('B', 'E', 'A', 'E'), ('B', 'E', 'B', 'A'), ('B', 'E', 'B', 'B'), ('B', 'E', 'B', 'C'), ('B', 'E', 'B', 'D'), ('B', 'E', 'B', 'E'), ('B', 'E', 'C', 'A'), ('B', 'E', 'C', 'B'), ('B', 'E', 'C', 'C'), ('B', 'E', 'C', 'D'), ('B', 'E', 'C', 'E'), ('B', 'E', 'D', 'A'), ('B', 'E', 'D', 'B'), ('B', 'E', 'D', 'C'), ('B', 'E', 'D', 'D'), ('B', 'E', 'D', 'E'), ('B', 'E', 'E', 'A'), ('B', 'E', 'E', 'B'), ('B', 'E', 'E', 'C'), ('B', 'E', 'E', 'D'), ('B', 'E', 'E', 'E'), ('C', 'A', 'A', 'A'), ('C', 'A', 'A', 'B'), ('C', 'A', 'A', 'C'), ('C', 'A', 'A', 'D'), ('C', 'A', 'A', 'E'), ('C', 'A', 'B', 'A'), ('C', 'A', 'B', 'B'), ('C', 'A', 'B', 'C'), ('C', 'A', 'B', 'D'), ('C', 'A', 'B', 'E'), ('C', 'A', 'C', 'A'), ('C', 'A', 'C', 'B'), ('C', 'A', 'C', 'C'), ('C', 'A', 'C', 'D'), ('C', 'A', 'C', 'E'), ('C', 'A', 'D', 'A'), ('C', 'A', 'D', 'B'), ('C', 'A', 'D', 'C'), ('C', 'A', 'D', 'D'), ('C', 'A', 'D', 'E'), ('C', 'A', 'E', 'A'), ('C', 'A', 'E', 'B'), ('C', 'A', 'E', 'C'), ('C', 'A', 'E', 'D'), ('C', 'A', 'E', 'E'), ('C', 'B', 'A', 'A'), ('C', 'B', 'A', 'B'), ('C', 'B', 'A', 'C'), ('C', 'B', 'A', 'D'), ('C', 'B', 'A', 'E'), ('C', 'B', 'B', 'A'), ('C', 'B', 'B', 'B'), ('C', 'B', 'B', 'C'), ('C', 'B', 'B', 'D'), ('C', 'B', 'B', 'E'), ('C', 'B', 'C', 'A'), ('C', 'B', 'C', 'B'), ('C', 'B', 'C', 'C'), ('C', 'B', 'C', 'D'), ('C', 'B', 'C', 'E'), ('C', 'B', 'D', 'A'), ('C', 'B', 'D', 'B'), ('C', 'B', 'D', 'C'), ('C', 'B', 'D', 'D'), ('C', 'B', 'D', 'E'), ('C', 'B', 'E', 'A'), ('C', 'B', 'E', 'B'), ('C', 'B', 'E', 'C'), ('C', 'B', 'E', 'D'), ('C', 'B', 'E', 'E'), ('C', 'C', 'A', 'A'), ('C', 'C', 'A', 'B'), ('C', 'C', 'A', 'C'), ('C', 'C', 'A', 'D'), ('C', 'C', 'A', 'E'), ('C', 'C', 'B', 'A'), ('C', 'C', 'B', 'B'), ('C', 'C', 'B', 'C'), ('C', 'C', 'B', 'D'), ('C', 'C', 'B', 'E'), ('C', 'C', 'C', 'A'), ('C', 'C', 'C', 'B'), ('C', 'C', 'C', 'C'), ('C', 'C', 'C', 'D'), ('C', 'C', 'C', 'E'), ('C', 'C', 'D', 'A'), ('C', 'C', 'D', 'B'), ('C', 'C', 'D', 'C'), ('C', 'C', 'D', 'D'), ('C', 'C', 'D', 'E'), ('C', 'C', 'E', 'A'), ('C', 'C', 'E', 'B'), ('C', 'C', 'E', 'C'), ('C', 'C', 'E', 'D'), ('C', 'C', 'E', 'E'), ('C', 'D', 'A', 'A'), ('C', 'D', 'A', 'B'), ('C', 'D', 'A', 'C'), ('C', 'D', 'A', 'D'), ('C', 'D', 'A', 'E'), ('C', 'D', 'B', 'A'), ('C', 'D', 'B', 'B'), ('C', 'D', 'B', 'C'), ('C', 'D', 'B', 'D'), ('C', 'D', 'B', 'E'), ('C', 'D', 'C', 'A'), ('C', 'D', 'C', 'B'), ('C', 'D', 'C', 'C'), ('C', 'D', 'C', 'D'), ('C', 'D', 'C', 'E'), ('C', 'D', 'D', 'A'), ('C', 'D', 'D', 'B'), ('C', 'D', 'D', 'C'), ('C', 'D', 'D', 'D'), ('C', 'D', 'D', 'E'), ('C', 'D', 'E', 'A'), ('C', 'D', 'E', 'B'), ('C', 'D', 'E', 'C'), ('C', 'D', 'E', 'D'), ('C', 'D', 'E', 'E'), ('C', 'E', 'A', 'A'), ('C', 'E', 'A', 'B'), ('C', 'E', 'A', 'C'), ('C', 'E', 'A', 'D'), ('C', 'E', 'A', 'E'), ('C', 'E', 'B', 'A'), ('C', 'E', 'B', 'B'), ('C', 'E', 'B', 'C'), ('C', 'E', 'B', 'D'), ('C', 'E', 'B', 'E'), ('C', 'E', 'C', 'A'), ('C', 'E', 'C', 'B'), ('C', 'E', 'C', 'C'), ('C', 'E', 'C', 'D'), ('C', 'E', 'C', 'E'), ('C', 'E', 'D', 'A'), ('C', 'E', 'D', 'B'), ('C', 'E', 'D', 'C'), ('C', 'E', 'D', 'D'), ('C', 'E', 'D', 'E'), ('C', 'E', 'E', 'A'), ('C', 'E', 'E', 'B'), ('C', 'E', 'E', 'C'), ('C', 'E', 'E', 'D'), ('C', 'E', 'E', 'E'), ('D', 'A', 'A', 'A'), ('D', 'A', 'A', 'B'), ('D', 'A', 'A', 'C'), ('D', 'A', 'A', 'D'), ('D', 'A', 'A', 'E'), ('D', 'A', 'B', 'A'), ('D', 'A', 'B', 'B'), ('D', 'A', 'B', 'C'), ('D', 'A', 'B', 'D'), ('D', 'A', 'B', 'E'), ('D', 'A', 'C', 'A'), ('D', 'A', 'C', 'B'), ('D', 'A', 'C', 'C'), ('D', 'A', 'C', 'D'), ('D', 'A', 'C', 'E'), ('D', 'A', 'D', 'A'), ('D', 'A', 'D', 'B'), ('D', 'A', 'D', 'C'), ('D', 'A', 'D', 'D'), ('D', 'A', 'D', 'E'), ('D', 'A', 'E', 'A'), ('D', 'A', 'E', 'B'), ('D', 'A', 'E', 'C'), ('D', 'A', 'E', 'D'), ('D', 'A', 'E', 'E'), ('D', 'B', 'A', 'A'), ('D', 'B', 'A', 'B'), ('D', 'B', 'A', 'C'), ('D', 'B', 'A', 'D'), ('D', 'B', 'A', 'E'), ('D', 'B', 'B', 'A'), ('D', 'B', 'B', 'B'), ('D', 'B', 'B', 'C'), ('D', 'B', 'B', 'D'), ('D', 'B', 'B', 'E'), ('D', 'B', 'C', 'A'), ('D', 'B', 'C', 'B'), ('D', 'B', 'C', 'C'), ('D', 'B', 'C', 'D'), ('D', 'B', 'C', 'E'), ('D', 'B', 'D', 'A'), ('D', 'B', 'D', 'B'), ('D', 'B', 'D', 'C'), ('D', 'B', 'D', 'D'), ('D', 'B', 'D', 'E'), ('D', 'B', 'E', 'A'), ('D', 'B', 'E', 'B'), ('D', 'B', 'E', 'C'), ('D', 'B', 'E', 'D'), ('D', 'B', 'E', 'E'), ('D', 'C', 'A', 'A'), ('D', 'C', 'A', 'B'), ('D', 'C', 'A', 'C'), ('D', 'C', 'A', 'D'), ('D', 'C', 'A', 'E'), ('D', 'C', 'B', 'A'), ('D', 'C', 'B', 'B'), ('D', 'C', 'B', 'C'), ('D', 'C', 'B', 'D'), ('D', 'C', 'B', 'E'), ('D', 'C', 'C', 'A'), ('D', 'C', 'C', 'B'), ('D', 'C', 'C', 'C'), ('D', 'C', 'C', 'D'), ('D', 'C', 'C', 'E'), ('D', 'C', 'D', 'A'), ('D', 'C', 'D', 'B'), ('D', 'C', 'D', 'C'), ('D', 'C', 'D', 'D'), ('D', 'C', 'D', 'E'), ('D', 'C', 'E', 'A'), ('D', 'C', 'E', 'B'), ('D', 'C', 'E', 'C'), ('D', 'C', 'E', 'D'), ('D', 'C', 'E', 'E'), ('D', 'D', 'A', 'A'), ('D', 'D', 'A', 'B'), ('D', 'D', 'A', 'C'), ('D', 'D', 'A', 'D'), ('D', 'D', 'A', 'E'), ('D', 'D', 'B', 'A'), ('D', 'D', 'B', 'B'), ('D', 'D', 'B', 'C'), ('D', 'D', 'B', 'D'), ('D', 'D', 'B', 'E'), ('D', 'D', 'C', 'A'), ('D', 'D', 'C', 'B'), ('D', 'D', 'C', 'C'), ('D', 'D', 'C', 'D'), ('D', 'D', 'C', 'E'), ('D', 'D', 'D', 'A'), ('D', 'D', 'D', 'B'), ('D', 'D', 'D', 'C'), ('D', 'D', 'D', 'D'), ('D', 'D', 'D', 'E'), ('D', 'D', 'E', 'A'), ('D', 'D', 'E', 'B'), ('D', 'D', 'E', 'C'), ('D', 'D', 'E', 'D'), ('D', 'D', 'E', 'E'), ('D', 'E', 'A', 'A'), ('D', 'E', 'A', 'B'), ('D', 'E', 'A', 'C'), ('D', 'E', 'A', 'D'), ('D', 'E', 'A', 'E'), ('D', 'E', 'B', 'A'), ('D', 'E', 'B', 'B'), ('D', 'E', 'B', 'C'), ('D', 'E', 'B', 'D'), ('D', 'E', 'B', 'E'), ('D', 'E', 'C', 'A'), ('D', 'E', 'C', 'B'), ('D', 'E', 'C', 'C'), ('D', 'E', 'C', 'D'), ('D', 'E', 'C', 'E'), ('D', 'E', 'D', 'A'), ('D', 'E', 'D', 'B'), ('D', 'E', 'D', 'C'), ('D', 'E', 'D', 'D'), ('D', 'E', 'D', 'E'), ('D', 'E', 'E', 'A'), ('D', 'E', 'E', 'B'), ('D', 'E', 'E', 'C'), ('D', 'E', 'E', 'D'), ('D', 'E', 'E', 'E'), ('E', 'A', 'A', 'A'), ('E', 'A', 'A', 'B'), ('E', 'A', 'A', 'C'), ('E', 'A', 'A', 'D'), ('E', 'A', 'A', 'E'), ('E', 'A', 'B', 'A'), ('E', 'A', 'B', 'B'), ('E', 'A', 'B', 'C'), ('E', 'A', 'B', 'D'), ('E', 'A', 'B', 'E'), ('E', 'A', 'C', 'A'), ('E', 'A', 'C', 'B'), ('E', 'A', 'C', 'C'), ('E', 'A', 'C', 'D'), ('E', 'A', 'C', 'E'), ('E', 'A', 'D', 'A'), ('E', 'A', 'D', 'B'), ('E', 'A', 'D', 'C'), ('E', 'A', 'D', 'D'), ('E', 'A', 'D', 'E'), ('E', 'A', 'E', 'A'), ('E', 'A', 'E', 'B'), ('E', 'A', 'E', 'C'), ('E', 'A', 'E', 'D'), ('E', 'A', 'E', 'E'), ('E', 'B', 'A', 'A'), ('E', 'B', 'A', 'B'), ('E', 'B', 'A', 'C'), ('E', 'B', 'A', 'D'), ('E', 'B', 'A', 'E'), ('E', 'B', 'B', 'A'), ('E', 'B', 'B', 'B'), ('E', 'B', 'B', 'C'), ('E', 'B', 'B', 'D'), ('E', 'B', 'B', 'E'), ('E', 'B', 'C', 'A'), ('E', 'B', 'C', 'B'), ('E', 'B', 'C', 'C'), ('E', 'B', 'C', 'D'), ('E', 'B', 'C', 'E'), ('E', 'B', 'D', 'A'), ('E', 'B', 'D', 'B'), ('E', 'B', 'D', 'C'), ('E', 'B', 'D', 'D'), ('E', 'B', 'D', 'E'), ('E', 'B', 'E', 'A'), ('E', 'B', 'E', 'B'), ('E', 'B', 'E', 'C'), ('E', 'B', 'E', 'D'), ('E', 'B', 'E', 'E'), ('E', 'C', 'A', 'A'), ('E', 'C', 'A', 'B'), ('E', 'C', 'A', 'C'), ('E', 'C', 'A', 'D'), ('E', 'C', 'A', 'E'), ('E', 'C', 'B', 'A'), ('E', 'C', 'B', 'B'), ('E', 'C', 'B', 'C'), ('E', 'C', 'B', 'D'), ('E', 'C', 'B', 'E'), ('E', 'C', 'C', 'A'), ('E', 'C', 'C', 'B'), ('E', 'C', 'C', 'C'), ('E', 'C', 'C', 'D'), ('E', 'C', 'C', 'E'), ('E', 'C', 'D', 'A'), ('E', 'C', 'D', 'B'), ('E', 'C', 'D', 'C'), ('E', 'C', 'D', 'D'), ('E', 'C', 'D', 'E'), ('E', 'C', 'E', 'A'), ('E', 'C', 'E', 'B'), ('E', 'C', 'E', 'C'), ('E', 'C', 'E', 'D'), ('E', 'C', 'E', 'E'), ('E', 'D', 'A', 'A'), ('E', 'D', 'A', 'B'), ('E', 'D', 'A', 'C'), ('E', 'D', 'A', 'D'), ('E', 'D', 'A', 'E'), ('E', 'D', 'B', 'A'), ('E', 'D', 'B', 'B'), ('E', 'D', 'B', 'C'), ('E', 'D', 'B', 'D'), ('E', 'D', 'B', 'E'), ('E', 'D', 'C', 'A'), ('E', 'D', 'C', 'B'), ('E', 'D', 'C', 'C'), ('E', 'D', 'C', 'D'), ('E', 'D', 'C', 'E'), ('E', 'D', 'D', 'A'), ('E', 'D', 'D', 'B'), ('E', 'D', 'D', 'C'), ('E', 'D', 'D', 'D'), ('E', 'D', 'D', 'E'), ('E', 'D', 'E', 'A'), ('E', 'D', 'E', 'B'), ('E', 'D', 'E', 'C'), ('E', 'D', 'E', 'D'), ('E', 'D', 'E', 'E'), ('E', 'E', 'A', 'A'), ('E', 'E', 'A', 'B'), ('E', 'E', 'A', 'C'), ('E', 'E', 'A', 'D'), ('E', 'E', 'A', 'E'), ('E', 'E', 'B', 'A'), ('E', 'E', 'B', 'B'), ('E', 'E', 'B', 'C'), ('E', 'E', 'B', 'D'), ('E', 'E', 'B', 'E'), ('E', 'E', 'C', 'A'), ('E', 'E', 'C', 'B'), ('E', 'E', 'C', 'C'), ('E', 'E', 'C', 'D'), ('E', 'E', 'C', 'E'), ('E', 'E', 'D', 'A'), ('E', 'E', 'D', 'B'), ('E', 'E', 'D', 'C'), ('E', 'E', 'D', 'D'), ('E', 'E', 'D', 'E'), ('E', 'E', 'E', 'A'), ('E', 'E', 'E', 'B'), ('E', 'E', 'E', 'C'), ('E', 'E', 'E', 'D'), ('E', 'E', 'E', 'E')]\n",
            "A  :  ['A', 'A', 'A']\n",
            "B  :  ['B', 'B', 'B']\n",
            "C  :  ['C', 'C', 'C']\n",
            "D  :  ['D', 'D', 'D']\n"
          ]
        }
      ]
    },
    {
      "cell_type": "markdown",
      "source": [
        "- 코루틴 : 단일(싱글) 스레드, 스택을 기반으로 작동하는 비동기 작업\n",
        "  - 루틴 실행 중 중지 -> 동시성 프로그래밍\n",
        "  - 쓰레드에 비해 오버헤드 감소\n",
        "\n",
        "- 쓰레드\n",
        "  - os에서 직접 관리\n",
        "  - 시분할 비동기 작업 -> 멀티쓰레드\n",
        "  - 싱글쓰레드 -> 멀티쓰레드 -> 코딩하기 복잡 -> 공유되는 자원 -> 교착 상태 발생 가능성, **컨텍스트 스위칭 비용 발생**, 자원 소비 가능성 증가\n",
        "\n",
        "- Yield\n",
        "  - 메인 <-> 서브\n",
        "  - 코루틴 제어, 상태, 양방향 전송\n",
        "\n",
        "- 서브루틴 : 메인루틴 호출 -> 서브루틴에서 수행(흐름제어)"
      ],
      "metadata": {
        "id": "2yAUi8G_3cUs"
      }
    },
    {
      "cell_type": "code",
      "source": [
        "# 코루틴 Ex1\n",
        "def coroutine1():\n",
        "  print('>>> coroutine started')\n",
        "  i = yield\n",
        "  print(f'>>> coroutine received : {i}')\n",
        "\n",
        "# 제너레이터 선언\n",
        "cr1 = coroutine1()\n",
        "\n",
        "print(cr1, type(cr1))\n",
        "\n",
        "# yield 지점까지 서브루틴 수행\n",
        "next(cr1)\n",
        "\n",
        "# 기본 전달값 None\n",
        "# 값 전송\n",
        "\n",
        "cr1.send(1) # 메인루틴과 서브루틴이 데이터 교환 가능"
      ],
      "metadata": {
        "id": "zPz4bnZFNMm4",
        "outputId": "26cefc17-a6b1-44f8-be9a-f095dd356ce7",
        "colab": {
          "base_uri": "https://localhost:8080/",
          "height": 266
        }
      },
      "execution_count": 10,
      "outputs": [
        {
          "output_type": "stream",
          "name": "stdout",
          "text": [
            "<generator object coroutine1 at 0x7f458aa3b850> <class 'generator'>\n",
            ">>> coroutine started\n",
            ">>> coroutine received : 1\n"
          ]
        },
        {
          "output_type": "error",
          "ename": "StopIteration",
          "evalue": "ignored",
          "traceback": [
            "\u001b[0;31m---------------------------------------------------------------------------\u001b[0m",
            "\u001b[0;31mStopIteration\u001b[0m                             Traceback (most recent call last)",
            "\u001b[0;32m<ipython-input-10-181a2877b8f0>\u001b[0m in \u001b[0;36m<module>\u001b[0;34m()\u001b[0m\n\u001b[1;32m     16\u001b[0m \u001b[0;31m# 값 전송\u001b[0m\u001b[0;34m\u001b[0m\u001b[0;34m\u001b[0m\u001b[0;34m\u001b[0m\u001b[0m\n\u001b[1;32m     17\u001b[0m \u001b[0;34m\u001b[0m\u001b[0m\n\u001b[0;32m---> 18\u001b[0;31m \u001b[0mcr1\u001b[0m\u001b[0;34m.\u001b[0m\u001b[0msend\u001b[0m\u001b[0;34m(\u001b[0m\u001b[0;36m1\u001b[0m\u001b[0;34m)\u001b[0m \u001b[0;31m# 메인루틴과 서브루틴이 데이터 교환 가능\u001b[0m\u001b[0;34m\u001b[0m\u001b[0;34m\u001b[0m\u001b[0m\n\u001b[0m",
            "\u001b[0;31mStopIteration\u001b[0m: "
          ]
        }
      ]
    },
    {
      "cell_type": "code",
      "source": [
        ""
      ],
      "metadata": {
        "id": "oBPZt0XyTRH7"
      },
      "execution_count": null,
      "outputs": []
    }
  ]
}