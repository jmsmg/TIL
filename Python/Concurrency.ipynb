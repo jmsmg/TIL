{
  "nbformat": 4,
  "nbformat_minor": 0,
  "metadata": {
    "colab": {
      "name": "Concurrency.ipynb",
      "provenance": [],
      "collapsed_sections": [],
      "authorship_tag": "ABX9TyPrTJ3AQyosDY/aJ5up4e+L",
      "include_colab_link": true
    },
    "kernelspec": {
      "name": "python3",
      "display_name": "Python 3"
    },
    "language_info": {
      "name": "python"
    }
  },
  "cells": [
    {
      "cell_type": "markdown",
      "metadata": {
        "id": "view-in-github",
        "colab_type": "text"
      },
      "source": [
        "<a href=\"https://colab.research.google.com/github/jmsmg/TIL/blob/main/Python/Concurrency.ipynb\" target=\"_parent\"><img src=\"https://colab.research.google.com/assets/colab-badge.svg\" alt=\"Open In Colab\"/></a>"
      ]
    },
    {
      "cell_type": "markdown",
      "source": [
        "# 병행성(Concurrency)\n",
        "\n",
        "- 병행성, 흐름제어 설명\n",
        "- 이터레이터(Iterator) : 반복 가능 객체\n",
        "- 제너레이터(Generator) : 반복 가능한 객체를 생산해내는 역할 \n",
        "- \\_\\_iter__, \\_\\_next__\n",
        "- 클래스 기반 제너레이터 구현"
      ],
      "metadata": {
        "id": "c4Q9yUw914rZ"
      }
    },
    {
      "cell_type": "code",
      "source": [
        "# Iterator, Generator\n",
        "# 파이썬 반복 가능한 객체\n",
        "# collections, text file, list, dict, set, tuple, unpacking, *args...\n",
        "\n",
        "# 반복 가능한 이유 -> iter(x) 함수 호출\n",
        "t = 'ABCD'\n",
        "\n",
        "print(dir(t))\n",
        "\n",
        "print('------')\n",
        "\n",
        "# for c in t:\n",
        "#   print(c)\n",
        "\n",
        "print('------')\n",
        "\n",
        "w = iter(t)\n",
        "\n",
        "print(next(w))\n",
        "print(next(w))\n",
        "\n",
        "while True:\n",
        "  try:\n",
        "    print(next(w))\n",
        "  except StopIteration:\n",
        "    break\n",
        "\n",
        "print('------')\n",
        "\n",
        "# 반복형 확인\n",
        "\n",
        "from collections import abc\n",
        "\n",
        "# print(dir(t))\n",
        "print(hasattr(t, '__iter__'))\n",
        "print(isinstance(t, abc.Iterable))"
      ],
      "metadata": {
        "colab": {
          "base_uri": "https://localhost:8080/"
        },
        "id": "se3Wk8We2XHz",
        "outputId": "192058fa-b5a4-49ae-8cb4-e5f73ebe24fd"
      },
      "execution_count": 12,
      "outputs": [
        {
          "output_type": "stream",
          "name": "stdout",
          "text": [
            "['__add__', '__class__', '__contains__', '__delattr__', '__dir__', '__doc__', '__eq__', '__format__', '__ge__', '__getattribute__', '__getitem__', '__getnewargs__', '__gt__', '__hash__', '__init__', '__init_subclass__', '__iter__', '__le__', '__len__', '__lt__', '__mod__', '__mul__', '__ne__', '__new__', '__reduce__', '__reduce_ex__', '__repr__', '__rmod__', '__rmul__', '__setattr__', '__sizeof__', '__str__', '__subclasshook__', 'capitalize', 'casefold', 'center', 'count', 'encode', 'endswith', 'expandtabs', 'find', 'format', 'format_map', 'index', 'isalnum', 'isalpha', 'isascii', 'isdecimal', 'isdigit', 'isidentifier', 'islower', 'isnumeric', 'isprintable', 'isspace', 'istitle', 'isupper', 'join', 'ljust', 'lower', 'lstrip', 'maketrans', 'partition', 'replace', 'rfind', 'rindex', 'rjust', 'rpartition', 'rsplit', 'rstrip', 'split', 'splitlines', 'startswith', 'strip', 'swapcase', 'title', 'translate', 'upper', 'zfill']\n",
            "------\n",
            "------\n",
            "A\n",
            "B\n",
            "C\n",
            "D\n",
            "------\n",
            "True\n",
            "True\n"
          ]
        }
      ]
    }
  ]
}