{
  "nbformat": 4,
  "nbformat_minor": 0,
  "metadata": {
    "colab": {
      "name": "python_sequence.ipynb",
      "provenance": [],
      "collapsed_sections": [],
      "authorship_tag": "ABX9TyPReufnnmWmgrYihQstrwsW",
      "include_colab_link": true
    },
    "kernelspec": {
      "name": "python3",
      "display_name": "Python 3"
    },
    "language_info": {
      "name": "python"
    }
  },
  "cells": [
    {
      "cell_type": "markdown",
      "metadata": {
        "id": "view-in-github",
        "colab_type": "text"
      },
      "source": [
        "<a href=\"https://colab.research.google.com/github/jmsmg/TIL/blob/main/Python/python_sequence.ipynb\" target=\"_parent\"><img src=\"https://colab.research.google.com/assets/colab-badge.svg\" alt=\"Open In Colab\"/></a>"
      ]
    },
    {
      "cell_type": "markdown",
      "source": [
        "# Sequence\n",
        "\n",
        "## 구분\n",
        "\n",
        "### 형태\n",
        "- container : 서로 다른 자료형을 담을 수 있음\n",
        "  - list\n",
        "  - tuple\n",
        "  - collections.deque\n",
        "\n",
        "- flat : 한개의 자료형(str, bytes, bytearray, array.array, memoryview)\n",
        "\n",
        "### 가변 불변\n",
        "- 가변\n",
        "  - list\n",
        "  - bytearray\n",
        "  - array.array\n",
        "  - memoryview\n",
        "  - deque\n",
        "\n",
        "- 불변\n",
        "  - tuple\n",
        "  - str\n",
        "  - bytes"
      ],
      "metadata": {
        "id": "MoMnff3TLOvR"
      }
    },
    {
      "cell_type": "code",
      "source": [
        "# 지능형 리스트(comprehending lists)\n",
        "\n",
        "chars = '+_)(*&^%$#@!)'\n",
        "code_list1 = []\n",
        "\n",
        "# 불가능 chars[2] = 'h'\n",
        "\n",
        "for s in chars:\n",
        "  code_list1.append(ord(s))\n",
        "\n",
        "print(code_list1)\n",
        "\n",
        "# comprehending list\n",
        "# for문으로 만드는 것보다 comprehension으로 만드는 것이 더 빠름\n",
        "\n",
        "code_list2 = [ord(s) for s in chars]\n",
        "print(code_list2)\n",
        "\n",
        "# Comprehension list + map, filter\n",
        "code_list3 = [ord(s) for s in chars if ord(s) > 40]\n",
        "code_list4 = list(filter(lambda x : x > 40, map(ord, chars)))\n",
        "\n",
        "print(code_list3)\n",
        "print(code_list4)\n",
        "print([chr(s) for s in code_list1])\n",
        "print([chr(s) for s in code_list2])\n",
        "print([chr(s) for s in code_list3])\n",
        "print([chr(s) for s in code_list4])"
      ],
      "metadata": {
        "colab": {
          "base_uri": "https://localhost:8080/"
        },
        "id": "EZF5i5DwLwQm",
        "outputId": "1f0da293-f654-47a1-89e1-f01869e59e97"
      },
      "execution_count": 10,
      "outputs": [
        {
          "output_type": "stream",
          "name": "stdout",
          "text": [
            "[43, 95, 41, 40, 42, 38, 94, 37, 36, 35, 64, 33, 41]\n",
            "[43, 95, 41, 40, 42, 38, 94, 37, 36, 35, 64, 33, 41]\n",
            "[43, 95, 41, 42, 94, 64, 41]\n",
            "[43, 95, 41, 42, 94, 64, 41]\n",
            "['+', '_', ')', '(', '*', '&', '^', '%', '$', '#', '@', '!', ')']\n",
            "['+', '_', ')', '(', '*', '&', '^', '%', '$', '#', '@', '!', ')']\n",
            "['+', '_', ')', '*', '^', '@', ')']\n",
            "['+', '_', ')', '*', '^', '@', ')']\n"
          ]
        }
      ]
    },
    {
      "cell_type": "code",
      "source": [
        "# generator 생성\n",
        "import array\n",
        "\n",
        "# generator : 1번에 1개의 항목을 생성(메모리 유지x)\n",
        "tuple_g = (ord(s) for s in chars)\n",
        "array_g = array.array('I', (ord(s) for s in chars))\n",
        "\n",
        "print(type(tuple_g))\n",
        "print(next(tuple_g))\n",
        "print(type(array_g))\n",
        "print(array_g.tolist())\n",
        "\n",
        "print()\n",
        "\n",
        "# generator 예제\n",
        "print(('%s' % c + str(n) for c in ['a', 'b', 'c', 'd'] for n in range(1,21)))"
      ],
      "metadata": {
        "colab": {
          "base_uri": "https://localhost:8080/"
        },
        "id": "6DF-nJXIN9id",
        "outputId": "553f6b47-c5b9-4943-b936-983f192ead2a"
      },
      "execution_count": 23,
      "outputs": [
        {
          "output_type": "stream",
          "name": "stdout",
          "text": [
            "<class 'generator'>\n",
            "43\n",
            "<class 'array.array'>\n",
            "[43, 95, 41, 40, 42, 38, 94, 37, 36, 35, 64, 33, 41]\n",
            "\n",
            "<generator object <genexpr> at 0x7f9fdf3d55d0>\n"
          ]
        }
      ]
    },
    {
      "cell_type": "code",
      "source": [
        ""
      ],
      "metadata": {
        "id": "pOZwz3OLS5Wi"
      },
      "execution_count": null,
      "outputs": []
    }
  ]
}