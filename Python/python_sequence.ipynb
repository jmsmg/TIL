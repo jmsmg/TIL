{
  "nbformat": 4,
  "nbformat_minor": 0,
  "metadata": {
    "colab": {
      "name": "python_sequence.ipynb",
      "provenance": [],
      "collapsed_sections": [],
      "authorship_tag": "ABX9TyPw5icoOShnSmSOtGM/tNdR",
      "include_colab_link": true
    },
    "kernelspec": {
      "name": "python3",
      "display_name": "Python 3"
    },
    "language_info": {
      "name": "python"
    }
  },
  "cells": [
    {
      "cell_type": "markdown",
      "metadata": {
        "id": "view-in-github",
        "colab_type": "text"
      },
      "source": [
        "<a href=\"https://colab.research.google.com/github/jmsmg/TIL/blob/main/Python/python_sequence.ipynb\" target=\"_parent\"><img src=\"https://colab.research.google.com/assets/colab-badge.svg\" alt=\"Open In Colab\"/></a>"
      ]
    },
    {
      "cell_type": "markdown",
      "source": [
        "# Sequence\n",
        "\n",
        "## 구분\n",
        "\n",
        "### 형태\n",
        "- container : 서로 다른 자료형을 담을 수 있음\n",
        "  - list\n",
        "  - tuple\n",
        "  - collections.deque\n",
        "\n",
        "- flat : 한개의 자료형(str, bytes, bytearray, array.array, memoryview)\n",
        "\n",
        "### 가변 불변\n",
        "- 가변\n",
        "  - list\n",
        "  - bytearray\n",
        "  - array.array\n",
        "  - memoryview\n",
        "  - deque\n",
        "\n",
        "- 불변\n",
        "  - tuple\n",
        "  - str\n",
        "  - bytes"
      ],
      "metadata": {
        "id": "MoMnff3TLOvR"
      }
    },
    {
      "cell_type": "code",
      "source": [
        "# 지능형 리스트(comprehending lists)\n",
        "\n",
        "chars = '+_)(*&^%$#@!)'\n",
        "code_list1 = []\n",
        "\n",
        "# 불가능 chars[2] = 'h'\n",
        "\n",
        "for s in chars:\n",
        "  code_list1.append(ord(s))\n",
        "\n",
        "print(code_list1)\n",
        "\n",
        "# comprehending list\n",
        "# for문으로 만드는 것보다 comprehension으로 만드는 것이 더 빠름\n",
        "\n",
        "code_list2 = [ord(s) for s in chars]\n",
        "print(code_list2)\n",
        "\n",
        "# Comprehension list + map, filter\n",
        "code_list3 = [ord(s) for s in chars if ord(s) > 40]\n",
        "code_list4 = list(filter(lambda x : x > 40, map(ord, chars)))\n",
        "\n",
        "print(code_list3)\n",
        "print(code_list4)\n",
        "print([chr(s) for s in code_list1])\n",
        "print([chr(s) for s in code_list2])\n",
        "print([chr(s) for s in code_list3])\n",
        "print([chr(s) for s in code_list4])"
      ],
      "metadata": {
        "colab": {
          "base_uri": "https://localhost:8080/"
        },
        "id": "EZF5i5DwLwQm",
        "outputId": "2a163e7e-06b9-4188-ea35-4f16409a282a"
      },
      "execution_count": 2,
      "outputs": [
        {
          "output_type": "stream",
          "name": "stdout",
          "text": [
            "[43, 95, 41, 40, 42, 38, 94, 37, 36, 35, 64, 33, 41]\n",
            "[43, 95, 41, 40, 42, 38, 94, 37, 36, 35, 64, 33, 41]\n",
            "[43, 95, 41, 42, 94, 64, 41]\n",
            "[43, 95, 41, 42, 94, 64, 41]\n",
            "['+', '_', ')', '(', '*', '&', '^', '%', '$', '#', '@', '!', ')']\n",
            "['+', '_', ')', '(', '*', '&', '^', '%', '$', '#', '@', '!', ')']\n",
            "['+', '_', ')', '*', '^', '@', ')']\n",
            "['+', '_', ')', '*', '^', '@', ')']\n"
          ]
        }
      ]
    },
    {
      "cell_type": "code",
      "source": [
        "# generator 생성\n",
        "import array\n",
        "\n",
        "# generator : 1번에 1개의 항목을 생성(메모리 유지x)\n",
        "tuple_g = (ord(s) for s in chars)\n",
        "array_g = array.array('I', (ord(s) for s in chars))\n",
        "\n",
        "print(type(tuple_g))\n",
        "print(next(tuple_g))\n",
        "print(type(array_g))\n",
        "print(array_g.tolist())\n",
        "\n",
        "print()\n",
        "\n",
        "# generator 예제\n",
        "print(('%s' % c + str(n) for c in ['a', 'b', 'c', 'd'] for n in range(1,21)))\n",
        "\n",
        "for s in ('%s' % c + str(n) for c in ['a', 'b', 'c', 'd'] for n in range(1,21)):\n",
        "  print(s)"
      ],
      "metadata": {
        "colab": {
          "base_uri": "https://localhost:8080/"
        },
        "id": "6DF-nJXIN9id",
        "outputId": "a6aa9529-56a6-4b34-ec7c-82a277def2a8"
      },
      "execution_count": 6,
      "outputs": [
        {
          "output_type": "stream",
          "name": "stdout",
          "text": [
            "<class 'generator'>\n",
            "43\n",
            "<class 'array.array'>\n",
            "[43, 95, 41, 40, 42, 38, 94, 37, 36, 35, 64, 33, 41]\n",
            "\n",
            "<generator object <genexpr> at 0x7f3db70e8150>\n",
            "a1\n",
            "a2\n",
            "a3\n",
            "a4\n",
            "a5\n",
            "a6\n",
            "a7\n",
            "a8\n",
            "a9\n",
            "a10\n",
            "a11\n",
            "a12\n",
            "a13\n",
            "a14\n",
            "a15\n",
            "a16\n",
            "a17\n",
            "a18\n",
            "a19\n",
            "a20\n",
            "b1\n",
            "b2\n",
            "b3\n",
            "b4\n",
            "b5\n",
            "b6\n",
            "b7\n",
            "b8\n",
            "b9\n",
            "b10\n",
            "b11\n",
            "b12\n",
            "b13\n",
            "b14\n",
            "b15\n",
            "b16\n",
            "b17\n",
            "b18\n",
            "b19\n",
            "b20\n",
            "c1\n",
            "c2\n",
            "c3\n",
            "c4\n",
            "c5\n",
            "c6\n",
            "c7\n",
            "c8\n",
            "c9\n",
            "c10\n",
            "c11\n",
            "c12\n",
            "c13\n",
            "c14\n",
            "c15\n",
            "c16\n",
            "c17\n",
            "c18\n",
            "c19\n",
            "c20\n",
            "d1\n",
            "d2\n",
            "d3\n",
            "d4\n",
            "d5\n",
            "d6\n",
            "d7\n",
            "d8\n",
            "d9\n",
            "d10\n",
            "d11\n",
            "d12\n",
            "d13\n",
            "d14\n",
            "d15\n",
            "d16\n",
            "d17\n",
            "d18\n",
            "d19\n",
            "d20\n"
          ]
        }
      ]
    },
    {
      "cell_type": "code",
      "source": [
        "# 리스트 주의\n",
        "\n",
        "# for문으로 했을때 3번 만들고\n",
        "marks1 = [['~'] * 3 for _ in range(3)]\n",
        "\n",
        "# *3으로 했을때는 같은 주소를 가르킴\n",
        "marks2 = [['~'] * 3] * 3\n",
        "\n",
        "print(marks1)\n",
        "print(marks2)\n",
        "\n",
        "print()\n",
        "\n",
        "marks1[0][1] = 'x'\n",
        "marks2[0][1] = 'x'\n",
        "\n",
        "print(marks1)\n",
        "print(marks2)\n",
        "\n",
        "print([id(i) for i in marks1])\n",
        "print([id(i) for i in marks2])"
      ],
      "metadata": {
        "id": "pOZwz3OLS5Wi",
        "colab": {
          "base_uri": "https://localhost:8080/"
        },
        "outputId": "c089ef57-e686-40b2-8515-ae8cf7f0169e"
      },
      "execution_count": 19,
      "outputs": [
        {
          "output_type": "stream",
          "name": "stdout",
          "text": [
            "[['~', '~', '~'], ['~', '~', '~'], ['~', '~', '~']]\n",
            "[['~', '~', '~'], ['~', '~', '~'], ['~', '~', '~']]\n",
            "\n",
            "[['~', 'x', '~'], ['~', '~', '~'], ['~', '~', '~']]\n",
            "[['~', 'x', '~'], ['~', 'x', '~'], ['~', 'x', '~']]\n",
            "[139903009806448, 139903009820992, 139903010124336]\n",
            "[139903009822432, 139903009822432, 139903009822432]\n"
          ]
        }
      ]
    },
    {
      "cell_type": "code",
      "source": [
        ""
      ],
      "metadata": {
        "id": "2jnsgOANQo1G"
      },
      "execution_count": null,
      "outputs": []
    }
  ]
}