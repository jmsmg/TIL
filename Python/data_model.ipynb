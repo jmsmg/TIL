{
  "nbformat": 4,
  "nbformat_minor": 0,
  "metadata": {
    "colab": {
      "name": "data_model.ipynb",
      "provenance": [],
      "authorship_tag": "ABX9TyNeBWRhiiIXBNjD1Eq2Zw2H",
      "include_colab_link": true
    },
    "kernelspec": {
      "name": "python3",
      "display_name": "Python 3"
    },
    "language_info": {
      "name": "python"
    }
  },
  "cells": [
    {
      "cell_type": "markdown",
      "metadata": {
        "id": "view-in-github",
        "colab_type": "text"
      },
      "source": [
        "<a href=\"https://colab.research.google.com/github/jmsmg/TIL/blob/main/Python/data_model.ipynb\" target=\"_parent\"><img src=\"https://colab.research.google.com/assets/colab-badge.svg\" alt=\"Open In Colab\"/></a>"
      ]
    },
    {
      "cell_type": "markdown",
      "source": [
        "# 데이터 모델 추상화\n",
        "\n",
        "- 데이터 모델 설계\n",
        "- named_tuple\n",
        "- model unpacking\n",
        "\n",
        "---\n",
        "\n",
        "- 객체 -> 파이썬의 데이터를 추상화\n",
        "- 모든 객체 -> id, type -> value"
      ],
      "metadata": {
        "id": "3l3OVUoamA_F"
      }
    },
    {
      "cell_type": "code",
      "source": [
        "from typing import NamedTuple\n",
        "# 일반적인 튜플\n",
        "pt1 = (1.0, 5.0)\n",
        "pt2 = (2.5, 1.5)\n",
        "\n",
        "from math import sqrt\n",
        "\n",
        "l_leng1 = sqrt((pt1[0]-pt2[0]) ** 2 + (pt1[1]-pt2[1]) ** 2)\n",
        "\n",
        "print(l_leng1)\n",
        "\n",
        "# 네임드 튜플 사용\n",
        "# 튜플인데 딕셔너리와 유사함 key : value 사용\n",
        "\n",
        "from collections import namedtuple\n",
        "\n",
        "# 네임드 튜플 선언\n",
        "point = namedtuple('point', 'x y')\n",
        "\n",
        "pt3 = point(1.0, 5.0)\n",
        "pt4 = point(2.5, 1.5)\n",
        "\n",
        "print(pt3)\n",
        "print(pt4)\n",
        "\n",
        "l_leng2 = sqrt((pt3.x-pt4.x) ** 2 + (pt3.y - pt4.y) ** 2)\n",
        "\n",
        "print(l_leng2)\n",
        "\n",
        "# 네임드 튜플 선언 방법\n"
      ],
      "metadata": {
        "colab": {
          "base_uri": "https://localhost:8080/"
        },
        "id": "PTUGJqCZmEV3",
        "outputId": "12317c84-ebfb-481f-c602-a0d7a760ebed"
      },
      "execution_count": 7,
      "outputs": [
        {
          "output_type": "stream",
          "name": "stdout",
          "text": [
            "3.8078865529319543\n",
            "point(x=1.0, y=5.0)\n",
            "point(x=2.5, y=1.5)\n",
            "3.8078865529319543\n"
          ]
        }
      ]
    },
    {
      "cell_type": "code",
      "source": [
        ""
      ],
      "metadata": {
        "id": "ZxPk-zM_wyiT"
      },
      "execution_count": null,
      "outputs": []
    }
  ]
}