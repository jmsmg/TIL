{
  "nbformat": 4,
  "nbformat_minor": 0,
  "metadata": {
    "colab": {
      "name": "data_model.ipynb",
      "provenance": [],
      "collapsed_sections": [],
      "authorship_tag": "ABX9TyOTQednmeTNi0TApfMycxdo",
      "include_colab_link": true
    },
    "kernelspec": {
      "name": "python3",
      "display_name": "Python 3"
    },
    "language_info": {
      "name": "python"
    }
  },
  "cells": [
    {
      "cell_type": "markdown",
      "metadata": {
        "id": "view-in-github",
        "colab_type": "text"
      },
      "source": [
        "<a href=\"https://colab.research.google.com/github/jmsmg/TIL/blob/main/Python/data_model.ipynb\" target=\"_parent\"><img src=\"https://colab.research.google.com/assets/colab-badge.svg\" alt=\"Open In Colab\"/></a>"
      ]
    },
    {
      "cell_type": "markdown",
      "source": [
        "# 데이터 모델 추상화\n",
        "\n",
        "- 데이터 모델 설계\n",
        "- named_tuple\n",
        "- model unpacking\n",
        "\n",
        "---\n",
        "\n",
        "- 객체 -> 파이썬의 데이터를 추상화\n",
        "- 모든 객체 -> id, type -> value"
      ],
      "metadata": {
        "id": "3l3OVUoamA_F"
      }
    },
    {
      "cell_type": "code",
      "source": [
        "from typing import NamedTuple\n",
        "# 일반적인 튜플\n",
        "pt1 = (1.0, 5.0)\n",
        "pt2 = (2.5, 1.5)\n",
        "\n",
        "from math import sqrt\n",
        "\n",
        "l_leng1 = sqrt((pt1[0]-pt2[0]) ** 2 + (pt1[1]-pt2[1]) ** 2)\n",
        "\n",
        "print(l_leng1)\n",
        "\n",
        "# 네임드 튜플 사용\n",
        "# 튜플인데 딕셔너리와 유사함 key : value 사용\n",
        "\n",
        "from collections import namedtuple\n",
        "\n",
        "# 네임드 튜플 선언\n",
        "point = namedtuple('point', 'x y')\n",
        "\n",
        "pt3 = point(1.0, 5.0)\n",
        "pt4 = point(2.5, 1.5)\n",
        "\n",
        "print(pt3)\n",
        "print(pt4)\n",
        "\n",
        "l_leng2 = sqrt((pt3.x-pt4.x) ** 2 + (pt3.y - pt4.y) ** 2)\n",
        "\n",
        "print(l_leng2)\n",
        "\n",
        "# 네임드 튜플 선언 방법\n",
        "point1 = namedtuple('point', ['x', 'y'])\n",
        "point2 = namedtuple('point', 'x, y')\n",
        "point3 = namedtuple('point', 'x y')\n",
        "point4 = namedtuple('point', 'x y x class', rename=True) # 잘 쓰이지 않음 default = False\n",
        "\n",
        "# 출력\n",
        "print(point1, point2, point3, point4)\n",
        "\n",
        "# dict to unpacking\n",
        "temp_dict = {'x': 75, 'y' : 55}\n",
        "\n",
        "# 객체 생성\n",
        "p1 = point1(x=10, y=35)\n",
        "p2 = point2(20, 40)\n",
        "p3 = point3(45, y=20)\n",
        "p4 = point4(10, 20, 30, 40)\n",
        "p5 = point3(**temp_dict)\n",
        "\n",
        "print('---------')\n",
        "\n",
        "print(p1)\n",
        "print(p2)\n",
        "print(p3)\n",
        "\n",
        "# rename 테스트\n",
        "print(p4)\n",
        "print(p5)\n",
        "\n",
        "# 사용 \n",
        "print(p1[0] + p2[1])\n",
        "print(p1.x + p2.y)\n",
        "\n",
        "# unpacking\n",
        "x, y = p3\n",
        "\n",
        "# 네임드 튜플 메소드\n",
        "temp = [52, 38]\n",
        "\n",
        "# _make() : 새로운 객체 생성\n",
        "p4 = point1._make(temp) # 리스트 -> 네임드 튜플 변환\n",
        "\n",
        "print(p4)\n",
        "\n",
        "# _fields() : 필드 네임 확인\n",
        "\n",
        "print(p1._fields, p2._fields, p3._fields)\n",
        "\n",
        "# _asdict() : OrderedDict 반환\n",
        "print(p1._asdict())\n",
        "print(p4._asdict())"
      ],
      "metadata": {
        "colab": {
          "base_uri": "https://localhost:8080/"
        },
        "id": "PTUGJqCZmEV3",
        "outputId": "e415e191-4e38-49a1-c345-cafcdc7ff6af"
      },
      "execution_count": 15,
      "outputs": [
        {
          "output_type": "stream",
          "name": "stdout",
          "text": [
            "3.8078865529319543\n",
            "point(x=1.0, y=5.0)\n",
            "point(x=2.5, y=1.5)\n",
            "3.8078865529319543\n",
            "<class '__main__.point'> <class '__main__.point'> <class '__main__.point'> <class '__main__.point'>\n",
            "---------\n",
            "point(x=10, y=35)\n",
            "point(x=20, y=40)\n",
            "point(x=45, y=20)\n",
            "point(x=10, y=20, _2=30, _3=40)\n",
            "point(x=75, y=55)\n",
            "50\n",
            "50\n",
            "point(x=52, y=38)\n",
            "('x', 'y') ('x', 'y') ('x', 'y')\n",
            "OrderedDict([('x', 10), ('y', 35)])\n",
            "OrderedDict([('x', 52), ('y', 38)])\n"
          ]
        }
      ]
    },
    {
      "cell_type": "code",
      "source": [
        ""
      ],
      "metadata": {
        "id": "ZxPk-zM_wyiT"
      },
      "execution_count": null,
      "outputs": []
    }
  ]
}