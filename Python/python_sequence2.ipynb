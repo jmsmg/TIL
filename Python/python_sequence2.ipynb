{
  "nbformat": 4,
  "nbformat_minor": 0,
  "metadata": {
    "colab": {
      "name": "python_sequence2.ipynb",
      "provenance": [],
      "collapsed_sections": [],
      "authorship_tag": "ABX9TyO2Md4G4lgwyNT7NzreTjif",
      "include_colab_link": true
    },
    "kernelspec": {
      "name": "python3",
      "display_name": "Python 3"
    },
    "language_info": {
      "name": "python"
    }
  },
  "cells": [
    {
      "cell_type": "markdown",
      "metadata": {
        "id": "view-in-github",
        "colab_type": "text"
      },
      "source": [
        "<a href=\"https://colab.research.google.com/github/jmsmg/TIL/blob/main/Python/python_sequence2.ipynb\" target=\"_parent\"><img src=\"https://colab.research.google.com/assets/colab-badge.svg\" alt=\"Open In Colab\"/></a>"
      ]
    },
    {
      "cell_type": "markdown",
      "source": [
        "# Sequence\n",
        "\n",
        "## 구분\n",
        "\n",
        "### 형태\n",
        "- container : 서로 다른 자료형을 담을 수 있음\n",
        "  - list\n",
        "  - tuple\n",
        "  - collections.deque\n",
        "\n",
        "- flat : 한개의 자료형(str, bytes, bytearray, array.array, memoryview)\n",
        "\n",
        "### 가변 불변\n",
        "- 가변\n",
        "  - list\n",
        "  - bytearray\n",
        "  - array.array\n",
        "  - memoryview\n",
        "  - deque\n",
        "\n",
        "- 불변\n",
        "  - tuple\n",
        "  - str\n",
        "  - bytes"
      ],
      "metadata": {
        "id": "_CzkDwnK9rRh"
      }
    },
    {
      "cell_type": "code",
      "execution_count": 12,
      "metadata": {
        "colab": {
          "base_uri": "https://localhost:8080/"
        },
        "id": "qOQCNU5W9qWq",
        "outputId": "636d17f3-4c8e-4398-e545-fed750a83b84"
      },
      "outputs": [
        {
          "output_type": "stream",
          "name": "stdout",
          "text": [
            "(11, 1)\n",
            "(11, 1)\n",
            "11 1\n",
            "\n",
            "0 1 [2, 3, 4, 5, 6, 7, 8, 9]\n",
            "---------\n",
            "0 1 []\n",
            "---------\n",
            "1 2 [3, 4, 5, 6, 7]\n",
            "---------\n"
          ]
        }
      ],
      "source": [
        "# Tuple Advanced\n",
        "# Unpacking\n",
        "\n",
        "# b, a = a, b\n",
        "\n",
        "# 앞에 *를 붙여 Unpacking\n",
        "print(divmod(100, 9))\n",
        "\n",
        "# 튜플 나누기\n",
        "print(divmod(*(100, 9))) # (100, 9)라는 튜플을 언패킹하여 나눔\n",
        "print(*(divmod(100, 9))) # 100 / 9를 실행하고 언패킹\n",
        "\n",
        "print()\n",
        "\n",
        "# 연속된 데이터 할당\n",
        "# *를 붙이면 리스트로 묶임 (C언어에서 주소값 == array인것과 비슷해보임)\n",
        "\n",
        "x, y, *rest = range(10)\n",
        "print(x, y, rest)\n",
        "\n",
        "print('---------')\n",
        "\n",
        "x, y, *rest = range(2)\n",
        "print(x, y, rest)\n",
        "\n",
        "print('---------')\n",
        "\n",
        "x, y, *rest = 1, 2, 3, 4, 5, 6, 7\n",
        "print(x, y, rest)\n",
        "\n",
        "print('---------')"
      ]
    },
    {
      "cell_type": "markdown",
      "source": [
        "## Mutable(가변) vs Immutable(불변)\n",
        "\n",
        "l = l * 2는 재할당이기때문에 주소값이 불변이든 가변이든 변함\n",
        "\n",
        "- 리스트(가변형)\n",
        "  - l *= 2 했을때 주소 값이 변하지 않음\n",
        "- 튜플(불변형)\n",
        "  - m *= 2 했을때 주소 값이 변함\n",
        "\n",
        "## 이유\n",
        "- 튜플은 변할 수 없기 때문에 재할당을 진행하고, 리스트는 자신을 변화시킴"
      ],
      "metadata": {
        "id": "kP5o36Np9_Vt"
      }
    },
    {
      "cell_type": "code",
      "source": [
        "l = (15, 20, 25)\n",
        "m = [15, 20, 25]\n",
        "\n",
        "print(l, id(l))\n",
        "print(m, id(m))\n",
        "\n",
        "print('---------')\n",
        "\n",
        "l = l*2\n",
        "m = m*2\n",
        "\n",
        "print(l, id(l))\n",
        "print(m, id(m))\n",
        "\n",
        "print('---------')\n",
        "\n",
        "l *= 2\n",
        "m *= 2\n",
        "\n",
        "print(l, id(l))\n",
        "print(m, id(m))"
      ],
      "metadata": {
        "colab": {
          "base_uri": "https://localhost:8080/"
        },
        "id": "1YCIJUCh_llO",
        "outputId": "4d49d027-6ff2-45f8-acba-ea1c44239f80"
      },
      "execution_count": 17,
      "outputs": [
        {
          "output_type": "stream",
          "name": "stdout",
          "text": [
            "(15, 20, 25) 140277680356080\n",
            "[15, 20, 25] 140277651495424\n",
            "---------\n",
            "(15, 20, 25, 15, 20, 25) 140277722499904\n",
            "[15, 20, 25, 15, 20, 25] 140277651398976\n",
            "---------\n",
            "(15, 20, 25, 15, 20, 25, 15, 20, 25, 15, 20, 25) 140277728633232\n",
            "[15, 20, 25, 15, 20, 25, 15, 20, 25, 15, 20, 25] 140277651398976\n"
          ]
        }
      ]
    },
    {
      "cell_type": "code",
      "source": [
        "# sort vs sorted\n",
        "# reverse, key=len, key=str.lower, key=func...\n",
        "\n",
        "# sorted : 정렬 후 새로운 객체 반환 (메모리 사용량이 많으나, 불변형도 가능)\n",
        "f_list = ['orange', 'apple', 'mango', 'papaya', 'lemon', 'strawberry', 'coconut']\n",
        "f_list = ['orange', 'apple', 'mango', 'papaya', 'lemon', 'strawberry', 'coconut']\n",
        "print('sorted - ', sorted(f_list))\n",
        "print('sorted - ', sorted(f_list, reverse=True))\n",
        "print('sorted - ', sorted(f_list, key=len))\n",
        "print('sorted - ', sorted(f_list, key=lambda x: x[-1]))\n",
        "print('sorted - ', sorted(f_list, key=lambda x: x[-1], reverse=True))\n",
        "\n",
        "print(f_list)\n",
        "\n",
        "\n",
        "# sort : 정렬 후 객체 직접 변경 (메모리 사용량이 적으나, 불변형은 불가)\n",
        "# 반환값 (None)\n",
        "\n",
        "print('sort -', f_list.sort(), f_list)\n",
        "print('sort -', f_list.sort(reverse=True), f_list)\n",
        "print('sort -', f_list.sort(key=len), f_list)\n",
        "print('sort -', f_list.sort(key=lambda x: x[-1]), f_list)\n",
        "print('sort -', f_list.sort(key=lambda x: x[-1], reverse=True), f_list)\n",
        "\n",
        "# List vs Array 적합한 사용법 설명\n",
        "# 리스트 기반 : 융통성, 다양한 자료형, 범용적 사용\n",
        "# 숫자 기반 : 배열(리스트와 거의 호환) 숫자 고속연산 가능\n",
        "\n"
      ],
      "metadata": {
        "colab": {
          "base_uri": "https://localhost:8080/"
        },
        "id": "0yzQ6XN1BteX",
        "outputId": "9a90d609-50bf-43a7-cebb-219c2d135a1a"
      },
      "execution_count": 26,
      "outputs": [
        {
          "output_type": "stream",
          "name": "stdout",
          "text": [
            "sorted -  ['apple', 'coconut', 'lemon', 'mango', 'orange', 'papaya', 'strawberry']\n",
            "sorted -  ['strawberry', 'papaya', 'orange', 'mango', 'lemon', 'coconut', 'apple']\n",
            "sorted -  ['apple', 'mango', 'lemon', 'orange', 'papaya', 'coconut', 'strawberry']\n",
            "sorted -  ['papaya', 'orange', 'apple', 'lemon', 'mango', 'coconut', 'strawberry']\n",
            "sorted -  ['strawberry', 'coconut', 'mango', 'lemon', 'orange', 'apple', 'papaya']\n",
            "['orange', 'apple', 'mango', 'papaya', 'lemon', 'strawberry', 'coconut']\n",
            "sort - None ['apple', 'coconut', 'lemon', 'mango', 'orange', 'papaya', 'strawberry']\n",
            "sort - None ['strawberry', 'papaya', 'orange', 'mango', 'lemon', 'coconut', 'apple']\n",
            "sort - None ['mango', 'lemon', 'apple', 'papaya', 'orange', 'coconut', 'strawberry']\n",
            "sort - None ['papaya', 'apple', 'orange', 'lemon', 'mango', 'coconut', 'strawberry']\n",
            "sort - None ['strawberry', 'coconut', 'mango', 'lemon', 'apple', 'orange', 'papaya']\n"
          ]
        }
      ]
    },
    {
      "cell_type": "code",
      "source": [
        "\n"
      ],
      "metadata": {
        "id": "EoVdzoMGB7fQ"
      },
      "execution_count": null,
      "outputs": []
    }
  ]
}