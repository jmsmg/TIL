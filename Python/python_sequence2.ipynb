{
  "nbformat": 4,
  "nbformat_minor": 0,
  "metadata": {
    "colab": {
      "name": "python_sequence2.ipynb",
      "provenance": [],
      "collapsed_sections": [],
      "authorship_tag": "ABX9TyN9f9Le7bNmGMBk09q0HnnM",
      "include_colab_link": true
    },
    "kernelspec": {
      "name": "python3",
      "display_name": "Python 3"
    },
    "language_info": {
      "name": "python"
    }
  },
  "cells": [
    {
      "cell_type": "markdown",
      "metadata": {
        "id": "view-in-github",
        "colab_type": "text"
      },
      "source": [
        "<a href=\"https://colab.research.google.com/github/jmsmg/TIL/blob/main/Python/python_sequence2.ipynb\" target=\"_parent\"><img src=\"https://colab.research.google.com/assets/colab-badge.svg\" alt=\"Open In Colab\"/></a>"
      ]
    },
    {
      "cell_type": "markdown",
      "source": [
        "# Sequence\n",
        "\n",
        "## 구분\n",
        "\n",
        "### 형태\n",
        "- container : 서로 다른 자료형을 담을 수 있음\n",
        "  - list\n",
        "  - tuple\n",
        "  - collections.deque\n",
        "\n",
        "- flat : 한개의 자료형(str, bytes, bytearray, array.array, memoryview)\n",
        "\n",
        "### 가변 불변\n",
        "- 가변\n",
        "  - list\n",
        "  - bytearray\n",
        "  - array.array\n",
        "  - memoryview\n",
        "  - deque\n",
        "\n",
        "- 불변\n",
        "  - tuple\n",
        "  - str\n",
        "  - bytes"
      ],
      "metadata": {
        "id": "_CzkDwnK9rRh"
      }
    },
    {
      "cell_type": "code",
      "execution_count": null,
      "metadata": {
        "colab": {
          "base_uri": "https://localhost:8080/"
        },
        "id": "qOQCNU5W9qWq",
        "outputId": "636d17f3-4c8e-4398-e545-fed750a83b84"
      },
      "outputs": [
        {
          "output_type": "stream",
          "name": "stdout",
          "text": [
            "(11, 1)\n",
            "(11, 1)\n",
            "11 1\n",
            "\n",
            "0 1 [2, 3, 4, 5, 6, 7, 8, 9]\n",
            "---------\n",
            "0 1 []\n",
            "---------\n",
            "1 2 [3, 4, 5, 6, 7]\n",
            "---------\n"
          ]
        }
      ],
      "source": [
        "# Tuple Advanced\n",
        "# Unpacking\n",
        "\n",
        "# b, a = a, b\n",
        "\n",
        "# 앞에 *를 붙여 Unpacking\n",
        "print(divmod(100, 9))\n",
        "\n",
        "# 튜플 나누기\n",
        "print(divmod(*(100, 9))) # (100, 9)라는 튜플을 언패킹하여 나눔\n",
        "print(*(divmod(100, 9))) # 100 / 9를 실행하고 언패킹\n",
        "\n",
        "print()\n",
        "\n",
        "# 연속된 데이터 할당\n",
        "# *를 붙이면 리스트로 묶임 (C언어에서 주소값 == array인것과 비슷해보임)\n",
        "\n",
        "x, y, *rest = range(10)\n",
        "print(x, y, rest)\n",
        "\n",
        "print('---------')\n",
        "\n",
        "x, y, *rest = range(2)\n",
        "print(x, y, rest)\n",
        "\n",
        "print('---------')\n",
        "\n",
        "x, y, *rest = 1, 2, 3, 4, 5, 6, 7\n",
        "print(x, y, rest)\n",
        "\n",
        "print('---------')"
      ]
    },
    {
      "cell_type": "markdown",
      "source": [
        "## Mutable(가변) vs Immutable(불변)\n",
        "\n",
        "l = l * 2는 재할당이기때문에 주소값이 불변이든 가변이든 변함\n",
        "\n",
        "- 리스트(가변형)\n",
        "  - l *= 2 했을때 주소 값이 변하지 않음\n",
        "- 튜플(불변형)\n",
        "  - m *= 2 했을때 주소 값이 변함\n",
        "\n",
        "## 이유\n",
        "- 튜플은 변할 수 없기 때문에 재할당을 진행하고, 리스트는 자신을 변화시킴"
      ],
      "metadata": {
        "id": "kP5o36Np9_Vt"
      }
    },
    {
      "cell_type": "code",
      "source": [
        "l = (15, 20, 25)\n",
        "m = [15, 20, 25]\n",
        "\n",
        "print(l, id(l))\n",
        "print(m, id(m))\n",
        "\n",
        "print('---------')\n",
        "\n",
        "l = l*2\n",
        "m = m*2\n",
        "\n",
        "print(l, id(l))\n",
        "print(m, id(m))\n",
        "\n",
        "print('---------')\n",
        "\n",
        "l *= 2\n",
        "m *= 2\n",
        "\n",
        "print(l, id(l))\n",
        "print(m, id(m))"
      ],
      "metadata": {
        "colab": {
          "base_uri": "https://localhost:8080/"
        },
        "id": "1YCIJUCh_llO",
        "outputId": "4d49d027-6ff2-45f8-acba-ea1c44239f80"
      },
      "execution_count": null,
      "outputs": [
        {
          "output_type": "stream",
          "name": "stdout",
          "text": [
            "(15, 20, 25) 140277680356080\n",
            "[15, 20, 25] 140277651495424\n",
            "---------\n",
            "(15, 20, 25, 15, 20, 25) 140277722499904\n",
            "[15, 20, 25, 15, 20, 25] 140277651398976\n",
            "---------\n",
            "(15, 20, 25, 15, 20, 25, 15, 20, 25, 15, 20, 25) 140277728633232\n",
            "[15, 20, 25, 15, 20, 25, 15, 20, 25, 15, 20, 25] 140277651398976\n"
          ]
        }
      ]
    },
    {
      "cell_type": "code",
      "source": [
        "# sort vs sorted\n",
        "# reverse, key=len, key=str.lower, key=func...\n",
        "\n",
        "# sorted : 정렬 후 새로운 객체 반환 (메모리 사용량이 많으나, 불변형도 가능)\n",
        "f_list = ['orange', 'apple', 'mango', 'papaya', 'lemon', 'strawberry', 'coconut']\n",
        "print(f_list)\n",
        "f_list = ['orange', 'apple', 'mango', 'papaya', 'lemon', 'strawberry', 'coconut']\n",
        "print('sorted - ', sorted(f_list))\n",
        "print('sorted - ', sorted(f_list, reverse=True))\n",
        "print('sorted - ', sorted(f_list, key=len))\n",
        "print('sorted - ', sorted(f_list, key=lambda x: x[-1]))\n",
        "print('sorted - ', sorted(f_list, key=lambda x: x[-1], reverse=True))\n",
        "\n",
        "print(f_list)\n",
        "\n",
        "\n",
        "# sort : 정렬 후 객체 직접 변경 (메모리 사용량이 적으나, 불변형은 불가)\n",
        "# 반환값 (None)\n",
        "\n",
        "print('sort -', f_list.sort(), f_list)\n",
        "print('sort -', f_list.sort(reverse=True), f_list)\n",
        "print('sort -', f_list.sort(key=len), f_list)\n",
        "print('sort -', f_list.sort(key=lambda x: x[-1]), f_list)\n",
        "print('sort -', f_list.sort(key=lambda x: x[-1], reverse=True), f_list)\n",
        "\n",
        "# List vs Array 적합한 사용법 설명\n",
        "# 리스트 기반 : 융통성, 다양한 자료형, 범용적 사용\n",
        "# 숫자 기반 : 배열(리스트와 거의 호환) 숫자 고속연산 가능\n",
        "\n"
      ],
      "metadata": {
        "colab": {
          "base_uri": "https://localhost:8080/"
        },
        "id": "0yzQ6XN1BteX",
        "outputId": "743c0556-a9bf-455e-ba46-d18f3e1ebc21"
      },
      "execution_count": null,
      "outputs": [
        {
          "output_type": "stream",
          "name": "stdout",
          "text": [
            "['orange', 'apple', 'mango', 'papaya', 'lemon', 'strawberry', 'coconut']\n",
            "sorted -  ['apple', 'coconut', 'lemon', 'mango', 'orange', 'papaya', 'strawberry']\n",
            "sorted -  ['strawberry', 'papaya', 'orange', 'mango', 'lemon', 'coconut', 'apple']\n",
            "sorted -  ['apple', 'mango', 'lemon', 'orange', 'papaya', 'coconut', 'strawberry']\n",
            "sorted -  ['papaya', 'orange', 'apple', 'lemon', 'mango', 'coconut', 'strawberry']\n",
            "sorted -  ['strawberry', 'coconut', 'mango', 'lemon', 'orange', 'apple', 'papaya']\n",
            "['orange', 'apple', 'mango', 'papaya', 'lemon', 'strawberry', 'coconut']\n",
            "sort - None ['apple', 'coconut', 'lemon', 'mango', 'orange', 'papaya', 'strawberry']\n",
            "sort - None ['strawberry', 'papaya', 'orange', 'mango', 'lemon', 'coconut', 'apple']\n",
            "sort - None ['mango', 'lemon', 'apple', 'papaya', 'orange', 'coconut', 'strawberry']\n",
            "sort - None ['papaya', 'apple', 'orange', 'lemon', 'mango', 'coconut', 'strawberry']\n",
            "sort - None ['strawberry', 'coconut', 'mango', 'lemon', 'apple', 'orange', 'papaya']\n"
          ]
        }
      ]
    },
    {
      "cell_type": "markdown",
      "source": [
        "- 해시테이블\n",
        "- Dict 생성\n",
        "- Setdefault"
      ],
      "metadata": {
        "id": "EoVdzoMGB7fQ"
      }
    },
    {
      "cell_type": "code",
      "source": [
        "# 해시테이블\n",
        "\n",
        "# Key에 Value를 저장하는 구조 (파이썬 자체는 엔진이 해시테이블로 구현되어있음)\n",
        "# 파이썬 dict 해쉬 테이블 예\n",
        "# 키 값의 연산 결과에 따라 직접 접근이 가능한 구조\n",
        "# Key 값을 해싱 함수 -> 해싱 주소 -> Key에 대한 value 참조\n",
        "\n",
        "# Dict 구조\n",
        "print(__builtin__.__dict__)"
      ],
      "metadata": {
        "colab": {
          "base_uri": "https://localhost:8080/"
        },
        "id": "Wo4baLo59le9",
        "outputId": "e3a2f5d4-cc24-46a9-af69-8d5a8e4188e8"
      },
      "execution_count": null,
      "outputs": [
        {
          "output_type": "stream",
          "name": "stdout",
          "text": [
            "{'__name__': 'builtins', '__doc__': \"Built-in functions, exceptions, and other objects.\\n\\nNoteworthy: None is the `nil' object; Ellipsis represents `...' in slices.\", '__package__': '', '__loader__': <class '_frozen_importlib.BuiltinImporter'>, '__spec__': ModuleSpec(name='builtins', loader=<class '_frozen_importlib.BuiltinImporter'>), '__build_class__': <built-in function __build_class__>, '__import__': <built-in function __import__>, 'abs': <built-in function abs>, 'all': <built-in function all>, 'any': <built-in function any>, 'ascii': <built-in function ascii>, 'bin': <built-in function bin>, 'breakpoint': <built-in function breakpoint>, 'callable': <built-in function callable>, 'chr': <built-in function chr>, 'compile': <built-in function compile>, 'delattr': <built-in function delattr>, 'dir': <built-in function dir>, 'divmod': <built-in function divmod>, 'eval': <built-in function eval>, 'exec': <built-in function exec>, 'format': <built-in function format>, 'getattr': <built-in function getattr>, 'globals': <built-in function globals>, 'hasattr': <built-in function hasattr>, 'hash': <built-in function hash>, 'hex': <built-in function hex>, 'id': <built-in function id>, 'input': <bound method Kernel.raw_input of <google.colab._kernel.Kernel object at 0x7f665c7fbfd0>>, 'isinstance': <built-in function isinstance>, 'issubclass': <built-in function issubclass>, 'iter': <built-in function iter>, 'len': <built-in function len>, 'locals': <built-in function locals>, 'max': <built-in function max>, 'min': <built-in function min>, 'next': <built-in function next>, 'oct': <built-in function oct>, 'ord': <built-in function ord>, 'pow': <built-in function pow>, 'print': <built-in function print>, 'repr': <built-in function repr>, 'round': <built-in function round>, 'setattr': <built-in function setattr>, 'sorted': <built-in function sorted>, 'sum': <built-in function sum>, 'vars': <built-in function vars>, 'None': None, 'Ellipsis': Ellipsis, 'NotImplemented': NotImplemented, 'False': False, 'True': True, 'bool': <class 'bool'>, 'memoryview': <class 'memoryview'>, 'bytearray': <class 'bytearray'>, 'bytes': <class 'bytes'>, 'classmethod': <class 'classmethod'>, 'complex': <class 'complex'>, 'dict': <class 'dict'>, 'enumerate': <class 'enumerate'>, 'filter': <class 'filter'>, 'float': <class 'float'>, 'frozenset': <class 'frozenset'>, 'property': <class 'property'>, 'int': <class 'int'>, 'list': <class 'list'>, 'map': <class 'map'>, 'object': <class 'object'>, 'range': <class 'range'>, 'reversed': <class 'reversed'>, 'set': <class 'set'>, 'slice': <class 'slice'>, 'staticmethod': <class 'staticmethod'>, 'str': <class 'str'>, 'super': <class 'super'>, 'tuple': <class 'tuple'>, 'type': <class 'type'>, 'zip': <class 'zip'>, '__debug__': True, 'BaseException': <class 'BaseException'>, 'Exception': <class 'Exception'>, 'TypeError': <class 'TypeError'>, 'StopAsyncIteration': <class 'StopAsyncIteration'>, 'StopIteration': <class 'StopIteration'>, 'GeneratorExit': <class 'GeneratorExit'>, 'SystemExit': <class 'SystemExit'>, 'KeyboardInterrupt': <class 'KeyboardInterrupt'>, 'ImportError': <class 'ImportError'>, 'ModuleNotFoundError': <class 'ModuleNotFoundError'>, 'OSError': <class 'OSError'>, 'EnvironmentError': <class 'OSError'>, 'IOError': <class 'OSError'>, 'EOFError': <class 'EOFError'>, 'RuntimeError': <class 'RuntimeError'>, 'RecursionError': <class 'RecursionError'>, 'NotImplementedError': <class 'NotImplementedError'>, 'NameError': <class 'NameError'>, 'UnboundLocalError': <class 'UnboundLocalError'>, 'AttributeError': <class 'AttributeError'>, 'SyntaxError': <class 'SyntaxError'>, 'IndentationError': <class 'IndentationError'>, 'TabError': <class 'TabError'>, 'LookupError': <class 'LookupError'>, 'IndexError': <class 'IndexError'>, 'KeyError': <class 'KeyError'>, 'ValueError': <class 'ValueError'>, 'UnicodeError': <class 'UnicodeError'>, 'UnicodeEncodeError': <class 'UnicodeEncodeError'>, 'UnicodeDecodeError': <class 'UnicodeDecodeError'>, 'UnicodeTranslateError': <class 'UnicodeTranslateError'>, 'AssertionError': <class 'AssertionError'>, 'ArithmeticError': <class 'ArithmeticError'>, 'FloatingPointError': <class 'FloatingPointError'>, 'OverflowError': <class 'OverflowError'>, 'ZeroDivisionError': <class 'ZeroDivisionError'>, 'SystemError': <class 'SystemError'>, 'ReferenceError': <class 'ReferenceError'>, 'MemoryError': <class 'MemoryError'>, 'BufferError': <class 'BufferError'>, 'Warning': <class 'Warning'>, 'UserWarning': <class 'UserWarning'>, 'DeprecationWarning': <class 'DeprecationWarning'>, 'PendingDeprecationWarning': <class 'PendingDeprecationWarning'>, 'SyntaxWarning': <class 'SyntaxWarning'>, 'RuntimeWarning': <class 'RuntimeWarning'>, 'FutureWarning': <class 'FutureWarning'>, 'ImportWarning': <class 'ImportWarning'>, 'UnicodeWarning': <class 'UnicodeWarning'>, 'BytesWarning': <class 'BytesWarning'>, 'ResourceWarning': <class 'ResourceWarning'>, 'ConnectionError': <class 'ConnectionError'>, 'BlockingIOError': <class 'BlockingIOError'>, 'BrokenPipeError': <class 'BrokenPipeError'>, 'ChildProcessError': <class 'ChildProcessError'>, 'ConnectionAbortedError': <class 'ConnectionAbortedError'>, 'ConnectionRefusedError': <class 'ConnectionRefusedError'>, 'ConnectionResetError': <class 'ConnectionResetError'>, 'FileExistsError': <class 'FileExistsError'>, 'FileNotFoundError': <class 'FileNotFoundError'>, 'IsADirectoryError': <class 'IsADirectoryError'>, 'NotADirectoryError': <class 'NotADirectoryError'>, 'InterruptedError': <class 'InterruptedError'>, 'PermissionError': <class 'PermissionError'>, 'ProcessLookupError': <class 'ProcessLookupError'>, 'TimeoutError': <class 'TimeoutError'>, 'open': <built-in function open>, 'copyright': Copyright (c) 2001-2021 Python Software Foundation.\n",
            "All Rights Reserved.\n",
            "\n",
            "Copyright (c) 2000 BeOpen.com.\n",
            "All Rights Reserved.\n",
            "\n",
            "Copyright (c) 1995-2001 Corporation for National Research Initiatives.\n",
            "All Rights Reserved.\n",
            "\n",
            "Copyright (c) 1991-1995 Stichting Mathematisch Centrum, Amsterdam.\n",
            "All Rights Reserved., 'credits':     Thanks to CWI, CNRI, BeOpen.com, Zope Corporation and a cast of thousands\n",
            "    for supporting Python development.  See www.python.org for more information., 'license': Type license() to see the full license text, 'help': Type help() for interactive help, or help(object) for help about object., '__IPYTHON__': True, 'display': <function display at 0x7f6676167290>, 'execfile': <function execfile at 0x7f66567edc20>, 'runfile': <function runfile at 0x7f6656528560>, 'get_ipython': <bound method InteractiveShell.get_ipython of <google.colab._shell.Shell object at 0x7f665c800090>>, 'dreload': <function _dreload at 0x7f66597a33b0>}\n"
          ]
        }
      ]
    },
    {
      "cell_type": "code",
      "source": [
        "# hash 값 확인\n",
        "\n",
        "t1 = (10, 20, (30, 40, 50))\n",
        "t2 = (10, 20, [30, 40, 50])\n",
        "print(hash(t1))\n",
        "# print(hash(t2)) 리스트는 mutable하기때문에 해시주소를 확인할 수 없음\n",
        "\n",
        "# Dict setdefault\n",
        "source = (('k1', 'value1'),\n",
        "          ('k1', 'value2'),\n",
        "          ('k2', 'value3'),\n",
        "          ('k2', 'value4'),\n",
        "          ('k2', 'value5'))\n",
        "\n",
        "new_dict1 = {}\n",
        "new_dict2 = {}\n",
        "\n",
        "# No use Setdefault\n",
        "for k, v in source:\n",
        "  if k in new_dict1:\n",
        "    new_dict1[k].append(v)\n",
        "  else:\n",
        "    new_dict1[k] = [v]\n",
        "\n",
        "print(new_dict1)\n",
        "\n",
        "# use Setdefault\n",
        "for k, v in source:\n",
        "  new_dict2.setdefault(k, []).append(v)\n",
        "\n",
        "print(new_dict2)\n",
        "\n",
        "new_dict3 = {k: v for k, v in source}\n",
        "\n",
        "print(new_dict3)"
      ],
      "metadata": {
        "colab": {
          "base_uri": "https://localhost:8080/"
        },
        "id": "xUavC5RwAags",
        "outputId": "f91388ca-a1cf-442d-ecda-c1ba3d3738a5"
      },
      "execution_count": null,
      "outputs": [
        {
          "output_type": "stream",
          "name": "stdout",
          "text": [
            "5737367089334957572\n",
            "{'k1': ['value1', 'value2'], 'k2': ['value3', 'value4', 'value5']}\n",
            "{'k1': ['value1', 'value2'], 'k2': ['value3', 'value4', 'value5']}\n",
            "{'k1': 'value2', 'k2': 'value5'}\n"
          ]
        }
      ]
    },
    {
      "cell_type": "markdown",
      "source": [
        "---\n",
        "\n",
        "- 해시테이블\n",
        "  - 적은 리소스로 많은 데이터를 효율적으로 관리\n",
        "- Immutable Dict 생성\n",
        "- 지능형 Set\n",
        "- Set 선언 최적화"
      ],
      "metadata": {
        "id": "TnIu7n50Atsr"
      }
    },
    {
      "cell_type": "code",
      "source": [
        "# Dict -> Key 중복 허용 X, Set -> 중복 허용 X\n",
        "# Dict 및 Set 심화\n",
        "\n",
        "# Immutable Dict\n",
        "\n",
        "from types import MappingProxyType # 읽기전용(수정불가) Dict를 만들 수 있음\n",
        "\n",
        "d = {'key1' : 'value1'}\n",
        "\n",
        "# read only\n",
        "d_frozen = MappingProxyType(d)\n",
        "\n",
        "print(d, id(d)) # 해시 불가\n",
        "print(d, id(d_frozen)) # 해시 불가\n",
        "\n",
        "print('-------')\n",
        "\n",
        "# 수정불가\n",
        "# d_frozen['key2'] = 'value2'\n",
        "\n",
        "# 수정가능\n",
        "d['key2'] = 'value2'\n",
        "print(d)"
      ],
      "metadata": {
        "colab": {
          "base_uri": "https://localhost:8080/"
        },
        "id": "rpPaew8XBkMP",
        "outputId": "b3f44f38-f02c-4557-a158-481d04b67b5b"
      },
      "execution_count": 8,
      "outputs": [
        {
          "output_type": "stream",
          "name": "stdout",
          "text": [
            "{'key1': 'value1'} 139793762447760\n",
            "{'key1': 'value1'} 139793764324816\n",
            "-------\n",
            "{'key1': 'value1', 'key2': 'value2'}\n"
          ]
        }
      ]
    },
    {
      "cell_type": "code",
      "source": [
        "s1 = {'Apple', 'Orange', 'Apple', 'Orange', 'Kiwi'}\n",
        "s2 = set(['Apple', 'Orange', 'Apple', 'Orange', 'Kiwi'])\n",
        "s3 = {3}\n",
        "s4 = set()\n",
        "s5 = frozenset({'Apple', 'Orange', 'Apple', 'Orange', 'Kiwi'})\n",
        "\n",
        "# frozenset은 추가 불가능 \n",
        "# s5.add('Melon')\n",
        "\n",
        "print(s1, type(s1))\n",
        "print(s2, type(s2))\n",
        "print(s3, type(s3))\n",
        "print(s4, type(s4))\n",
        "print(s5, type(s5))\n",
        "\n",
        "# 선언 최적화\n",
        "# 바이트 코드 -> 파이썬 인터프리터 실행\n",
        "from dis import dis\n",
        "\n",
        "print('--------')\n",
        "print(dis('{10}')) # 직접 할당이 더 빠름\n",
        "\n",
        "print('--------')\n",
        "print(dis('set([10])')) # 함수를 이용하면 더 느림\n",
        "\n",
        "# 지능형 집합(Comprehending Set)\n",
        "print('--------')\n",
        "\n",
        "from unicodedata import name\n",
        "\n",
        "print({name(chr(i), '') for i in range(0, 256)})"
      ],
      "metadata": {
        "colab": {
          "base_uri": "https://localhost:8080/"
        },
        "id": "__0W7XZYCnQl",
        "outputId": "a379c414-8c48-486e-c89e-9a8a6eb9dfbb"
      },
      "execution_count": 28,
      "outputs": [
        {
          "output_type": "stream",
          "name": "stdout",
          "text": [
            "{'Kiwi', 'Apple', 'Orange'} <class 'set'>\n",
            "{'Kiwi', 'Apple', 'Orange'} <class 'set'>\n",
            "{3} <class 'set'>\n",
            "set() <class 'set'>\n",
            "frozenset({'Kiwi', 'Apple', 'Orange'}) <class 'frozenset'>\n",
            "--------\n",
            "  1           0 LOAD_CONST               0 (10)\n",
            "              2 BUILD_SET                1\n",
            "              4 RETURN_VALUE\n",
            "None\n",
            "--------\n",
            "  1           0 LOAD_NAME                0 (set)\n",
            "              2 LOAD_CONST               0 (10)\n",
            "              4 BUILD_LIST               1\n",
            "              6 CALL_FUNCTION            1\n",
            "              8 RETURN_VALUE\n",
            "None\n",
            "--------\n",
            "{'', 'TILDE', 'LATIN CAPITAL LETTER U WITH DIAERESIS', 'YEN SIGN', 'LATIN CAPITAL LETTER C WITH CEDILLA', 'SECTION SIGN', 'LATIN CAPITAL LETTER N', 'LATIN CAPITAL LETTER A WITH DIAERESIS', 'PERCENT SIGN', 'LATIN SMALL LETTER A WITH ACUTE', 'LATIN CAPITAL LETTER P', 'LATIN SMALL LETTER E WITH DIAERESIS', 'GREATER-THAN SIGN', 'LATIN CAPITAL LETTER Y', 'LATIN SMALL LETTER A', 'LATIN SMALL LETTER SHARP S', 'LATIN SMALL LETTER I WITH ACUTE', 'LATIN SMALL LETTER I WITH CIRCUMFLEX', 'LATIN CAPITAL LETTER U WITH GRAVE', 'LATIN CAPITAL LETTER X', 'LATIN SMALL LETTER H', 'MACRON', 'LATIN SMALL LETTER Z', 'LATIN CAPITAL LETTER M', 'LEFT CURLY BRACKET', 'LATIN CAPITAL LETTER B', 'LATIN SMALL LETTER N WITH TILDE', 'MIDDLE DOT', 'APOSTROPHE', 'LESS-THAN SIGN', 'LATIN CAPITAL LETTER C', 'LATIN SMALL LETTER E WITH ACUTE', 'SUPERSCRIPT THREE', 'LATIN SMALL LETTER O WITH CIRCUMFLEX', 'LATIN SMALL LETTER I', 'LATIN CAPITAL LETTER I WITH ACUTE', 'CURRENCY SIGN', 'LATIN CAPITAL LETTER H', 'LATIN SMALL LETTER I WITH GRAVE', 'LATIN CAPITAL LETTER U', 'REGISTERED SIGN', 'SEMICOLON', 'PILCROW SIGN', 'LATIN SMALL LETTER J', 'LATIN CAPITAL LETTER T', 'DIGIT NINE', 'LATIN CAPITAL LETTER Q', 'LATIN SMALL LETTER THORN', 'PLUS-MINUS SIGN', 'LATIN SMALL LETTER B', 'LATIN SMALL LETTER Y WITH ACUTE', 'LATIN CAPITAL LETTER E WITH ACUTE', 'VERTICAL LINE', 'DIGIT FOUR', 'ACUTE ACCENT', 'LATIN SMALL LETTER U WITH ACUTE', 'LEFT PARENTHESIS', 'CIRCUMFLEX ACCENT', 'LATIN CAPITAL LETTER E WITH CIRCUMFLEX', 'RIGHT CURLY BRACKET', 'LATIN CAPITAL LETTER A WITH ACUTE', 'DEGREE SIGN', 'LATIN CAPITAL LETTER U WITH CIRCUMFLEX', 'SUPERSCRIPT TWO', 'LATIN SMALL LETTER U WITH CIRCUMFLEX', 'COMMERCIAL AT', 'LEFT-POINTING DOUBLE ANGLE QUOTATION MARK', 'SUPERSCRIPT ONE', 'MASCULINE ORDINAL INDICATOR', 'LATIN CAPITAL LETTER O WITH STROKE', 'REVERSE SOLIDUS', 'LATIN SMALL LETTER O WITH STROKE', 'NOT SIGN', 'LATIN CAPITAL LETTER A WITH GRAVE', 'LATIN SMALL LETTER D', 'DIGIT ONE', 'LATIN CAPITAL LETTER D', 'LATIN CAPITAL LETTER K', 'RIGHT SQUARE BRACKET', 'ASTERISK', 'LATIN CAPITAL LETTER F', 'LATIN CAPITAL LETTER A WITH CIRCUMFLEX', 'LATIN SMALL LETTER U WITH GRAVE', 'LATIN CAPITAL LETTER J', 'LATIN SMALL LETTER K', 'LATIN SMALL LETTER E WITH GRAVE', 'LATIN SMALL LETTER P', 'NO-BREAK SPACE', 'LATIN SMALL LETTER U', 'INVERTED QUESTION MARK', 'LATIN CAPITAL LETTER V', 'LATIN CAPITAL LETTER O', 'RIGHT-POINTING DOUBLE ANGLE QUOTATION MARK', 'LATIN SMALL LETTER A WITH GRAVE', 'LATIN CAPITAL LETTER O WITH GRAVE', 'GRAVE ACCENT', 'LATIN CAPITAL LETTER G', 'SOLIDUS', 'LATIN SMALL LETTER Q', 'DIAERESIS', 'LATIN SMALL LETTER A WITH RING ABOVE', 'LATIN SMALL LETTER ETH', 'LATIN SMALL LETTER E', 'LATIN SMALL LETTER A WITH CIRCUMFLEX', 'DIGIT SIX', 'CEDILLA', 'LATIN SMALL LETTER O WITH DIAERESIS', 'LATIN SMALL LETTER L', 'LATIN SMALL LETTER O WITH TILDE', 'LATIN CAPITAL LETTER AE', 'VULGAR FRACTION THREE QUARTERS', 'LATIN SMALL LETTER I WITH DIAERESIS', 'LATIN CAPITAL LETTER N WITH TILDE', 'LATIN SMALL LETTER S', 'LATIN CAPITAL LETTER A', 'DIGIT ZERO', 'LATIN CAPITAL LETTER U WITH ACUTE', 'LATIN SMALL LETTER O WITH GRAVE', 'LATIN SMALL LETTER T', 'CENT SIGN', 'LATIN CAPITAL LETTER S', 'LEFT SQUARE BRACKET', 'COMMA', 'LATIN SMALL LETTER C', 'LATIN SMALL LETTER C WITH CEDILLA', 'LATIN SMALL LETTER N', 'POUND SIGN', 'FEMININE ORDINAL INDICATOR', 'QUOTATION MARK', 'LATIN CAPITAL LETTER ETH', 'LATIN CAPITAL LETTER O WITH TILDE', 'AMPERSAND', 'SOFT HYPHEN', 'LATIN SMALL LETTER R', 'LATIN CAPITAL LETTER E WITH DIAERESIS', 'LATIN CAPITAL LETTER O WITH DIAERESIS', 'LATIN CAPITAL LETTER Z', 'DOLLAR SIGN', 'LOW LINE', 'VULGAR FRACTION ONE QUARTER', 'LATIN CAPITAL LETTER I WITH CIRCUMFLEX', 'PLUS SIGN', 'LATIN SMALL LETTER U WITH DIAERESIS', 'LATIN CAPITAL LETTER O WITH ACUTE', 'LATIN SMALL LETTER W', 'LATIN CAPITAL LETTER A WITH RING ABOVE', 'FULL STOP', 'LATIN CAPITAL LETTER O WITH CIRCUMFLEX', 'LATIN SMALL LETTER AE', 'LATIN CAPITAL LETTER Y WITH ACUTE', 'DIGIT FIVE', 'EQUALS SIGN', 'LATIN CAPITAL LETTER I WITH DIAERESIS', 'LATIN CAPITAL LETTER THORN', 'LATIN SMALL LETTER A WITH TILDE', 'DIGIT SEVEN', 'COLON', 'INVERTED EXCLAMATION MARK', 'LATIN SMALL LETTER A WITH DIAERESIS', 'DIGIT EIGHT', 'LATIN SMALL LETTER F', 'MULTIPLICATION SIGN', 'LATIN CAPITAL LETTER I', 'LATIN SMALL LETTER Y WITH DIAERESIS', 'DIVISION SIGN', 'LATIN SMALL LETTER O WITH ACUTE', 'LATIN SMALL LETTER Y', 'COPYRIGHT SIGN', 'LATIN CAPITAL LETTER R', 'LATIN CAPITAL LETTER I WITH GRAVE', 'RIGHT PARENTHESIS', 'DIGIT TWO', 'DIGIT THREE', 'LATIN SMALL LETTER E WITH CIRCUMFLEX', 'LATIN CAPITAL LETTER E WITH GRAVE', 'NUMBER SIGN', 'HYPHEN-MINUS', 'SPACE', 'LATIN SMALL LETTER G', 'LATIN CAPITAL LETTER L', 'MICRO SIGN', 'LATIN SMALL LETTER V', 'LATIN SMALL LETTER M', 'LATIN CAPITAL LETTER A WITH TILDE', 'LATIN CAPITAL LETTER E', 'QUESTION MARK', 'LATIN SMALL LETTER X', 'LATIN SMALL LETTER O', 'BROKEN BAR', 'EXCLAMATION MARK', 'LATIN CAPITAL LETTER W', 'VULGAR FRACTION ONE HALF'}\n"
          ]
        }
      ]
    },
    {
      "cell_type": "code",
      "source": [
        ""
      ],
      "metadata": {
        "id": "-IcmD1_FEAUM"
      },
      "execution_count": null,
      "outputs": []
    }
  ]
}