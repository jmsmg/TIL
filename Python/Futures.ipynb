{
  "nbformat": 4,
  "nbformat_minor": 0,
  "metadata": {
    "colab": {
      "name": "Futures.ipynb",
      "provenance": [],
      "authorship_tag": "ABX9TyMIqDeeY/B2lYs0m7x9WqHI",
      "include_colab_link": true
    },
    "kernelspec": {
      "name": "python3",
      "display_name": "Python 3"
    },
    "language_info": {
      "name": "python"
    }
  },
  "cells": [
    {
      "cell_type": "markdown",
      "metadata": {
        "id": "view-in-github",
        "colab_type": "text"
      },
      "source": [
        "<a href=\"https://colab.research.google.com/github/jmsmg/TIL/blob/main/Python/Futures.ipynb\" target=\"_parent\"><img src=\"https://colab.research.google.com/assets/colab-badge.svg\" alt=\"Open In Colab\"/></a>"
      ]
    },
    {
      "cell_type": "markdown",
      "source": [
        "# Futures(동시성)\n",
        "  > parallel tasks\n",
        "\n",
        "- 비동기 작업 처리\n",
        "- 파이썬 GIL 설명\n",
        "- 동시성 처리 실습 예제\n",
        "- Process, Thread 예제\n",
        "\n"
      ],
      "metadata": {
        "id": "Q2WzDDueKKDO"
      }
    },
    {
      "cell_type": "code",
      "source": [
        "# Futures 동시성\n",
        "# 비동기 작업 실행\n"
      ],
      "metadata": {
        "id": "Sxzx1ocbKlHr"
      },
      "execution_count": null,
      "outputs": []
    }
  ]
}