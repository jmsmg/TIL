{
  "nbformat": 4,
  "nbformat_minor": 0,
  "metadata": {
    "colab": {
      "name": "Futures.ipynb",
      "provenance": [],
      "authorship_tag": "ABX9TyPGynCxItbF2oi4zYN3jm+n",
      "include_colab_link": true
    },
    "kernelspec": {
      "name": "python3",
      "display_name": "Python 3"
    },
    "language_info": {
      "name": "python"
    }
  },
  "cells": [
    {
      "cell_type": "markdown",
      "metadata": {
        "id": "view-in-github",
        "colab_type": "text"
      },
      "source": [
        "<a href=\"https://colab.research.google.com/github/jmsmg/TIL/blob/main/Python/Futures.ipynb\" target=\"_parent\"><img src=\"https://colab.research.google.com/assets/colab-badge.svg\" alt=\"Open In Colab\"/></a>"
      ]
    },
    {
      "cell_type": "markdown",
      "source": [
        "# Futures(동시성)\n",
        "  > parallel tasks\n",
        "\n",
        "- 비동기 작업 처리\n",
        "- 파이썬 GIL 설명\n",
        "- 동시성 처리 실습 예제\n",
        "- Process, Thread 예제\n",
        "\n"
      ],
      "metadata": {
        "id": "Q2WzDDueKKDO"
      }
    },
    {
      "cell_type": "code",
      "source": [
        "from concurrent.futures.process import ProcessPoolExecutor\n",
        "# Futures 동시성\n",
        "# 비동기 작업 실행\n",
        "# 지연시간(Block) CPU 및 리소스 낭비 방지 -> (File)Network I/O 관련 작업 -> 동시성 활용 권장\n",
        "# 비동기 작업과 적합한 프로그램일 경우 압도적으로 성능 향상\n",
        "\n",
        "# futures : 비동기 실행을 위한 API를 고수준으로 작성 -> 사용하기 쉽도록 개선\n",
        "# concurrent.futures\n",
        "# 1. 멀티 스레딩/멀티프로세싱 API 통일 -> 매우 사용하기 쉬움\n",
        "# 2. 실행중인 작업 취소, 완료 여부 체크, 타임아웃 옵션, 콜백 추가, 동기화 코드 쉽게 작성 -> Promise 개념\n",
        "\n",
        "# 2가지 패턴 실습\n",
        "# concurrent.futures 사용법1\n",
        "# concurrent.futures 사용법2\n",
        "\n",
        "# GIL (파이썬에만 있음) : 두개 이상의 스레드가 동시에 실행 될 때 하나의 자원을 액세스 하는 경우 -> 문제점을 방지하기 위해\n",
        "#                         GIL이 실행 -> 리소스 전체에 락이 걸림 -> Context switch(문맥 교환비용)\n",
        "\n",
        "# GIL : 멀티프로세싱 사용, Cpython\n",
        "\n",
        "import os\n",
        "import time\n",
        "from concurrent.futures import ThreadPoolExecutor, ProcessPoolExecutor, wait, as_completed\n",
        "# import threading\n",
        "# import multiprocessing\n",
        "\n",
        "WORK_LIST = [100000, 1000000, 10000000, 100000000]\n",
        "\n",
        "\n",
        "# 동시성 합계 메인 함수\n",
        "# 누적 합계 함수(제너레이터)\n",
        "\n",
        "def sum_generator(n):\n",
        "  return sum(n for n in range(n, n+1))\n",
        "\n",
        "def main():\n",
        "  # Worker Count\n",
        "  worker = min(10, len(WORK_LIST))\n",
        "\n",
        "  # 시작 시간\n",
        "  start_tm = time.time()\n",
        "\n",
        "  # 결과 건수\n",
        "  # ProcessPoolExcutor\n",
        "  with ThreadPoolExecutor() as excutor:\n",
        "    # map -> 작업 순서 유지, 즉시 실행 \n",
        "    result = excutor.map(sum_generator, WORK_LIST)\n",
        "\n",
        "  # 종료 시간\n",
        "  end_tm = time.time() - start_tm\n",
        "\n",
        "  # 출력 포맷\n",
        "  msg = '\\n Result -> {} Time : {:.2f}s'\n",
        "  \n",
        "  # 최종 결과 출력\n",
        "  print(msg.format(list(result), end_tm))\n",
        "\n",
        "# 실행\n",
        "if __name__ == '__main__': # 시작점 코드\n",
        "  main()"
      ],
      "metadata": {
        "id": "Sxzx1ocbKlHr",
        "colab": {
          "base_uri": "https://localhost:8080/"
        },
        "outputId": "7b67d32f-4280-46a3-ea21-7ade434a3ba7"
      },
      "execution_count": null,
      "outputs": [
        {
          "output_type": "stream",
          "name": "stdout",
          "text": [
            "\n",
            " Result -> [100000, 1000000, 10000000, 100000000] Time : 0.00s\n"
          ]
        }
      ]
    },
    {
      "cell_type": "code",
      "source": [
        "import os\n",
        "import time\n",
        "from concurrent.futures import ThreadPoolExecutor, ProcessPoolExecutor, wait, as_completed\n",
        "# import threading\n",
        "# import multiprocessing\n",
        "\n",
        "WORK_LIST = [100000, 1000000, 10000000, 100000000]\n",
        "\n",
        "def sum_generator(n):\n",
        "  return sum(n for n in range(1, n+1))\n",
        "\n",
        "# wait \n",
        "# as_completed\n",
        "\n",
        "def main():\n",
        "  # Worker Count\n",
        "  worker = min(10, len(WORK_LIST))\n",
        "\n",
        "  # 시작 시간\n",
        "  start_tm = time.time()\n",
        "\n",
        "  futures_list = []\n",
        "\n",
        "  # 결과 건수\n",
        "  # ProcessPoolExecutor\n",
        "  with ProcessPoolExecutor() as excutor:\n",
        "    for work in WORK_LIST:\n",
        "      # future 반환\n",
        "      future = excutor.submit(sum_generator, work)\n",
        "      # 스케줄링\n",
        "      futures_list.append(future)\n",
        "      # 스케줄링 확인\n",
        "      print(f'Scheduled for {work} : {future}')\n",
        "      print()\n",
        "    \n",
        "\n",
        "    # # wait 결과 출력\n",
        "    # result = wait(futures_list, timeout=7)\n",
        "    # # 성공\n",
        "    # print(f'Completed Tasks : {result.done}')\n",
        "    # # 실패\n",
        "    # print(f'Pending ones after waiting for 7seconds : {result.not_done}')\n",
        "    # # 결과값 출력\n",
        "    # print([future.result() for future in result.done])\n",
        "\n",
        "\n",
        "    # as_completed 결과 출력\n",
        "    for future in as_completed(futures_list):\n",
        "      result = future.result()\n",
        "      done = future.done()\n",
        "      cancelled = future.cancelled\n",
        "\n",
        "      # future 결과 확인\n",
        "      print(f'Future Result : {result}, Done : {done}')\n",
        "      print(f'Future cancelled : {cancelled}')\n",
        "\n",
        "\n",
        "  # 종료 시간\n",
        "  end_tm = time.time() - start_tm\n",
        "\n",
        "  # 출력 포맷\n",
        "  msg = '\\n Time : {:.2f}s'\n",
        "  \n",
        "  # 최종 결과 출력\n",
        "  print(msg.format(end_tm))\n",
        "\n",
        "# 실행\n",
        "if __name__ == '__main__': # 시작점 코드\n",
        "  main()"
      ],
      "metadata": {
        "id": "ST_3jluZb5-7",
        "outputId": "60225697-33a2-4ba3-afad-8df5c1203370",
        "colab": {
          "base_uri": "https://localhost:8080/"
        }
      },
      "execution_count": 3,
      "outputs": [
        {
          "output_type": "stream",
          "name": "stdout",
          "text": [
            "Scheduled for 1000000 : <Future at 0x7f9ee0ae4190 state=running>\n",
            "\n",
            "Scheduled for 10000000 : <Future at 0x7f9ee0ae4890 state=pending>\n",
            "\n",
            "Scheduled for 100000000 : <Future at 0x7f9ee0ae4ad0 state=pending>\n",
            "\n",
            "Scheduled for 1000000000 : <Future at 0x7f9ee0ae4d10 state=pending>\n",
            "\n",
            "Future Result : 500000500000, Done : True\n",
            "Future cancelled : <bound method Future.cancelled of <Future at 0x7f9ee0ae4190 state=finished returned int>>\n",
            "Future Result : 50000005000000, Done : True\n",
            "Future cancelled : <bound method Future.cancelled of <Future at 0x7f9ee0ae4890 state=finished returned int>>\n",
            "Future Result : 5000000050000000, Done : True\n",
            "Future cancelled : <bound method Future.cancelled of <Future at 0x7f9ee0ae4ad0 state=finished returned int>>\n",
            "Future Result : 500000000500000000, Done : True\n",
            "Future cancelled : <bound method Future.cancelled of <Future at 0x7f9ee0ae4d10 state=finished returned int>>\n",
            "\n",
            " Time : 73.44s\n"
          ]
        }
      ]
    },
    {
      "cell_type": "code",
      "source": [
        ""
      ],
      "metadata": {
        "id": "YVbiVbmWV7XT"
      },
      "execution_count": null,
      "outputs": []
    }
  ]
}