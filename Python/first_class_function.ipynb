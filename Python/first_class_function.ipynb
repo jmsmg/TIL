{
  "nbformat": 4,
  "nbformat_minor": 0,
  "metadata": {
    "colab": {
      "name": "first-class_function.ipynb",
      "provenance": [],
      "collapsed_sections": [],
      "authorship_tag": "ABX9TyMLXqPzf2rDxRfg1Z6D9qrT",
      "include_colab_link": true
    },
    "kernelspec": {
      "name": "python3",
      "display_name": "Python 3"
    },
    "language_info": {
      "name": "python"
    }
  },
  "cells": [
    {
      "cell_type": "markdown",
      "metadata": {
        "id": "view-in-github",
        "colab_type": "text"
      },
      "source": [
        "<a href=\"https://colab.research.google.com/github/jmsmg/TIL/blob/main/Python/first_class_function.ipynb\" target=\"_parent\"><img src=\"https://colab.research.google.com/assets/colab-badge.svg\" alt=\"Open In Colab\"/></a>"
      ]
    },
    {
      "cell_type": "markdown",
      "source": [
        "# 파이썬 일급 함수(객체)\n",
        "- 파이썬 함수 특징\n",
        "- 익명함수(lambda)\n",
        "- Callable 설명\n",
        "- Partial 사용법"
      ],
      "metadata": {
        "id": "nAMITSAEIvwQ"
      }
    },
    {
      "cell_type": "code",
      "source": [
        "# 파이썬 함수 특징\n",
        "\n",
        "# 1. 런타임 초기화\n",
        "# 2. 변수 할당 가능\n",
        "# 3. 함수 인수 전달 가능\n",
        "# 4. 함수 결과 반환가능(return)\n",
        "\n",
        "# 함수 객체\n",
        "\n",
        "def factorial(n):\n",
        "  ''' Factorial Function -> n : int'''\n",
        "  if n < 2:\n",
        "    return 1\n",
        "  else:\n",
        "    return n * factorial(n-1)\n",
        "\n",
        "class A:\n",
        "  pass\n",
        "\n",
        "# 함수는 객체 취급\n",
        "\n",
        "print(factorial(5))\n",
        "print(factorial.__doc__)\n",
        "print(type(factorial), type(A))\n",
        "print(set(sorted(dir(factorial))) - set(sorted(dir(A)))) # 함수 부분 성질만 출력\n",
        "print(factorial.__name__)\n",
        "print(factorial.__code__)\n",
        "\n",
        "print('--------')\n",
        "print('변수 할당')\n",
        "\n",
        "# 변수 할당\n",
        "var_func = factorial\n",
        "print(var_func)\n",
        "print(var_func(10))\n",
        "print(list(map(var_func, range(1, 11))))\n",
        "\n",
        "# 함수 인수 전달 및 함수로 결과 반환 -> 고위 함수 (higher-order function)\n",
        "# map, filter, reduce\n",
        "# es6\n",
        "\n",
        "print(list(map(var_func, filter(lambda x: x % 2, range(1, 6)))))\n",
        "print([var_func(i) for i in range(1, 6) if i % 2])"
      ],
      "metadata": {
        "colab": {
          "base_uri": "https://localhost:8080/"
        },
        "id": "Sx226MQ7JyXb",
        "outputId": "a604da17-df41-4fc4-acac-01485ac197ba"
      },
      "execution_count": null,
      "outputs": [
        {
          "output_type": "stream",
          "name": "stdout",
          "text": [
            "120\n",
            " Factorial Function -> n : int\n",
            "<class 'function'> <class 'type'>\n",
            "{'__get__', '__annotations__', '__closure__', '__code__', '__globals__', '__kwdefaults__', '__name__', '__qualname__', '__call__', '__defaults__'}\n",
            "factorial\n",
            "<code object factorial at 0x7fe98d27ff60, file \"<ipython-input-7-eb4cce278c25>\", line 10>\n",
            "--------\n",
            "변수 할당\n",
            "<function factorial at 0x7fe98d27f950>\n",
            "3628800\n",
            "[1, 2, 6, 24, 120, 720, 5040, 40320, 362880, 3628800]\n",
            "[1, 6, 120]\n",
            "[1, 6, 120]\n",
            "55\n",
            "55\n"
          ]
        }
      ]
    },
    {
      "cell_type": "code",
      "source": [
        "# reduce\n",
        "from functools import reduce\n",
        "from operator import add\n",
        "\n",
        "print(reduce(add, range(1, 11)))\n",
        "print(sum(range(1, 11))) # 더 빠름\n",
        "\n",
        "# 익명함수(lambda)\n",
        "# 가급적 주석을 작성 (다른 사람이 알 수 없기 때문)\n",
        "# 가급적 함수 작성 (익명함수는 알기 힘들기 때문)\n",
        "# 일반 함수 형태로 리팩토링 권장!!\n",
        "\n",
        "print(reduce(lambda x, t: x + t, range(1, 11)))\n",
        "\n",
        "print('--------')\n",
        "\n",
        "# Callable : 호출 연산자 -> 메소드 형태로 호출 가능한지 확인\n",
        "# 호출 가능 확인 (__call__)\n",
        "\n",
        "print(callable(str))\n",
        "print(callable(str), callable(3.14)) # 3.14()라는 함수는 없기 때문에 False\n",
        "\n",
        "print('-------')\n",
        "\n",
        "# partial 사용법 : 인수 고정 -> 콜백 함수 사용\n",
        "from operator import mul\n",
        "from functools import partial\n",
        "\n",
        "print(mul(10,10))\n",
        "\n",
        "# 인수 고정\n",
        "five = partial(mul, 5) # mul(5, ?) 함수에 5를 고정시켰음\n",
        "\n",
        "# 고정 추가\n",
        "six = partial(five, 6)\n",
        "\n",
        "print(five(10))\n",
        "print(five(100))\n",
        "print([five(i) for i in range(1, 11)])\n",
        "print(list(map(five, range(1, 11))))"
      ],
      "metadata": {
        "colab": {
          "base_uri": "https://localhost:8080/"
        },
        "id": "Ck0IUr9VVk8v",
        "outputId": "e16d9644-1f10-4892-ef61-47387fe1e984"
      },
      "execution_count": null,
      "outputs": [
        {
          "output_type": "stream",
          "name": "stdout",
          "text": [
            "55\n",
            "55\n",
            "55\n",
            "--------\n",
            "True\n",
            "True False\n",
            "-------\n",
            "100\n",
            "50\n",
            "500\n",
            "[5, 10, 15, 20, 25, 30, 35, 40, 45, 50]\n",
            "[5, 10, 15, 20, 25, 30, 35, 40, 45, 50]\n"
          ]
        }
      ]
    },
    {
      "cell_type": "markdown",
      "source": [
        "## Closure\n",
        "  - 파이썬 변수 범위(Scope)\n",
        "  - Global 선언\n",
        "  - 클로저 사용 이유\n",
        "  - Class -> Closure"
      ],
      "metadata": {
        "id": "s8e08rL1gVuP"
      }
    },
    {
      "cell_type": "code",
      "source": [
        "# 클로저 기초\n",
        "\n",
        "# 파이썬 변수 범위(scope)\n",
        "\n",
        "# ex1\n",
        "def func_v1(a):\n",
        "  print(a)\n",
        "  print(b)\n",
        "\n",
        "# func_v1(10)\n",
        "\n",
        "# ex2\n",
        "b = 20\n",
        "\n",
        "def func_v2(a):\n",
        "  print(a)\n",
        "  print(b)\n",
        "\n",
        "func_v2(10)\n",
        "\n",
        "print('--------')\n",
        "\n",
        "# ex3\n",
        "# 변수가 할당되어 있는 상태에서 함수 내 로컬변수를 사용 후에 선언하면 에러가 나옴\n",
        "\n",
        "c = 30\n",
        "\n",
        "def func_v3(a):\n",
        "  global c\n",
        "  print(a)\n",
        "  print(c)\n",
        "  c = 40\n",
        "\n",
        "\n",
        "print(f'전역변수 c :  {c}')\n",
        "func_v3(10)\n",
        "print(f'글로벌 c : {c}') \n"
      ],
      "metadata": {
        "colab": {
          "base_uri": "https://localhost:8080/"
        },
        "id": "aTuwkwv2gheY",
        "outputId": "6c766ca5-301d-4e2c-c3bd-6555d78c3289"
      },
      "execution_count": null,
      "outputs": [
        {
          "output_type": "stream",
          "name": "stdout",
          "text": [
            "10\n",
            "20\n",
            "--------\n",
            "전역변수 c :  30\n",
            "10\n",
            "30\n",
            "글로벌 c : 40\n"
          ]
        }
      ]
    },
    {
      "cell_type": "code",
      "source": [
        "# Clousure (클로저) 사용 이유\n",
        "# 함수 안에서 선언 됐던 변수들은 함수가 비활성화 됐을때 삭제되는데, 클로저는 기억하고 있음\n",
        "\n",
        "# 서버 프로그래밍 -> 동시성(Concurrency) 제어 -> 메모리 공간에 여러 자원이 접근 -> 교착상태(Dead Lock)\n",
        "# 트래픽 증가, DDOS 공격\n",
        "# 메모리를 공유하지 않고 메시지 전달로 처리하기 위한 -> Erlang\n",
        "# 클로저는 공유하되 변경되지 않는(Immutable, Read Only) 적극적으로 사용 -> 함수형 프로그래밍\n",
        "# 클로저는 불변자료구조 및 atom, STM -> 멀티스레드(Coroutine) 프로그래밍 강점\n",
        "\n",
        "# 클로저 : 불변상태 기억, 동시성 제어 가능하게 해줌\n",
        "\n",
        "a = 100\n",
        "\n",
        "print(a + 100)\n",
        "print(a + 1000)\n",
        "\n",
        "# 결과 누적(함수 사용)\n",
        "print(sum(range(1,51)))\n",
        "print(sum(range(51,101)))\n",
        "\n",
        "# 클래스 이용\n",
        "class Averager():\n",
        "  def __init__(self):\n",
        "    self._series = []\n",
        "\n",
        "  def __call__(self, v):\n",
        "    self._series.append(v)\n",
        "    print(f'inner >> {self._series} / {len(self._series)}')\n",
        "    return sum(self._series) / len(self._series)\n",
        "\n",
        "# 인스턴스 생성\n",
        "# _series에 계속 값이 쌓임\n",
        "\n",
        "averager_cls = Averager()\n",
        "averager_cls.__call__(20)\n",
        "averager_cls.__call__(30)"
      ],
      "metadata": {
        "id": "uV7ZzJ1mp96u",
        "outputId": "5f6f91b9-b194-4f0c-a972-d2fda3cc9eb7",
        "colab": {
          "base_uri": "https://localhost:8080/"
        }
      },
      "execution_count": 10,
      "outputs": [
        {
          "output_type": "stream",
          "name": "stdout",
          "text": [
            "200\n",
            "1100\n",
            "1275\n",
            "3775\n",
            "inner >> [20] / 1\n",
            "inner >> [20, 30] / 2\n"
          ]
        },
        {
          "output_type": "execute_result",
          "data": {
            "text/plain": [
              "25.0"
            ]
          },
          "metadata": {},
          "execution_count": 10
        }
      ]
    }
  ]
}