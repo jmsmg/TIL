{
  "nbformat": 4,
  "nbformat_minor": 0,
  "metadata": {
    "colab": {
      "name": "first-class_function.ipynb",
      "provenance": [],
      "collapsed_sections": [],
      "authorship_tag": "ABX9TyN9VwhJtYUkLIzarxzImADD",
      "include_colab_link": true
    },
    "kernelspec": {
      "name": "python3",
      "display_name": "Python 3"
    },
    "language_info": {
      "name": "python"
    }
  },
  "cells": [
    {
      "cell_type": "markdown",
      "metadata": {
        "id": "view-in-github",
        "colab_type": "text"
      },
      "source": [
        "<a href=\"https://colab.research.google.com/github/jmsmg/TIL/blob/main/Python/first_class_function.ipynb\" target=\"_parent\"><img src=\"https://colab.research.google.com/assets/colab-badge.svg\" alt=\"Open In Colab\"/></a>"
      ]
    },
    {
      "cell_type": "markdown",
      "source": [
        "# 파이썬 일급 함수(객체)\n",
        "- 파이썬 함수 특징\n",
        "- 익명함수(lambda)\n",
        "- Callable 설명\n",
        "- Partial 사용법"
      ],
      "metadata": {
        "id": "nAMITSAEIvwQ"
      }
    },
    {
      "cell_type": "code",
      "source": [
        "# 파이썬 함수 특징\n",
        "\n",
        "# 1. 런타임 초기화\n",
        "# 2. 변수 할당 가능\n",
        "# 3. 함수 인수 전달 가능\n",
        "# 4. 함수 결과 반환가능(return)\n",
        "\n",
        "# 함수 객체\n",
        "\n",
        "def factorial(n):\n",
        "  ''' Factorial Function -> n : int'''\n",
        "  if n < 2:\n",
        "    return 1\n",
        "  else:\n",
        "    return n * factorial(n-1)\n",
        "\n",
        "class A:\n",
        "  pass\n",
        "\n",
        "# 함수는 객체 취급\n",
        "\n",
        "print(factorial(5))\n",
        "print(factorial.__doc__)\n",
        "print(type(factorial), type(A))\n",
        "print(set(sorted(dir(factorial))) - set(sorted(dir(A)))) # 함수 부분 성질만 출력\n",
        "print(factorial.__name__)\n",
        "print(factorial.__code__)\n",
        "\n",
        "print('--------')\n",
        "print('변수 할당')\n",
        "\n",
        "# 변수 할당\n",
        "var_func = factorial\n",
        "print(var_func)\n",
        "print(var_func(10))\n",
        "print(list(map(var_func, range(1, 11))))\n",
        "\n",
        "# 함수 인수 전달 및 함수로 결과 반환 -> 고위 함수 (higher-order function)\n",
        "# map, filter, reduce\n",
        "# es6\n",
        "\n",
        "print([var_func(i) for i in range(1, 6) if i % 2])"
      ],
      "metadata": {
        "colab": {
          "base_uri": "https://localhost:8080/"
        },
        "id": "Sx226MQ7JyXb",
        "outputId": "d79c8dbe-5e99-4f55-a6e3-ad0f2a744586"
      },
      "execution_count": 19,
      "outputs": [
        {
          "output_type": "stream",
          "name": "stdout",
          "text": [
            "120\n",
            " Factorial Function -> n : int\n",
            "<class 'function'> <class 'type'>\n",
            "{'__defaults__', '__code__', '__get__', '__kwdefaults__', '__name__', '__qualname__', '__closure__', '__call__', '__globals__', '__annotations__'}\n",
            "factorial\n",
            "<code object factorial at 0x7ff9fdb8db70, file \"<ipython-input-19-b232973155b0>\", line 10>\n",
            "--------\n",
            "변수 할당\n",
            "<function factorial at 0x7ff9fdb96170>\n",
            "3628800\n",
            "[1, 2, 6, 24, 120, 720, 5040, 40320, 362880, 3628800]\n",
            "[1, 6, 120]\n"
          ]
        }
      ]
    },
    {
      "cell_type": "code",
      "source": [
        ""
      ],
      "metadata": {
        "id": "RZ7YeNokK3Qt"
      },
      "execution_count": null,
      "outputs": []
    }
  ]
}