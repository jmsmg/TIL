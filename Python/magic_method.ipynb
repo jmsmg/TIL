{
  "nbformat": 4,
  "nbformat_minor": 0,
  "metadata": {
    "colab": {
      "name": "magic_method.ipynb",
      "provenance": [],
      "collapsed_sections": [],
      "authorship_tag": "ABX9TyOiVU4PxTZZy8gc7wKixFg1",
      "include_colab_link": true
    },
    "kernelspec": {
      "name": "python3",
      "display_name": "Python 3"
    },
    "language_info": {
      "name": "python"
    }
  },
  "cells": [
    {
      "cell_type": "markdown",
      "metadata": {
        "id": "view-in-github",
        "colab_type": "text"
      },
      "source": [
        "<a href=\"https://colab.research.google.com/github/jmsmg/TIL/blob/main/Python/magic_method.ipynb\" target=\"_parent\"><img src=\"https://colab.research.google.com/assets/colab-badge.svg\" alt=\"Open In Colab\"/></a>"
      ]
    },
    {
      "cell_type": "markdown",
      "source": [
        "# Magic Method (Special Method)\n",
        "  > 클래스 안에 정의할 수 있는 특별한(built-in) 메소드\n",
        " \n",
        "- 파이썬의 핵심구조 : Sequence, Iterator, Function, Class\n"
      ],
      "metadata": {
        "id": "MzmjPAnLkPkS"
      }
    },
    {
      "cell_type": "code",
      "source": [
        "# 기본형\n",
        "print(int)\n",
        "print(float)\n",
        "\n",
        "# 모든 속성 및 메소드 출력\n",
        "print(dir(int))\n",
        "print(dir(float))\n",
        "\n",
        "n = 10\n",
        "print(n + 100)\n",
        "print(n.__add__(100))\n",
        "# print(n.__doc__)\n",
        "print((n.__bool__()), bool(n))\n",
        "print(n * 5, n.__mul__(10))"
      ],
      "metadata": {
        "colab": {
          "base_uri": "https://localhost:8080/"
        },
        "id": "VRLVtZYskinw",
        "outputId": "d03cf11d-76a7-4a01-c6fb-9dc3af26aca4"
      },
      "execution_count": 24,
      "outputs": [
        {
          "output_type": "stream",
          "name": "stdout",
          "text": [
            "<class 'int'>\n",
            "<class 'float'>\n",
            "['__abs__', '__add__', '__and__', '__bool__', '__ceil__', '__class__', '__delattr__', '__dir__', '__divmod__', '__doc__', '__eq__', '__float__', '__floor__', '__floordiv__', '__format__', '__ge__', '__getattribute__', '__getnewargs__', '__gt__', '__hash__', '__index__', '__init__', '__init_subclass__', '__int__', '__invert__', '__le__', '__lshift__', '__lt__', '__mod__', '__mul__', '__ne__', '__neg__', '__new__', '__or__', '__pos__', '__pow__', '__radd__', '__rand__', '__rdivmod__', '__reduce__', '__reduce_ex__', '__repr__', '__rfloordiv__', '__rlshift__', '__rmod__', '__rmul__', '__ror__', '__round__', '__rpow__', '__rrshift__', '__rshift__', '__rsub__', '__rtruediv__', '__rxor__', '__setattr__', '__sizeof__', '__str__', '__sub__', '__subclasshook__', '__truediv__', '__trunc__', '__xor__', 'bit_length', 'conjugate', 'denominator', 'from_bytes', 'imag', 'numerator', 'real', 'to_bytes']\n",
            "['__abs__', '__add__', '__bool__', '__class__', '__delattr__', '__dir__', '__divmod__', '__doc__', '__eq__', '__float__', '__floordiv__', '__format__', '__ge__', '__getattribute__', '__getformat__', '__getnewargs__', '__gt__', '__hash__', '__init__', '__init_subclass__', '__int__', '__le__', '__lt__', '__mod__', '__mul__', '__ne__', '__neg__', '__new__', '__pos__', '__pow__', '__radd__', '__rdivmod__', '__reduce__', '__reduce_ex__', '__repr__', '__rfloordiv__', '__rmod__', '__rmul__', '__round__', '__rpow__', '__rsub__', '__rtruediv__', '__set_format__', '__setattr__', '__sizeof__', '__str__', '__sub__', '__subclasshook__', '__truediv__', '__trunc__', 'as_integer_ratio', 'conjugate', 'fromhex', 'hex', 'imag', 'is_integer', 'real']\n",
            "110\n",
            "110\n",
            "True True\n",
            "50 100\n"
          ]
        }
      ]
    },
    {
      "cell_type": "code",
      "source": [
        "# 예제 1\n",
        "# 매직 메소드 직접 구현\n",
        "\n",
        "class fruit:\n",
        "  def __init__(self, name, price):\n",
        "    self._name = name\n",
        "    self._price = price\n",
        "\n",
        "  def __str__(self):\n",
        "    return 'fruit class info : {}, {}'.format(self._name, self._price)\n",
        "\n",
        "  def __add__(self, x):\n",
        "    print('called __add__')\n",
        "    return self._price + x._price \n",
        "  \n",
        "  def __sub__(self, x):\n",
        "    print('called __sub__')\n",
        "    return self._price + x._price\n",
        "\n",
        "  def __le__(self, x):\n",
        "    print('called __le__')\n",
        "    if self._price <= x._price:\n",
        "      return True\n",
        "    else:\n",
        "      return False\n",
        "\n",
        "  def __ge__(self, x):\n",
        "    print('called __ge__')\n",
        "    if self._price >= x._price:\n",
        "      return True\n",
        "    else:\n",
        "      return False\n",
        "\n",
        "s1 = fruit('orange', 1000)\n",
        "s2 = fruit('banana', 3000)\n",
        "\n",
        "print(s1 + s2)\n",
        "print(s1 >= s2)\n",
        "print(s1 <= s2)\n",
        "print(s1 - s2)\n",
        "print(s1)\n",
        "print(s2)"
      ],
      "metadata": {
        "colab": {
          "base_uri": "https://localhost:8080/"
        },
        "id": "sEse8erImnWz",
        "outputId": "08aaaf13-7138-4b63-a800-2f3774640627"
      },
      "execution_count": 38,
      "outputs": [
        {
          "output_type": "stream",
          "name": "stdout",
          "text": [
            "called __add__\n",
            "4000\n",
            "called __ge__\n",
            "False\n",
            "called __le__\n",
            "True\n",
            "called __sub__\n",
            "4000\n",
            "fruit class info : orange, 1000\n",
            "fruit class info : banana, 3000\n"
          ]
        }
      ]
    },
    {
      "cell_type": "code",
      "source": [
        ""
      ],
      "metadata": {
        "id": "FVFy6rLarou-"
      },
      "execution_count": null,
      "outputs": []
    }
  ]
}