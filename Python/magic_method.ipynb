{
  "nbformat": 4,
  "nbformat_minor": 0,
  "metadata": {
    "colab": {
      "name": "magic_method.ipynb",
      "provenance": [],
      "collapsed_sections": [],
      "authorship_tag": "ABX9TyP4LzYyn/nkkwdvPMX4Sciy",
      "include_colab_link": true
    },
    "kernelspec": {
      "name": "python3",
      "display_name": "Python 3"
    },
    "language_info": {
      "name": "python"
    }
  },
  "cells": [
    {
      "cell_type": "markdown",
      "metadata": {
        "id": "view-in-github",
        "colab_type": "text"
      },
      "source": [
        "<a href=\"https://colab.research.google.com/github/jmsmg/TIL/blob/main/Python/magic_method.ipynb\" target=\"_parent\"><img src=\"https://colab.research.google.com/assets/colab-badge.svg\" alt=\"Open In Colab\"/></a>"
      ]
    },
    {
      "cell_type": "markdown",
      "source": [
        "# Magic Method (Special Method)\n",
        "  > 클래스 안에 정의할 수 있는 특별한(built-in) 메소드\n",
        " \n",
        "- 파이썬의 핵심구조 : Sequence, Iterator, Function, Class\n"
      ],
      "metadata": {
        "id": "MzmjPAnLkPkS"
      }
    },
    {
      "cell_type": "code",
      "source": [
        "# 기본형\n",
        "print(int)\n",
        "print(float)\n",
        "\n",
        "# 모든 속성 및 메소드 출력\n",
        "print(dir(int))\n",
        "print(dir(float))\n",
        "\n",
        "n = 10\n",
        "print(n + 100)\n",
        "print(n.__add__(100))\n",
        "# print(n.__doc__)\n",
        "print((n.__bool__()), bool(n))\n",
        "print(n * 5, n.__mul__(10))"
      ],
      "metadata": {
        "colab": {
          "base_uri": "https://localhost:8080/"
        },
        "id": "VRLVtZYskinw",
        "outputId": "d03cf11d-76a7-4a01-c6fb-9dc3af26aca4"
      },
      "execution_count": null,
      "outputs": [
        {
          "output_type": "stream",
          "name": "stdout",
          "text": [
            "<class 'int'>\n",
            "<class 'float'>\n",
            "['__abs__', '__add__', '__and__', '__bool__', '__ceil__', '__class__', '__delattr__', '__dir__', '__divmod__', '__doc__', '__eq__', '__float__', '__floor__', '__floordiv__', '__format__', '__ge__', '__getattribute__', '__getnewargs__', '__gt__', '__hash__', '__index__', '__init__', '__init_subclass__', '__int__', '__invert__', '__le__', '__lshift__', '__lt__', '__mod__', '__mul__', '__ne__', '__neg__', '__new__', '__or__', '__pos__', '__pow__', '__radd__', '__rand__', '__rdivmod__', '__reduce__', '__reduce_ex__', '__repr__', '__rfloordiv__', '__rlshift__', '__rmod__', '__rmul__', '__ror__', '__round__', '__rpow__', '__rrshift__', '__rshift__', '__rsub__', '__rtruediv__', '__rxor__', '__setattr__', '__sizeof__', '__str__', '__sub__', '__subclasshook__', '__truediv__', '__trunc__', '__xor__', 'bit_length', 'conjugate', 'denominator', 'from_bytes', 'imag', 'numerator', 'real', 'to_bytes']\n",
            "['__abs__', '__add__', '__bool__', '__class__', '__delattr__', '__dir__', '__divmod__', '__doc__', '__eq__', '__float__', '__floordiv__', '__format__', '__ge__', '__getattribute__', '__getformat__', '__getnewargs__', '__gt__', '__hash__', '__init__', '__init_subclass__', '__int__', '__le__', '__lt__', '__mod__', '__mul__', '__ne__', '__neg__', '__new__', '__pos__', '__pow__', '__radd__', '__rdivmod__', '__reduce__', '__reduce_ex__', '__repr__', '__rfloordiv__', '__rmod__', '__rmul__', '__round__', '__rpow__', '__rsub__', '__rtruediv__', '__set_format__', '__setattr__', '__sizeof__', '__str__', '__sub__', '__subclasshook__', '__truediv__', '__trunc__', 'as_integer_ratio', 'conjugate', 'fromhex', 'hex', 'imag', 'is_integer', 'real']\n",
            "110\n",
            "110\n",
            "True True\n",
            "50 100\n"
          ]
        }
      ]
    },
    {
      "cell_type": "code",
      "source": [
        "# 예제 1\n",
        "# 매직 메소드 직접 구현\n",
        "\n",
        "class fruit:\n",
        "  def __init__(self, name, price):\n",
        "    self._name = name\n",
        "    self._price = price\n",
        "\n",
        "  def __str__(self):\n",
        "    return 'fruit class info : {}, {}'.format(self._name, self._price)\n",
        "\n",
        "  def __add__(self, x):\n",
        "    print('called __add__')\n",
        "    return self._price + x._price \n",
        "  \n",
        "  def __sub__(self, x):\n",
        "    print('called __sub__')\n",
        "    return self._price + x._price\n",
        "\n",
        "  def __le__(self, x):\n",
        "    print('called __le__')\n",
        "    if self._price <= x._price:\n",
        "      return True\n",
        "    else:\n",
        "      return False\n",
        "\n",
        "  def __ge__(self, x):\n",
        "    print('called __ge__')\n",
        "    if self._price >= x._price:\n",
        "      return True\n",
        "    else:\n",
        "      return False\n",
        "\n",
        "s1 = fruit('orange', 1000)\n",
        "s2 = fruit('banana', 3000)\n",
        "\n",
        "print(s1 + s2)\n",
        "print(s1 >= s2)\n",
        "print(s1 <= s2)\n",
        "print(s1 - s2)\n",
        "print(s1)\n",
        "print(s2)"
      ],
      "metadata": {
        "colab": {
          "base_uri": "https://localhost:8080/"
        },
        "id": "sEse8erImnWz",
        "outputId": "08aaaf13-7138-4b63-a800-2f3774640627"
      },
      "execution_count": null,
      "outputs": [
        {
          "output_type": "stream",
          "name": "stdout",
          "text": [
            "called __add__\n",
            "4000\n",
            "called __ge__\n",
            "False\n",
            "called __le__\n",
            "True\n",
            "called __sub__\n",
            "4000\n",
            "fruit class info : orange, 1000\n",
            "fruit class info : banana, 3000\n"
          ]
        }
      ]
    },
    {
      "cell_type": "code",
      "source": [
        "a = [1, 2]\n",
        "b = [3, 4]\n",
        "c = a + b\n",
        "print(id(a))\n",
        "print(id(b))\n",
        "print(id(c))\n",
        "print(c)"
      ],
      "metadata": {
        "colab": {
          "base_uri": "https://localhost:8080/"
        },
        "id": "FVFy6rLarou-",
        "outputId": "62b6cb7b-d3fb-4818-9d6d-f74995a06d25"
      },
      "execution_count": null,
      "outputs": [
        {
          "output_type": "stream",
          "name": "stdout",
          "text": [
            "140093042298624\n",
            "140093042088528\n",
            "140093042277104\n",
            "[1, 2, 3, 4]\n"
          ]
        }
      ]
    },
    {
      "cell_type": "markdown",
      "source": [
        "# *arg, *kwarg\n",
        "\n",
        "- *arg\n",
        "  - 이름을 *a, *name 등으로 바꾸어도 무방\n",
        "  - 인자를 몇개 넣을지 모를때 사용\n",
        "  - tuple 형태로 반환\n",
        "\n",
        "\n",
        "- **kwarg\n",
        "  - 이름을 **a, **name 등으로 바꾸어도 무방\n",
        "  - key : value 형태로 상황별 값을 지정할 수 있음\n",
        "  - print()문에 end='\\n'"
      ],
      "metadata": {
        "id": "3H0g2P4YXOmM"
      }
    },
    {
      "cell_type": "code",
      "source": [
        "class Vector(object):\n",
        "  def __init__(self, *arg):\n",
        "    '''\n",
        "    Create a vector, example : v = Vector(5, 10)\n",
        "    '''\n",
        "    if len(arg) == 0:\n",
        "      self._x, self_y = 0, 0\n",
        "    else:\n",
        "      self._x, self._y = args\n",
        "\n",
        "  def __repr__(self):\n",
        "    '''Return the vector information'''\n",
        "    return 'Vector(%r, %r)' % (self._x, self._y)\n",
        "\n",
        "  def __add__(self, other):\n",
        "    '''Return the vector addtion of self and other'''\n",
        "    return Vector(self._x + other._x, self._y + other._y)\n",
        "\n",
        "  def __mul__(self, other):\n",
        "    return Vector(self._x * other._x, self._y * other._y)\n",
        "\n",
        "  def __bool__(self):\n",
        "    return bool(max(self._x, self._y))\n",
        "\n",
        "# 인스턴스\n",
        "v1 = Vector(5,1)\n",
        "v2 = Vector()\n",
        "print(Vector.__init__.__doc__)\n"
      ],
      "metadata": {
        "id": "uUzpJryfMpps"
      },
      "execution_count": null,
      "outputs": []
    }
  ]
}