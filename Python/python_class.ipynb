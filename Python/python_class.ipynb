{
  "nbformat": 4,
  "nbformat_minor": 0,
  "metadata": {
    "colab": {
      "name": "python_class.ipynb",
      "provenance": [],
      "collapsed_sections": [],
      "authorship_tag": "ABX9TyP70RaGNjaY8HDyKCYKVSsH",
      "include_colab_link": true
    },
    "kernelspec": {
      "name": "python3",
      "display_name": "Python 3"
    },
    "language_info": {
      "name": "python"
    }
  },
  "cells": [
    {
      "cell_type": "markdown",
      "metadata": {
        "id": "view-in-github",
        "colab_type": "text"
      },
      "source": [
        "<a href=\"https://colab.research.google.com/github/jmsmg/TIL/blob/main/Python/python_class.ipynb\" target=\"_parent\"><img src=\"https://colab.research.google.com/assets/colab-badge.svg\" alt=\"Open In Colab\"/></a>"
      ]
    },
    {
      "cell_type": "markdown",
      "source": [
        "# Class\n",
        "- 절차지향 vs 객체 지향\n",
        "- 객체지향 프로그래밍 장점\n",
        "- 클래스 기반 코딩\n",
        "\n",
        "## 객체 지향 프로그래밍\n",
        "\n",
        "- 객체 지향 프로그래밍(OOP) -> 코드의 재사용, 코드 중복 방지, 유지보수, 대형 프로젝트\n",
        "- 규모가 큰 프로젝트(프로그램) -> 함수 중심 -> 데이터 방대 -> 복잡\n",
        "- 클래스 중심 -> 데이터 중심 -> 객체로 관리\n",
        "\n",
        "## Method\n",
        "- Class Method\n",
        "- Instance Method\n",
        "- Static Method"
      ],
      "metadata": {
        "id": "_g_qdXVnQEq2"
      }
    },
    {
      "cell_type": "code",
      "execution_count": null,
      "metadata": {
        "id": "xfWVwqNEsf30"
      },
      "outputs": [],
      "source": [
        "car_company_1 = 'audi'\n",
        "car_detail_1 =[\n",
        "               {'color' : 'black'},\n",
        "               {'horsepower': 300},\n",
        "               {'price':4000}\n",
        "]\n",
        "\n",
        "car_company_2 = 'bmw'\n",
        "car_detail_2 =[\n",
        "               {'color' : 'white'},\n",
        "               {'horsepower': 270},\n",
        "               {'price': 6000}\n",
        "]\n",
        "\n",
        "car_company_3 = 'benz'\n",
        "car_detail_3 =[\n",
        "               {'color' : 'red'},\n",
        "               {'horsepower': 200},\n",
        "               {'price' : 5000}\n",
        "]\n"
      ]
    },
    {
      "cell_type": "code",
      "source": [
        "# 딕셔너리 구조\n",
        "# 코드 반복 지속, 중첩 문제(키) 키 조회 예외처리\n",
        "\n",
        "car_dict = [\n",
        "            {'car_company': 'audi', 'car_detail': {'color' : 'black', 'horsepower': 300, 'price': 4000}},\n",
        "            {'car_company': 'bmw', 'car_detatil': {'color' : 'white', 'horsepower': 270, 'price': 6000}},\n",
        "            {'car_company': 'benz', 'car_detatil': {'color' : 'red', 'horsepower': 200, 'price': 5000}},\n",
        "\n",
        "]\n",
        "\n",
        "\n",
        "print(car_dict)"
      ],
      "metadata": {
        "id": "0iBxU17aFJ8r"
      },
      "execution_count": null,
      "outputs": []
    },
    {
      "cell_type": "code",
      "source": [
        "# 클래스 구조\n",
        "# 구조 설계 후 재사용성 증가, 코드 반복 최소화\n",
        "\n",
        "class Car():\n",
        "  def __init__(self, company, details):\n",
        "    self._company = company\n",
        "    self._details = details\n",
        "\n",
        "  # 사용자 레벨에서 print 등으로 확인할때 사용 (defalut)\n",
        "  def __str__(self):\n",
        "    return 'str : {} - {}'.format(self._company, self._details)\n",
        "\n",
        "  # 개발자 레벨에서 내부를 볼때 사용 ( ex) 리스트 안에서 호출될땐 repr)\n",
        "  def __repr__(self):\n",
        "    return 'repr : {} - {}'.format(self._company, self._details)\n",
        "\n",
        "car1 = Car('bmw', {'color' : 'white', 'horsepower': 270, 'price': 6000})\n",
        "car2 = Car('audi', {'color' : 'black', 'horsepower': 300, 'price': 4000})\n",
        "car3 = Car('benz', {'color' : 'red', 'horsepower': 200, 'price': 5000})\n",
        "\n",
        "print(car1.__dict__)"
      ],
      "metadata": {
        "colab": {
          "base_uri": "https://localhost:8080/"
        },
        "id": "OlbCDNUSG0tv",
        "outputId": "39425442-b814-46e3-9dc9-018c4f2e0b10"
      },
      "execution_count": null,
      "outputs": [
        {
          "output_type": "stream",
          "name": "stdout",
          "text": [
            "{'_company': 'bmw', '_details': {'color': 'white', 'horsepower': 270, 'price': 6000}}\n"
          ]
        }
      ]
    },
    {
      "cell_type": "markdown",
      "source": [
        "---\n",
        "\n",
        "- self : instance method\n",
        "- 클래스 변수 : 클래스 전체의 변수 (모든 인스턴스가 공유)\n",
        "- 인스턴스 변수 : 인스턴스만의 고유한 변수\n",
        "  - 인스턴스 변수는 보통 앞에 _를 붙임"
      ],
      "metadata": {
        "id": "8zT09a-qLbNZ"
      }
    },
    {
      "cell_type": "code",
      "source": [
        "class Car():\n",
        "  \"\"\"\n",
        "  Car class\n",
        "  Author : Gon\n",
        "  Date: 2022.01.26\n",
        "  \"\"\"\n",
        "\n",
        "  # 클래스 변수\n",
        "  price_per_raise = 1.0\n",
        "  car_count = 0\n",
        "\n",
        "  def __del__(self):\n",
        "  Car.car_count -= 1\n",
        "\n",
        "  def __init__(self, company, details):\n",
        "    self._company = company\n",
        "    self._details = details\n",
        "    Car.car_count += 1\n",
        "\n",
        "  def __str__(self):\n",
        "    return 'str : {} - {}'.format(self._company, self._details)\n",
        "\n",
        "  def __repr__(self):\n",
        "    return 'repr : {} - {}'.format(self._company, self._details)\n",
        "\n",
        "  # Instance Method\n",
        "  # self : 객체의 고유한 속성 값을 사용\n",
        "\n",
        "  def detail_info(self):\n",
        "    print('Current ID : {}'.format(id(self)))\n",
        "    print('Car detail info : {} {}'.format(self._company, self._details.get('price')))\n",
        "\n",
        "\n",
        "  def get_price(self):\n",
        "    return 'Before Car price -> company : {}, price : {}'.format(self._company, self._details.get('price'))\n",
        "\n",
        "  def get_price_culc(self):\n",
        "    return 'After Car price -> company : {}, price : {}'.format(self._company, self._details.get('price') * Car.price_per_raise)\n",
        "\n",
        "  def\n",
        "# self의 의미\n",
        "car1 = Car('bmw', {'color' : 'white', 'horsepower': 270, 'price': 6000})\n",
        "car2 = Car('audi', {'color' : 'black', 'horsepower': 300, 'price': 4000})\n",
        "car3 = Car('benz', {'color' : 'red', 'horsepower': 200, 'price': 5000})\n",
        "\n",
        "# 전체정보\n",
        "car1.detail_info()\n",
        "car2.detail_info()\n",
        "\n",
        "print('---------')\n",
        "\n",
        "# 가격정보\n",
        "# 값에 직접 접근은 좋지 않음\n",
        "# 메소드를 만들어서 전체정보를 출력하는 방식으로 사용\n",
        "\n",
        "print('값에 직접 접근')\n",
        "print(car1._details.get('price'))\n",
        "print(car1._details['price'])\n",
        "\n",
        "print('--------')\n",
        "# id(주소) 확인\n",
        "print('id(인스턴스)')\n",
        "print(id(car1))\n",
        "print(id(car2))\n",
        "print(id(car3))\n",
        "\n",
        "print('---------')\n",
        "\n",
        "print('ar1._company와 car2._company 비교')\n",
        "print(car1._company == car2._company)\n",
        "print(car1 is car2)\n",
        "\n",
        "print('---------')\n",
        "\n",
        "# dir & __dict__ 확인 (상위로부터 상속받는 모든 것을 리스트로 표시하되, 값은 보여주지 않음)\n",
        "\n",
        "print('dir(인스턴스)')\n",
        "print(dir(car1))\n",
        "print(dir(car2))\n",
        "\n",
        "print('---------')\n",
        "\n",
        "# 객체의 속성과 속성의 내용을 보여줌\n",
        "print('인스턴스.__dict__')\n",
        "print(car1.__dict__)\n",
        "print(car2.__dict__)\n",
        "\n",
        "print('---------')\n",
        "\n",
        "# 상세 주석을 표시해줌\n",
        "print('인스턴스.__doc__')\n",
        "print(car1.__doc__)\n",
        "\n",
        "print('---------')\n",
        "\n",
        "print(car1.__class__, car2.__class__)\n",
        "\n",
        "print('---------')\n",
        "\n",
        "print(car1.car_count)\n",
        "\n",
        "print('---------')\n",
        "\n",
        "del car2\n",
        "print(car1.car_count)\n",
        "\n",
        "# 인스턴스 네임스페이스에 없으면 상위에서 검색\n",
        "# 동일한 이름의 변수 생성 가능(인스턴스 검색 후 -> 상위(클래스 변수, 부모 클래스 변수))"
      ],
      "metadata": {
        "colab": {
          "base_uri": "https://localhost:8080/"
        },
        "id": "pCXLBDHb7RnB",
        "outputId": "2c76ab22-57e0-495d-e3b2-5024d48a4135"
      },
      "execution_count": 1,
      "outputs": [
        {
          "output_type": "stream",
          "name": "stdout",
          "text": [
            "Current ID : 140259790680976\n",
            "Car detail info : bmw 6000\n",
            "Current ID : 140259790681232\n",
            "Car detail info : audi 4000\n",
            "---------\n",
            "값에 직접 접근\n",
            "6000\n",
            "6000\n",
            "id(인스턴스)\n",
            "140259790680976\n",
            "140259790681232\n",
            "140259790680336\n",
            "---------\n",
            "ar1._company와 car2._company 비교\n",
            "False\n",
            "False\n",
            "---------\n",
            "dir(인스턴스)\n",
            "['__class__', '__del__', '__delattr__', '__dict__', '__dir__', '__doc__', '__eq__', '__format__', '__ge__', '__getattribute__', '__gt__', '__hash__', '__init__', '__init_subclass__', '__le__', '__lt__', '__module__', '__ne__', '__new__', '__reduce__', '__reduce_ex__', '__repr__', '__setattr__', '__sizeof__', '__str__', '__subclasshook__', '__weakref__', '_company', '_details', 'car_count', 'detail_info', 'price_per_raise']\n",
            "['__class__', '__del__', '__delattr__', '__dict__', '__dir__', '__doc__', '__eq__', '__format__', '__ge__', '__getattribute__', '__gt__', '__hash__', '__init__', '__init_subclass__', '__le__', '__lt__', '__module__', '__ne__', '__new__', '__reduce__', '__reduce_ex__', '__repr__', '__setattr__', '__sizeof__', '__str__', '__subclasshook__', '__weakref__', '_company', '_details', 'car_count', 'detail_info', 'price_per_raise']\n",
            "---------\n",
            "인스턴스.__dict__\n",
            "{'_company': 'bmw', '_details': {'color': 'white', 'horsepower': 270, 'price': 6000}}\n",
            "{'_company': 'audi', '_details': {'color': 'black', 'horsepower': 300, 'price': 4000}}\n",
            "---------\n",
            "인스턴스.__doc__\n",
            "\n",
            "  Car class\n",
            "  Author : Gon\n",
            "  Date: 2022.01.26\n",
            "  \n",
            "---------\n",
            "<class '__main__.Car'> <class '__main__.Car'>\n",
            "---------\n",
            "3\n",
            "---------\n",
            "2\n"
          ]
        }
      ]
    },
    {
      "cell_type": "code",
      "source": [
        ""
      ],
      "metadata": {
        "id": "FfBk-Y5iGIsY"
      },
      "execution_count": null,
      "outputs": []
    }
  ]
}