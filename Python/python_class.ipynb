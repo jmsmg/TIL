{
  "nbformat": 4,
  "nbformat_minor": 0,
  "metadata": {
    "colab": {
      "name": "python_class.ipynb",
      "provenance": [],
      "collapsed_sections": [],
      "authorship_tag": "ABX9TyPY2wqskij1UPLFy8LG6jEx",
      "include_colab_link": true
    },
    "kernelspec": {
      "name": "python3",
      "display_name": "Python 3"
    },
    "language_info": {
      "name": "python"
    }
  },
  "cells": [
    {
      "cell_type": "markdown",
      "metadata": {
        "id": "view-in-github",
        "colab_type": "text"
      },
      "source": [
        "<a href=\"https://colab.research.google.com/github/jmsmg/TIL/blob/main/Python/python_class.ipynb\" target=\"_parent\"><img src=\"https://colab.research.google.com/assets/colab-badge.svg\" alt=\"Open In Colab\"/></a>"
      ]
    },
    {
      "cell_type": "markdown",
      "source": [
        "# Class\n",
        "- 절차지향 vs 객체 지향\n",
        "- 객체지향 프로그래밍 장점\n",
        "- 클래스 기반 코딩\n",
        "\n",
        "## 객체 지향 프로그래밍\n",
        "\n",
        "- 객체 지향 프로그래밍(OOP) -> 코드의 재사용, 코드 중복 방지, 유지보수, 대형 프로젝트\n",
        "- 규모가 큰 프로젝트(프로그램) -> 함수 중심 -> 데이터 방대 -> 복잡\n",
        "- 클래스 중심 -> 데이터 중심 -> 객체로 관리\n"
      ],
      "metadata": {
        "id": "_g_qdXVnQEq2"
      }
    },
    {
      "cell_type": "code",
      "execution_count": null,
      "metadata": {
        "id": "xfWVwqNEsf30"
      },
      "outputs": [],
      "source": [
        "car_company_1 = 'audi'\n",
        "car_detail_1 =[\n",
        "               {'color' : 'black'},\n",
        "               {'horsepower': 300},\n",
        "               {'price':4000}\n",
        "]\n",
        "\n",
        "car_company_2 = 'bmw'\n",
        "car_detail_2 =[\n",
        "               {'color' : 'white'},\n",
        "               {'horsepower': 270},\n",
        "               {'price': 6000}\n",
        "]\n",
        "\n",
        "car_company_3 = 'benz'\n",
        "car_detail_3 =[\n",
        "               {'color' : 'red'},\n",
        "               {'horsepower': 200},\n",
        "               {'price' : 5000}\n",
        "]\n"
      ]
    },
    {
      "cell_type": "code",
      "source": [
        "# 딕셔너리 구조\n",
        "# 코드 반복 지속, 중첩 문제(키) 키 조회 예외처리\n",
        "\n",
        "car_dict = [\n",
        "            {'car_company': 'audi', 'car_detail': {'color' : 'black', 'horsepower': 300, 'price': 4000}},\n",
        "            {'car_company': 'bmw', 'car_detatil': {'color' : 'white', 'horsepower': 270, 'price': 6000}},\n",
        "            {'car_company': 'benz', 'car_detatil': {'color' : 'red', 'horsepower': 200, 'price': 5000}},\n",
        "\n",
        "]\n",
        "\n",
        "\n",
        "print(car_dict)"
      ],
      "metadata": {
        "id": "0iBxU17aFJ8r"
      },
      "execution_count": null,
      "outputs": []
    },
    {
      "cell_type": "code",
      "source": [
        "# 클래스 구조\n",
        "# 구조 설계 후 재사용성 증가, 코드 반복 최소화\n",
        "\n",
        "class Car():\n",
        "  def __init__(self, company, details):\n",
        "    self._company = company\n",
        "    self._details = details\n",
        "\n",
        "  # 사용자 레벨에서 print 등으로 확인할때 사용 (defalut)\n",
        "  def __str__(self):\n",
        "    return 'str : {} - {}'.format(self._company, self._details)\n",
        "\n",
        "  # 개발자 레벨에서 내부를 볼때 사용 ( ex) 리스트 안에서 호출될땐 repr)\n",
        "  def __repr__(self):\n",
        "    return 'repr : {} - {}'.format(self._company, self._details)\n",
        "\n",
        "car1 = Car('bmw', {'color' : 'white', 'horsepower': 270, 'price': 6000})\n",
        "car2 = Car('audi', {'color' : 'black', 'horsepower': 300, 'price': 4000})\n",
        "car3 = Car('benz', {'color' : 'red', 'horsepower': 200, 'price': 5000})\n",
        "\n",
        "print(car1.__dict__)"
      ],
      "metadata": {
        "colab": {
          "base_uri": "https://localhost:8080/"
        },
        "id": "OlbCDNUSG0tv",
        "outputId": "39425442-b814-46e3-9dc9-018c4f2e0b10"
      },
      "execution_count": 29,
      "outputs": [
        {
          "output_type": "stream",
          "name": "stdout",
          "text": [
            "{'_company': 'bmw', '_details': {'color': 'white', 'horsepower': 270, 'price': 6000}}\n"
          ]
        }
      ]
    },
    {
      "cell_type": "code",
      "source": [
        ""
      ],
      "metadata": {
        "id": "8zT09a-qLbNZ"
      },
      "execution_count": null,
      "outputs": []
    }
  ]
}