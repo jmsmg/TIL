{
  "nbformat": 4,
  "nbformat_minor": 0,
  "metadata": {
    "orig_nbformat": 4,
    "colab": {
      "name": "1.인코딩.ipynb",
      "provenance": [],
      "collapsed_sections": []
    },
    "language_info": {
      "name": "python"
    },
    "kernelspec": {
      "name": "python3",
      "display_name": "Python 3"
    }
  },
  "cells": [
    {
      "cell_type": "markdown",
      "metadata": {
        "id": "gABuxid19zli"
      },
      "source": [
        "# 1. [문제](https://www.notion.so/1-0243c9d83a234e70b6e9d357a57bda21)\n",
        "\n",
        "섬으로 향하라!\n",
        "\n",
        "```python\n",
        "'   + -- + - + -   '\n",
        "'   + --- + - +   '\n",
        "'   + -- + - + -   '\n",
        "'   + - + - + - +   '\n",
        "```\n",
        "\n",
        "해(**1**)와 달(**0**),\n",
        "Code의 세상 안으로!(**En-Coding**)"
      ]
    },
    {
      "cell_type": "markdown",
      "metadata": {
        "id": "bo48xm1Z955H"
      },
      "source": [
        "---"
      ]
    },
    {
      "cell_type": "markdown",
      "metadata": {
        "id": "09bNF4cI_-qW"
      },
      "source": [
        "# 2. 리스트화"
      ]
    },
    {
      "cell_type": "code",
      "metadata": {
        "id": "RST1ifT--LI3"
      },
      "source": [
        "text = ['   + -- + - + -   ',\n",
        "        '   + --- + - +   ',\n",
        "        '   + -- + - + -   ',\n",
        "        '   + - + - + - +   ']"
      ],
      "execution_count": 13,
      "outputs": []
    },
    {
      "cell_type": "markdown",
      "metadata": {
        "id": "deVmsjbK_3bM"
      },
      "source": [
        "# 3. 공백제거 및 진법 전환\n",
        "- 내장함수\n",
        "  - strip() 양쪽공백제거\n",
        "    - lstrip() 왼쪽 공백제거, rstrip() 오른쪽 공백제거\n",
        "  - replace(' ',''))\n",
        "\n",
        "  - int(숫자, 진법)\n"
      ]
    },
    {
      "cell_type": "code",
      "metadata": {
        "colab": {
          "base_uri": "https://localhost:8080/"
        },
        "id": "NyIlk_mO-e14",
        "outputId": "595d34a9-ff1a-4375-fe50-1f7fa11660bb"
      },
      "source": [
        "for i in text:\n",
        "  print(int(i.strip().replace(' ','').replace('+','1').replace('-','0'), 2))"
      ],
      "execution_count": 15,
      "outputs": [
        {
          "output_type": "stream",
          "name": "stdout",
          "text": [
            "74\n",
            "69\n",
            "74\n",
            "85\n"
          ]
        }
      ]
    },
    {
      "cell_type": "markdown",
      "metadata": {
        "id": "O9fLd8QgAyRv"
      },
      "source": [
        "# 4. 숫자, 문자 전환\n",
        "- ord() : 문자 -> 숫자\n",
        "- chr() : 숫자 -> 문자"
      ]
    },
    {
      "cell_type": "code",
      "metadata": {
        "colab": {
          "base_uri": "https://localhost:8080/"
        },
        "id": "yed9NX9Z-_af",
        "outputId": "584ab90e-900d-42e1-b2d7-8ff31385dc91"
      },
      "source": [
        "for i in text:\n",
        "  print(chr(int(i.strip().replace(' ','').replace('+','1').replace('-','0'), 2)))"
      ],
      "execution_count": 20,
      "outputs": [
        {
          "output_type": "stream",
          "name": "stdout",
          "text": [
            "J\n",
            "E\n",
            "J\n",
            "U\n"
          ]
        }
      ]
    },
    {
      "cell_type": "markdown",
      "metadata": {
        "id": "Ku4mkf-gB-_D"
      },
      "source": [
        "# 5. for문 활용으로 리스트 원소화\n",
        "- l = [] (빈 리스트 생성)\n",
        "- for i in text:\n",
        "-  l.append(문구)"
      ]
    },
    {
      "cell_type": "code",
      "metadata": {
        "id": "XONc3eeoBQWh"
      },
      "source": [
        "l = []\n",
        "for i in text:\n",
        "  l.append(chr(int(i.strip().replace(' ','').replace('+','1').replace('-','0'), 2)))"
      ],
      "execution_count": 22,
      "outputs": []
    },
    {
      "cell_type": "code",
      "metadata": {
        "colab": {
          "base_uri": "https://localhost:8080/"
        },
        "id": "xH9EANEOBsni",
        "outputId": "0b032596-830f-4872-9392-acfe0b45dba9"
      },
      "source": [
        "l"
      ],
      "execution_count": 23,
      "outputs": [
        {
          "output_type": "execute_result",
          "data": {
            "text/plain": [
              "['J', 'E', 'J', 'U']"
            ]
          },
          "metadata": {},
          "execution_count": 23
        }
      ]
    },
    {
      "cell_type": "markdown",
      "metadata": {
        "id": "8ygskOIXCpcT"
      },
      "source": [
        "# 6. 각각의 원소를 문자열로 합치기\n",
        "- ''.join(리스트)\n",
        "  > '.join(리스트)를 이용하면 매개변수로 들어온 ['a', 'b', 'c'] 이런 식의 리스트를 'abc'의 문자열로 합쳐서 반환\n",
        "\n",
        "- '구분자'.join(리스트)\n",
        "  > '_'.join(['a', 'b', 'c']) 라 하면 \"a_b_c\" 와 같은 형태로 문자열을 만들어서 반환\n"
      ]
    },
    {
      "cell_type": "code",
      "metadata": {
        "colab": {
          "base_uri": "https://localhost:8080/",
          "height": 35
        },
        "id": "s9C47ICCBwKq",
        "outputId": "42039091-b854-4577-9c2a-6987678bd335"
      },
      "source": [
        "''.join(l)"
      ],
      "execution_count": 24,
      "outputs": [
        {
          "output_type": "execute_result",
          "data": {
            "application/vnd.google.colaboratory.intrinsic+json": {
              "type": "string"
            },
            "text/plain": [
              "'JEJU'"
            ]
          },
          "metadata": {},
          "execution_count": 24
        }
      ]
    },
    {
      "cell_type": "markdown",
      "metadata": {
        "id": "z38VyAP9B31Y"
      },
      "source": [
        "---"
      ]
    },
    {
      "cell_type": "markdown",
      "metadata": {
        "id": "p-tm072YDEmo"
      },
      "source": [
        "# 7. 다른 방식\n",
        "- list comprehension 활용"
      ]
    },
    {
      "cell_type": "code",
      "metadata": {
        "colab": {
          "base_uri": "https://localhost:8080/"
        },
        "id": "IPYv1c9SDIEE",
        "outputId": "e57dee4e-221b-41c7-a247-c63b7e944de5"
      },
      "source": [
        "[i for i in text]"
      ],
      "execution_count": 26,
      "outputs": [
        {
          "output_type": "execute_result",
          "data": {
            "text/plain": [
              "['   + -- + - + -   ',\n",
              " '   + --- + - +   ',\n",
              " '   + -- + - + -   ',\n",
              " '   + - + - + - +   ']"
            ]
          },
          "metadata": {},
          "execution_count": 26
        }
      ]
    },
    {
      "cell_type": "code",
      "metadata": {
        "colab": {
          "base_uri": "https://localhost:8080/",
          "height": 35
        },
        "id": "c6JmV-6WDNHT",
        "outputId": "959a3dd5-869e-4dc2-84d9-53ba776ab79d"
      },
      "source": [
        "''.join([chr(int(i.strip().replace(' ','').replace('+','1').replace('-','0'), 2)) for i in text])"
      ],
      "execution_count": 28,
      "outputs": [
        {
          "output_type": "execute_result",
          "data": {
            "application/vnd.google.colaboratory.intrinsic+json": {
              "type": "string"
            },
            "text/plain": [
              "'JEJU'"
            ]
          },
          "metadata": {},
          "execution_count": 28
        }
      ]
    },
    {
      "cell_type": "code",
      "metadata": {
        "id": "RLkxcVzJDhul"
      },
      "source": [
        ""
      ],
      "execution_count": null,
      "outputs": []
    }
  ]
}