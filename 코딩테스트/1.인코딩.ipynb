{
  "nbformat": 4,
  "nbformat_minor": 0,
  "metadata": {
    "orig_nbformat": 4,
    "colab": {
      "name": "1.인코딩.ipynb",
      "provenance": [],
      "collapsed_sections": []
    },
    "language_info": {
      "name": "python"
    },
    "kernelspec": {
      "name": "python3",
      "display_name": "Python 3"
    }
  },
  "cells": [
    {
      "cell_type": "markdown",
      "metadata": {
        "id": "gABuxid19zli"
      },
      "source": [
        "# 1. [문제](https://www.notion.so/1-0243c9d83a234e70b6e9d357a57bda21)\n",
        "\n",
        "섬으로 향하라!\n",
        "\n",
        "```python\n",
        "'   + -- + - + -   '\n",
        "'   + --- + - +   '\n",
        "'   + -- + - + -   '\n",
        "'   + - + - + - +   '\n",
        "```\n",
        "\n",
        "해(**1**)와 달(**0**),\n",
        "Code의 세상 안으로!(**En-Coding**)"
      ]
    },
    {
      "cell_type": "markdown",
      "metadata": {
        "id": "bo48xm1Z955H"
      },
      "source": [
        "---"
      ]
    },
    {
      "cell_type": "markdown",
      "metadata": {
        "id": "09bNF4cI_-qW"
      },
      "source": [
        "# 2. 리스트화"
      ]
    },
    {
      "cell_type": "code",
      "metadata": {
        "id": "RST1ifT--LI3"
      },
      "source": [
        "text = ['   + -- + - + -   ',\n",
        "        '   + --- + - +   ',\n",
        "        '   + -- + - + -   ',\n",
        "        '   + - + - + - +   ']"
      ],
      "execution_count": null,
      "outputs": []
    },
    {
      "cell_type": "markdown",
      "metadata": {
        "id": "deVmsjbK_3bM"
      },
      "source": [
        "# 3. 공백제거 및 진법 전환\n",
        "- 내장함수\n",
        "  - strip() 양쪽공백제거\n",
        "    - lstrip() 왼쪽 공백제거, rstrip() 오른쪽 공백제거\n",
        "  - replace(' ',''))\n",
        "\n",
        "  - int(숫자, 진법)\n"
      ]
    },
    {
      "cell_type": "code",
      "metadata": {
        "colab": {
          "base_uri": "https://localhost:8080/"
        },
        "id": "NyIlk_mO-e14",
        "outputId": "595d34a9-ff1a-4375-fe50-1f7fa11660bb"
      },
      "source": [
        "for i in text:\n",
        "  print(int(i.strip().replace(' ','').replace('+','1').replace('-','0'), 2))"
      ],
      "execution_count": null,
      "outputs": [
        {
          "output_type": "stream",
          "name": "stdout",
          "text": [
            "74\n",
            "69\n",
            "74\n",
            "85\n"
          ]
        }
      ]
    },
    {
      "cell_type": "markdown",
      "metadata": {
        "id": "O9fLd8QgAyRv"
      },
      "source": [
        "# 4. 숫자, 문자 전환\n",
        "- ord() : 문자 -> 숫자\n",
        "- chr() : 숫자 -> 문자"
      ]
    },
    {
      "cell_type": "code",
      "metadata": {
        "colab": {
          "base_uri": "https://localhost:8080/"
        },
        "id": "yed9NX9Z-_af",
        "outputId": "584ab90e-900d-42e1-b2d7-8ff31385dc91"
      },
      "source": [
        "for i in text:\n",
        "  print(chr(int(i.strip().replace(' ','').replace('+','1').replace('-','0'), 2)))"
      ],
      "execution_count": null,
      "outputs": [
        {
          "output_type": "stream",
          "name": "stdout",
          "text": [
            "J\n",
            "E\n",
            "J\n",
            "U\n"
          ]
        }
      ]
    },
    {
      "cell_type": "markdown",
      "metadata": {
        "id": "Ku4mkf-gB-_D"
      },
      "source": [
        "# 5. for문 활용으로 리스트 원소화\n",
        "- l = [] (빈 리스트 생성)\n",
        "- for i in text:\n",
        "-  l.append(문구)"
      ]
    },
    {
      "cell_type": "code",
      "metadata": {
        "id": "XONc3eeoBQWh"
      },
      "source": [
        "l = []\n",
        "for i in text:\n",
        "  l.append(chr(int(i.strip().replace(' ','').replace('+','1').replace('-','0'), 2)))"
      ],
      "execution_count": null,
      "outputs": []
    },
    {
      "cell_type": "code",
      "metadata": {
        "colab": {
          "base_uri": "https://localhost:8080/"
        },
        "id": "xH9EANEOBsni",
        "outputId": "0b032596-830f-4872-9392-acfe0b45dba9"
      },
      "source": [
        "l"
      ],
      "execution_count": null,
      "outputs": [
        {
          "output_type": "execute_result",
          "data": {
            "text/plain": [
              "['J', 'E', 'J', 'U']"
            ]
          },
          "metadata": {},
          "execution_count": 23
        }
      ]
    },
    {
      "cell_type": "markdown",
      "metadata": {
        "id": "8ygskOIXCpcT"
      },
      "source": [
        "# 6. 각각의 원소를 문자열로 합치기\n",
        "- ''.join(리스트)\n",
        "  > '.join(리스트)를 이용하면 매개변수로 들어온 ['a', 'b', 'c'] 이런 식의 리스트를 'abc'의 문자열로 합쳐서 반환\n",
        "\n",
        "- '구분자'.join(리스트)\n",
        "  > '_'.join(['a', 'b', 'c']) 라 하면 \"a_b_c\" 와 같은 형태로 문자열을 만들어서 반환\n"
      ]
    },
    {
      "cell_type": "code",
      "metadata": {
        "colab": {
          "base_uri": "https://localhost:8080/",
          "height": 35
        },
        "id": "s9C47ICCBwKq",
        "outputId": "42039091-b854-4577-9c2a-6987678bd335"
      },
      "source": [
        "''.join(l)"
      ],
      "execution_count": null,
      "outputs": [
        {
          "output_type": "execute_result",
          "data": {
            "application/vnd.google.colaboratory.intrinsic+json": {
              "type": "string"
            },
            "text/plain": [
              "'JEJU'"
            ]
          },
          "metadata": {},
          "execution_count": 24
        }
      ]
    },
    {
      "cell_type": "markdown",
      "metadata": {
        "id": "z38VyAP9B31Y"
      },
      "source": [
        "---"
      ]
    },
    {
      "cell_type": "markdown",
      "metadata": {
        "id": "p-tm072YDEmo"
      },
      "source": [
        "# 7. 다른 방식\n",
        "- list comprehension 활용"
      ]
    },
    {
      "cell_type": "code",
      "metadata": {
        "colab": {
          "base_uri": "https://localhost:8080/"
        },
        "id": "IPYv1c9SDIEE",
        "outputId": "e57dee4e-221b-41c7-a247-c63b7e944de5"
      },
      "source": [
        "[i for i in text]"
      ],
      "execution_count": null,
      "outputs": [
        {
          "output_type": "execute_result",
          "data": {
            "text/plain": [
              "['   + -- + - + -   ',\n",
              " '   + --- + - +   ',\n",
              " '   + -- + - + -   ',\n",
              " '   + - + - + - +   ']"
            ]
          },
          "metadata": {},
          "execution_count": 26
        }
      ]
    },
    {
      "cell_type": "code",
      "metadata": {
        "colab": {
          "base_uri": "https://localhost:8080/",
          "height": 35
        },
        "id": "c6JmV-6WDNHT",
        "outputId": "959a3dd5-869e-4dc2-84d9-53ba776ab79d"
      },
      "source": [
        "''.join([chr(int(i.strip().replace(' ','').replace('+','1').replace('-','0'), 2)) for i in text])"
      ],
      "execution_count": null,
      "outputs": [
        {
          "output_type": "execute_result",
          "data": {
            "application/vnd.google.colaboratory.intrinsic+json": {
              "type": "string"
            },
            "text/plain": [
              "'JEJU'"
            ]
          },
          "metadata": {},
          "execution_count": 28
        }
      ]
    },
    {
      "cell_type": "markdown",
      "metadata": {
        "id": "bR7BG9FGr8f2"
      },
      "source": [
        "---"
      ]
    },
    {
      "cell_type": "markdown",
      "metadata": {
        "id": "4q0G-P8UfOOt"
      },
      "source": [
        "# 8. List comprehension, f-string 활용 구구단 출력"
      ]
    },
    {
      "cell_type": "code",
      "metadata": {
        "id": "RLkxcVzJDhul",
        "colab": {
          "base_uri": "https://localhost:8080/"
        },
        "outputId": "21f31b60-7809-4c40-d7d9-41717390be99"
      },
      "source": [
        "[i for i in range(2,10) if i % 2 == 0]"
      ],
      "execution_count": null,
      "outputs": [
        {
          "output_type": "execute_result",
          "data": {
            "text/plain": [
              "[2, 4, 6, 8]"
            ]
          },
          "metadata": {},
          "execution_count": 3
        }
      ]
    },
    {
      "cell_type": "code",
      "metadata": {
        "id": "NYemb7Servas",
        "colab": {
          "base_uri": "https://localhost:8080/"
        },
        "outputId": "22503e75-daf3-4cd0-ac52-22c8c9ad09cc"
      },
      "source": [
        "[f'{i} X {j} = {i*j}' for i in range(2, 10) for j in range(1, 10)]"
      ],
      "execution_count": 3,
      "outputs": [
        {
          "output_type": "execute_result",
          "data": {
            "text/plain": [
              "['2 X 1 = 2',\n",
              " '2 X 2 = 4',\n",
              " '2 X 3 = 6',\n",
              " '2 X 4 = 8',\n",
              " '2 X 5 = 10',\n",
              " '2 X 6 = 12',\n",
              " '2 X 7 = 14',\n",
              " '2 X 8 = 16',\n",
              " '2 X 9 = 18',\n",
              " '3 X 1 = 3',\n",
              " '3 X 2 = 6',\n",
              " '3 X 3 = 9',\n",
              " '3 X 4 = 12',\n",
              " '3 X 5 = 15',\n",
              " '3 X 6 = 18',\n",
              " '3 X 7 = 21',\n",
              " '3 X 8 = 24',\n",
              " '3 X 9 = 27',\n",
              " '4 X 1 = 4',\n",
              " '4 X 2 = 8',\n",
              " '4 X 3 = 12',\n",
              " '4 X 4 = 16',\n",
              " '4 X 5 = 20',\n",
              " '4 X 6 = 24',\n",
              " '4 X 7 = 28',\n",
              " '4 X 8 = 32',\n",
              " '4 X 9 = 36',\n",
              " '5 X 1 = 5',\n",
              " '5 X 2 = 10',\n",
              " '5 X 3 = 15',\n",
              " '5 X 4 = 20',\n",
              " '5 X 5 = 25',\n",
              " '5 X 6 = 30',\n",
              " '5 X 7 = 35',\n",
              " '5 X 8 = 40',\n",
              " '5 X 9 = 45',\n",
              " '6 X 1 = 6',\n",
              " '6 X 2 = 12',\n",
              " '6 X 3 = 18',\n",
              " '6 X 4 = 24',\n",
              " '6 X 5 = 30',\n",
              " '6 X 6 = 36',\n",
              " '6 X 7 = 42',\n",
              " '6 X 8 = 48',\n",
              " '6 X 9 = 54',\n",
              " '7 X 1 = 7',\n",
              " '7 X 2 = 14',\n",
              " '7 X 3 = 21',\n",
              " '7 X 4 = 28',\n",
              " '7 X 5 = 35',\n",
              " '7 X 6 = 42',\n",
              " '7 X 7 = 49',\n",
              " '7 X 8 = 56',\n",
              " '7 X 9 = 63',\n",
              " '8 X 1 = 8',\n",
              " '8 X 2 = 16',\n",
              " '8 X 3 = 24',\n",
              " '8 X 4 = 32',\n",
              " '8 X 5 = 40',\n",
              " '8 X 6 = 48',\n",
              " '8 X 7 = 56',\n",
              " '8 X 8 = 64',\n",
              " '8 X 9 = 72',\n",
              " '9 X 1 = 9',\n",
              " '9 X 2 = 18',\n",
              " '9 X 3 = 27',\n",
              " '9 X 4 = 36',\n",
              " '9 X 5 = 45',\n",
              " '9 X 6 = 54',\n",
              " '9 X 7 = 63',\n",
              " '9 X 8 = 72',\n",
              " '9 X 9 = 81']"
            ]
          },
          "metadata": {},
          "execution_count": 3
        }
      ]
    },
    {
      "cell_type": "markdown",
      "metadata": {
        "id": "x_JY1A5ljCyi"
      },
      "source": [
        "# 9. 함수\n",
        "- map\n",
        "- zip\n",
        "- zfill()\n",
        "  - 앞에 0을 채워 자릿수만 맞춰줌 (2진 연산에서 활용)"
      ]
    },
    {
      "cell_type": "code",
      "metadata": {
        "colab": {
          "base_uri": "https://localhost:8080/",
          "height": 35
        },
        "id": "J46NsPNYevYu",
        "outputId": "f0925bb0-8a85-4cca-f387-6d1b727f77ea"
      },
      "source": [
        "'111'.zfill(15)"
      ],
      "execution_count": 3,
      "outputs": [
        {
          "output_type": "execute_result",
          "data": {
            "application/vnd.google.colaboratory.intrinsic+json": {
              "type": "string"
            },
            "text/plain": [
              "'000000000000111'"
            ]
          },
          "metadata": {},
          "execution_count": 3
        }
      ]
    },
    {
      "cell_type": "code",
      "metadata": {
        "id": "4_9uAVN9irto"
      },
      "source": [
        ""
      ],
      "execution_count": null,
      "outputs": []
    }
  ]
}