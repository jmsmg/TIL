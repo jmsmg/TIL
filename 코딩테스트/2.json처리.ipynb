{
  "nbformat": 4,
  "nbformat_minor": 0,
  "metadata": {
    "colab": {
      "name": "2.json처리.ipynb",
      "provenance": []
    },
    "kernelspec": {
      "name": "python3",
      "display_name": "Python 3"
    },
    "language_info": {
      "name": "python"
    }
  },
  "cells": [
    {
      "cell_type": "markdown",
      "metadata": {
        "id": "8IKgrAPwrPSg"
      },
      "source": [
        "# 1. [문제](https://www.notion.so/2-JAVA-f8e2a3458b72470a98e37826634e797b)"
      ]
    },
    {
      "cell_type": "code",
      "metadata": {
        "id": "Ju4rcBZszkTI"
      },
      "source": [
        "돌의내구도 = [1, 2, 1, 4]\n",
        "독 = [{\n",
        "    \"이름\" : \"루비독\",\n",
        "    \"나이\" : \"95년생\",\n",
        "    \"점프력\" : \"3\",\n",
        "    \"몸무게\" : \"4\",\n",
        "    },{\n",
        "    \"이름\" : \"피치독\",\n",
        "    \"나이\" : \"95년생\",\n",
        "    \"점프력\" : \"3\",\n",
        "    \"몸무게\" : \"3\",\n",
        "    },{\n",
        "    \"이름\" : \"씨-독\",\n",
        "    \"나이\" : \"72년생\",\n",
        "    \"점프력\" : \"2\",\n",
        "    \"몸무게\" : \"1\",\n",
        "    },{\n",
        "    \"이름\" : \"코볼독\",\n",
        "    \"나이\" : \"59년생\",\n",
        "    \"점프력\" : \"1\",\n",
        "    \"몸무게\" : \"1\",\n",
        "    },\n",
        "]"
      ],
      "execution_count": 6,
      "outputs": []
    },
    {
      "cell_type": "code",
      "metadata": {
        "colab": {
          "base_uri": "https://localhost:8080/"
        },
        "id": "63TWX8Avv7ke",
        "outputId": "b3f24e8f-a67f-43c0-8082-b8ad88f973e6"
      },
      "source": [
        "def 징검다리를건너라(돌의내구도, 독):\n",
        "  answer = [ 독[i]['이름'] for i in range(len(독))]\n",
        "  return answer\n",
        "\n",
        "print(징검다리를건너라(돌의내구도, 독))"
      ],
      "execution_count": 10,
      "outputs": [
        {
          "output_type": "stream",
          "name": "stdout",
          "text": [
            "['루비독', '피치독', '씨-독', '코볼독']\n"
          ]
        }
      ]
    },
    {
      "cell_type": "markdown",
      "metadata": {
        "id": "PHP_UFWI8ipu"
      },
      "source": [
        "---"
      ]
    },
    {
      "cell_type": "code",
      "metadata": {
        "colab": {
          "base_uri": "https://localhost:8080/"
        },
        "id": "bxrez7ttzljP",
        "outputId": "5b873747-b415-4de7-deed-410e14eab797"
      },
      "source": [
        "def 징검다리를건너라(돌의내구도, 독):\n",
        "  answer = [ i['이름'] for i in 독]\n",
        "  return answer\n",
        "\n",
        "print(징검다리를건너라(돌의내구도, 독))"
      ],
      "execution_count": 11,
      "outputs": [
        {
          "output_type": "stream",
          "name": "stdout",
          "text": [
            "['루비독', '피치독', '씨-독', '코볼독']\n"
          ]
        }
      ]
    },
    {
      "cell_type": "code",
      "metadata": {
        "id": "PYxYj9It8heD"
      },
      "source": [
        ""
      ],
      "execution_count": null,
      "outputs": []
    }
  ]
}